{
 "cells": [
  {
   "cell_type": "code",
   "execution_count": 75,
   "metadata": {
    "collapsed": true,
    "pycharm": {
     "name": "#%%\n"
    }
   },
   "outputs": [],
   "source": [
    "import requests\n",
    "import csv\n",
    "import pandas as pd\n",
    "import numpy as np\n",
    "import re\n",
    "from math import ceil"
   ]
  },
  {
   "cell_type": "code",
   "execution_count": 76,
   "outputs": [],
   "source": [
    "def get_request_to_csv(url, csvfile):\n",
    "    # Make a GET request\n",
    "    response = requests.get(url)\n",
    "\n",
    "    # Check if the request was successful\n",
    "    if response.status_code == 200:\n",
    "        data = response.json()[\"data\"]\n",
    "        fieldnames = data[0].keys()\n",
    "\n",
    "        # Write data to a CSV file\n",
    "        with open(csvfile, 'w', newline='', encoding='utf-8-sig') as file:\n",
    "            csv_writer = csv.DictWriter(file, fieldnames=fieldnames)\n",
    "            csv_writer.writeheader()\n",
    "            csv_writer.writerows(data)\n",
    "        print(f'Data has been written to {csv_filename}')\n",
    "    else:\n",
    "        print(f'Failed to retrieve data. Status code: {response.status_code}')"
   ],
   "metadata": {
    "collapsed": false,
    "pycharm": {
     "name": "#%%\n"
    }
   }
  },
  {
   "cell_type": "code",
   "execution_count": 18,
   "outputs": [
    {
     "name": "stdout",
     "output_type": "stream",
     "text": [
      "Data has been written to testdata.csv\n"
     ]
    }
   ],
   "source": [
    "# Example usage\n",
    "api_url = 'http://sarahalghadir.pythonanywhere.com/domainModel/public/getAllProjects'  # Replace with the actual API endpoint\n",
    "csv_filename = 'testdata.csv'\n",
    "get_request_to_csv(api_url, csv_filename)"
   ],
   "metadata": {
    "collapsed": false,
    "pycharm": {
     "name": "#%%\n"
    }
   }
  },
  {
   "cell_type": "code",
   "execution_count": null,
   "outputs": [],
   "source": [
    "# get students\n",
    "api_url = 'http://localhost:8000/studentModel/public/students'  # Replace with the actual API endpoint\n",
    "csv_filename = 'students.csv'\n",
    "get_request_to_csv(api_url, csv_filename)"
   ],
   "metadata": {
    "collapsed": false,
    "pycharm": {
     "name": "#%%\n"
    }
   }
  },
  {
   "cell_type": "code",
   "execution_count": 77,
   "outputs": [
    {
     "name": "stdout",
     "output_type": "stream",
     "text": [
      "Failed to retrieve data. Status code: 500\n"
     ]
    }
   ],
   "source": [
    "# get projects\n",
    "api_url = 'http://sarahalghadir.pythonanywhere.com/domainModel/public/getAllProjects'  # Replace with the actual API endpoint\n",
    "csv_filename = 'projects.csv'\n",
    "get_request_to_csv(api_url, csv_filename)"
   ],
   "metadata": {
    "collapsed": false,
    "pycharm": {
     "name": "#%%\n"
    }
   }
  },
  {
   "cell_type": "code",
   "execution_count": null,
   "outputs": [],
   "source": [
    "students_df = pd.read_csv('students.csv')\n",
    "projects_df = pd.read_csv('projects.csv')\n",
    "students_df.shape"
   ],
   "metadata": {
    "collapsed": false,
    "pycharm": {
     "name": "#%%\n"
    }
   }
  },
  {
   "cell_type": "code",
   "execution_count": null,
   "outputs": [],
   "source": [
    "projects_df.shape"
   ],
   "metadata": {
    "collapsed": false,
    "pycharm": {
     "name": "#%%\n"
    }
   }
  },
  {
   "cell_type": "code",
   "execution_count": null,
   "outputs": [],
   "source": [
    "students_df.columns"
   ],
   "metadata": {
    "collapsed": false,
    "pycharm": {
     "name": "#%%\n"
    }
   }
  },
  {
   "cell_type": "code",
   "execution_count": null,
   "outputs": [],
   "source": [
    "projects_df.columns"
   ],
   "metadata": {
    "collapsed": false,
    "pycharm": {
     "name": "#%%\n"
    }
   }
  },
  {
   "cell_type": "code",
   "execution_count": null,
   "outputs": [],
   "source": [
    "students_df = students_df.rename(columns={\"id\": \"student_id\"})\n",
    "students_df.columns"
   ],
   "metadata": {
    "collapsed": false,
    "pycharm": {
     "name": "#%%\n"
    }
   }
  },
  {
   "cell_type": "code",
   "execution_count": null,
   "outputs": [],
   "source": [
    "projects_df = projects_df.rename(columns={\"id\": \"project_id\"})\n",
    "projects_df.columns"
   ],
   "metadata": {
    "collapsed": false,
    "pycharm": {
     "name": "#%%\n"
    }
   }
  },
  {
   "cell_type": "code",
   "execution_count": null,
   "outputs": [],
   "source": [
    "import ast\n",
    "\n",
    "# Create a new DataFrame with student_id and recommends columns\n",
    "student_recommends_df = students_df[['student_id', 'recommends']].copy()\n",
    "student_recommends_df['recommends'] = student_recommends_df['recommends'].apply(ast.literal_eval)\n",
    "# Explode the recommends column to separate rows\n",
    "student_recommends_df = student_recommends_df.explode('recommends', ignore_index=True)\n",
    "\n",
    "# Extract the 'solved' and 'good_recommend' values from the recommends column\n",
    "student_recommends_df['solved'] = student_recommends_df['recommends'].apply(lambda x: x['solved'])\n",
    "student_recommends_df['good_recommend'] = student_recommends_df['recommends'].apply(lambda x: x['good_recommend'])\n",
    "\n",
    "# Drop the original recommends column\n",
    "student_recommends_df = student_recommends_df.drop(columns=['recommends'])\n",
    "# Display the new DataFrame\n",
    "student_recommends_df"
   ],
   "metadata": {
    "collapsed": false,
    "pycharm": {
     "name": "#%%\n"
    }
   }
  },
  {
   "cell_type": "code",
   "execution_count": null,
   "outputs": [],
   "source": [
    "difficulty_performance_df = students_df[['student_id','difficulty_performance']].copy()\n",
    "time_performance_df = students_df[['student_id','time_performance']].copy()\n",
    "hint_performance_df = students_df[['student_id','hint_performance']].copy()\n",
    "\n",
    "difficulty_performance_df['difficulty_performance'] = difficulty_performance_df['difficulty_performance'].apply(ast.literal_eval)\n",
    "time_performance_df['time_performance'] = time_performance_df['time_performance'].apply(ast.literal_eval)\n",
    "hint_performance_df['hint_performance'] = hint_performance_df['hint_performance'].apply(ast.literal_eval)\n",
    "\n",
    "difficulty_performance_df = difficulty_performance_df.explode('difficulty_performance', ignore_index=True)\n",
    "time_performance_df = time_performance_df.explode('time_performance', ignore_index=True)\n",
    "hint_performance_df = hint_performance_df.explode('hint_performance', ignore_index=True)\n",
    "\n",
    "# Extract the 'solved' and 'good_recommend' values from the recommends column\n",
    "difficulty_performance_df['performance'] = difficulty_performance_df['difficulty_performance'].apply(lambda x: x['performance'])\n",
    "difficulty_performance_df['date'] = difficulty_performance_df['difficulty_performance'].apply(lambda x: x['date'])\n",
    "\n",
    "time_performance_df['performance'] = time_performance_df['time_performance'].apply(lambda x: x['performance'])\n",
    "time_performance_df['date'] = time_performance_df['time_performance'].apply(lambda x: x['date'])\n",
    "\n",
    "hint_performance_df['performance'] = hint_performance_df['hint_performance'].apply(lambda x: x['performance'])\n",
    "hint_performance_df['date'] = hint_performance_df['hint_performance'].apply(lambda x: x['date'])\n",
    "\n",
    "# Drop the original recommends column\n",
    "difficulty_performance_df = difficulty_performance_df.drop(columns=['difficulty_performance'])\n",
    "time_performance_df = time_performance_df.drop(columns=['time_performance'])\n",
    "hint_performance_df = hint_performance_df.drop(columns=['hint_performance'])\n"
   ],
   "metadata": {
    "collapsed": false,
    "pycharm": {
     "name": "#%%\n"
    }
   }
  },
  {
   "cell_type": "code",
   "execution_count": null,
   "outputs": [],
   "source": [
    "difficulty_performance_df"
   ],
   "metadata": {
    "collapsed": false,
    "pycharm": {
     "name": "#%%\n"
    }
   }
  },
  {
   "cell_type": "code",
   "execution_count": null,
   "outputs": [],
   "source": [
    "time_performance_df"
   ],
   "metadata": {
    "collapsed": false,
    "pycharm": {
     "name": "#%%\n"
    }
   }
  },
  {
   "cell_type": "code",
   "execution_count": null,
   "outputs": [],
   "source": [
    "hint_performance_df"
   ],
   "metadata": {
    "collapsed": false,
    "pycharm": {
     "name": "#%%\n"
    }
   }
  },
  {
   "cell_type": "code",
   "execution_count": null,
   "outputs": [],
   "source": [
    "streak\n",
    "personality"
   ],
   "metadata": {
    "collapsed": false,
    "pycharm": {
     "name": "#%%\n"
    }
   }
  }
 ],
 "metadata": {
  "kernelspec": {
   "display_name": "Python 3",
   "language": "python",
   "name": "python3"
  },
  "language_info": {
   "codemirror_mode": {
    "name": "ipython",
    "version": 2
   },
   "file_extension": ".py",
   "mimetype": "text/x-python",
   "name": "python",
   "nbconvert_exporter": "python",
   "pygments_lexer": "ipython2",
   "version": "2.7.6"
  }
 },
 "nbformat": 4,
 "nbformat_minor": 0
}