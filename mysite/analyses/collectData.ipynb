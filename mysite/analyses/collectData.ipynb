{
 "cells": [
  {
   "cell_type": "code",
   "execution_count": 17,
   "metadata": {
    "collapsed": true,
    "pycharm": {
     "name": "#%%\n"
    }
   },
   "outputs": [],
   "source": [
    "import requests\n",
    "import csv\n",
    "import pandas as pd\n",
    "import numpy as np\n",
    "import re\n",
    "from math import ceil"
   ]
  },
  {
   "cell_type": "code",
   "execution_count": 1,
   "outputs": [],
   "source": [
    "def get_request_to_csv(url, csvfile):\n",
    "    # Make a GET request\n",
    "    response = requests.get(url)\n",
    "\n",
    "    # Check if the request was successful\n",
    "    if response.status_code == 200:\n",
    "        data = response.json()[\"data\"]\n",
    "        fieldnames = data[0].keys()\n",
    "\n",
    "        # Write data to a CSV file\n",
    "        with open(csvfile, 'w', newline='', encoding='utf-8-sig') as file:\n",
    "            csv_writer = csv.DictWriter(file, fieldnames=fieldnames)\n",
    "            csv_writer.writeheader()\n",
    "            csv_writer.writerows(data)\n",
    "        print(f'Data has been written to {csv_filename}')\n",
    "    else:\n",
    "        print(f'Failed to retrieve data. Status code: {response.status_code}')"
   ],
   "metadata": {
    "collapsed": false,
    "pycharm": {
     "name": "#%%\n"
    }
   }
  },
  {
   "cell_type": "code",
   "execution_count": 16,
   "outputs": [
    {
     "name": "stdout",
     "output_type": "stream",
     "text": [
      "Data has been written to students.csv\n"
     ]
    }
   ],
   "source": [
    "# get students\n",
    "api_url = 'http://localhost:8000/studentModel/public/students'  # Replace with the actual API endpoint\n",
    "csv_filename = 'students.csv'\n",
    "get_request_to_csv(api_url, csv_filename)"
   ],
   "metadata": {
    "collapsed": false,
    "pycharm": {
     "name": "#%%\n"
    }
   }
  },
  {
   "cell_type": "code",
   "execution_count": 13,
   "outputs": [
    {
     "name": "stdout",
     "output_type": "stream",
     "text": [
      "Data has been written to projects.csv\n"
     ]
    }
   ],
   "source": [
    "# get projects\n",
    "api_url = 'http://localhost:8000/domainModel/public/getAllProjects'  # Replace with the actual API endpoint\n",
    "csv_filename = 'projects.csv'\n",
    "get_request_to_csv(api_url, csv_filename)"
   ],
   "metadata": {
    "collapsed": false,
    "pycharm": {
     "name": "#%%\n"
    }
   }
  },
  {
   "cell_type": "code",
   "execution_count": 28,
   "outputs": [],
   "source": [
    "students_df = pd.read_csv('students.csv')\n",
    "projects_df = pd.read_csv('projects.csv')"
   ],
   "metadata": {
    "collapsed": false,
    "pycharm": {
     "name": "#%%\n"
    }
   }
  },
  {
   "cell_type": "code",
   "execution_count": 32,
   "outputs": [
    {
     "data": {
      "text/plain": "(1, 10)"
     },
     "execution_count": 32,
     "metadata": {},
     "output_type": "execute_result"
    }
   ],
   "source": [
    "students_df.shape"
   ],
   "metadata": {
    "collapsed": false,
    "pycharm": {
     "name": "#%%\n"
    }
   }
  },
  {
   "cell_type": "code",
   "execution_count": 33,
   "outputs": [
    {
     "data": {
      "text/plain": "(140, 6)"
     },
     "execution_count": 33,
     "metadata": {},
     "output_type": "execute_result"
    }
   ],
   "source": [
    "projects_df.shape"
   ],
   "metadata": {
    "collapsed": false,
    "pycharm": {
     "name": "#%%\n"
    }
   }
  },
  {
   "cell_type": "code",
   "execution_count": 34,
   "outputs": [
    {
     "data": {
      "text/plain": "Index(['id', 'xp', 'learning_path', 'difficulty_performance',\n       'time_performance', 'hint_performance', 'student_projects',\n       'recommends', 'streak', 'personality'],\n      dtype='object')"
     },
     "execution_count": 34,
     "metadata": {},
     "output_type": "execute_result"
    }
   ],
   "source": [
    "students_df.columns"
   ],
   "metadata": {
    "collapsed": false,
    "pycharm": {
     "name": "#%%\n"
    }
   }
  },
  {
   "cell_type": "code",
   "execution_count": 35,
   "outputs": [
    {
     "data": {
      "text/plain": "Index(['id', 'difficulties', 'times', 'hints', 'solved_count', 'tried_count'], dtype='object')"
     },
     "execution_count": 35,
     "metadata": {},
     "output_type": "execute_result"
    }
   ],
   "source": [
    "projects_df.columns"
   ],
   "metadata": {
    "collapsed": false,
    "pycharm": {
     "name": "#%%\n"
    }
   }
  },
  {
   "cell_type": "code",
   "execution_count": 36,
   "outputs": [
    {
     "data": {
      "text/plain": "Index(['student_id', 'xp', 'learning_path', 'difficulty_performance',\n       'time_performance', 'hint_performance', 'student_projects',\n       'recommends', 'streak', 'personality'],\n      dtype='object')"
     },
     "execution_count": 36,
     "metadata": {},
     "output_type": "execute_result"
    }
   ],
   "source": [
    "students_df = students_df.rename(columns={\"id\": \"student_id\"})\n",
    "students_df.columns"
   ],
   "metadata": {
    "collapsed": false,
    "pycharm": {
     "name": "#%%\n"
    }
   }
  },
  {
   "cell_type": "code",
   "execution_count": 37,
   "outputs": [
    {
     "data": {
      "text/plain": "Index(['project_id', 'difficulties', 'times', 'hints', 'solved_count',\n       'tried_count'],\n      dtype='object')"
     },
     "execution_count": 37,
     "metadata": {},
     "output_type": "execute_result"
    }
   ],
   "source": [
    "projects_df = projects_df.rename(columns={\"id\": \"project_id\"})\n",
    "projects_df.columns"
   ],
   "metadata": {
    "collapsed": false,
    "pycharm": {
     "name": "#%%\n"
    }
   }
  },
  {
   "cell_type": "code",
   "execution_count": 41,
   "outputs": [
    {
     "data": {
      "text/plain": "   student_id  solved good_recommend\n0           1    True           None\n1           1   False           True",
      "text/html": "<div>\n<style scoped>\n    .dataframe tbody tr th:only-of-type {\n        vertical-align: middle;\n    }\n\n    .dataframe tbody tr th {\n        vertical-align: top;\n    }\n\n    .dataframe thead th {\n        text-align: right;\n    }\n</style>\n<table border=\"1\" class=\"dataframe\">\n  <thead>\n    <tr style=\"text-align: right;\">\n      <th></th>\n      <th>student_id</th>\n      <th>solved</th>\n      <th>good_recommend</th>\n    </tr>\n  </thead>\n  <tbody>\n    <tr>\n      <th>0</th>\n      <td>1</td>\n      <td>True</td>\n      <td>None</td>\n    </tr>\n    <tr>\n      <th>1</th>\n      <td>1</td>\n      <td>False</td>\n      <td>True</td>\n    </tr>\n  </tbody>\n</table>\n</div>"
     },
     "execution_count": 41,
     "metadata": {},
     "output_type": "execute_result"
    }
   ],
   "source": [
    "import ast\n",
    "\n",
    "# Create a new DataFrame with student_id and recommends columns\n",
    "student_recommends_df = students_df[['student_id', 'recommends']].copy()\n",
    "student_recommends_df['recommends'] = student_recommends_df['recommends'].apply(ast.literal_eval)\n",
    "# Explode the recommends column to separate rows\n",
    "student_recommends_df = student_recommends_df.explode('recommends', ignore_index=True)\n",
    "\n",
    "# Extract the 'solved' and 'good_recommend' values from the recommends column\n",
    "student_recommends_df['solved'] = student_recommends_df['recommends'].apply(lambda x: x['solved'])\n",
    "student_recommends_df['good_recommend'] = student_recommends_df['recommends'].apply(lambda x: x['good_recommend'])\n",
    "\n",
    "# Drop the original recommends column\n",
    "student_recommends_df = student_recommends_df.drop(columns=['recommends'])\n",
    "# Display the new DataFrame\n",
    "student_recommends_df"
   ],
   "metadata": {
    "collapsed": false,
    "pycharm": {
     "name": "#%%\n"
    }
   }
  },
  {
   "cell_type": "markdown",
   "source": [
    "precision"
   ],
   "metadata": {
    "collapsed": false,
    "pycharm": {
     "name": "#%% md\n"
    }
   }
  },
  {
   "cell_type": "code",
   "execution_count": null,
   "outputs": [],
   "source": [],
   "metadata": {
    "collapsed": false,
    "pycharm": {
     "name": "#%%\n"
    }
   }
  },
  {
   "cell_type": "markdown",
   "source": [
    "recall"
   ],
   "metadata": {
    "collapsed": false,
    "pycharm": {
     "name": "#%% md\n"
    }
   }
  },
  {
   "cell_type": "code",
   "execution_count": null,
   "outputs": [],
   "source": [],
   "metadata": {
    "collapsed": false,
    "pycharm": {
     "name": "#%%\n"
    }
   }
  },
  {
   "cell_type": "code",
   "execution_count": null,
   "outputs": [],
   "source": [],
   "metadata": {
    "collapsed": false,
    "pycharm": {
     "name": "#%%\n"
    }
   }
  },
  {
   "cell_type": "code",
   "execution_count": 43,
   "outputs": [],
   "source": [
    "difficulty_performance_df = students_df[['student_id','difficulty_performance']].copy()\n",
    "time_performance_df = students_df[['student_id','time_performance']].copy()\n",
    "hint_performance_df = students_df[['student_id','hint_performance']].copy()\n",
    "\n",
    "difficulty_performance_df['difficulty_performance'] = difficulty_performance_df['difficulty_performance'].apply(ast.literal_eval)\n",
    "time_performance_df['time_performance'] = time_performance_df['time_performance'].apply(ast.literal_eval)\n",
    "hint_performance_df['hint_performance'] = hint_performance_df['hint_performance'].apply(ast.literal_eval)\n",
    "\n",
    "difficulty_performance_df = difficulty_performance_df.explode('difficulty_performance', ignore_index=True)\n",
    "time_performance_df = time_performance_df.explode('time_performance', ignore_index=True)\n",
    "hint_performance_df = hint_performance_df.explode('hint_performance', ignore_index=True)\n",
    "\n",
    "# Extract the 'solved' and 'good_recommend' values from the recommends column\n",
    "difficulty_performance_df['performance'] = difficulty_performance_df['difficulty_performance'].apply(lambda x: x['performance'])\n",
    "difficulty_performance_df['date'] = difficulty_performance_df['difficulty_performance'].apply(lambda x: x['date'])\n",
    "\n",
    "time_performance_df['performance'] = time_performance_df['time_performance'].apply(lambda x: x['performance'])\n",
    "time_performance_df['date'] = time_performance_df['time_performance'].apply(lambda x: x['date'])\n",
    "\n",
    "hint_performance_df['performance'] = hint_performance_df['hint_performance'].apply(lambda x: x['performance'])\n",
    "hint_performance_df['date'] = hint_performance_df['hint_performance'].apply(lambda x: x['date'])\n",
    "\n",
    "# Drop the original recommends column\n",
    "difficulty_performance_df = difficulty_performance_df.drop(columns=['difficulty_performance'])\n",
    "time_performance_df = time_performance_df.drop(columns=['time_performance'])\n",
    "hint_performance_df = hint_performance_df.drop(columns=['hint_performance'])\n",
    "# Display the new DataFrame"
   ],
   "metadata": {
    "collapsed": false,
    "pycharm": {
     "name": "#%%\n"
    }
   }
  },
  {
   "cell_type": "code",
   "execution_count": 44,
   "outputs": [
    {
     "data": {
      "text/plain": "   student_id performance                        date\n0           1       0.000  2023-08-10T19:51:15.783099\n1           1      66.430  2023-08-11T23:24:26.231377\n2           1      71.924  2023-08-11T23:26:39.777313",
      "text/html": "<div>\n<style scoped>\n    .dataframe tbody tr th:only-of-type {\n        vertical-align: middle;\n    }\n\n    .dataframe tbody tr th {\n        vertical-align: top;\n    }\n\n    .dataframe thead th {\n        text-align: right;\n    }\n</style>\n<table border=\"1\" class=\"dataframe\">\n  <thead>\n    <tr style=\"text-align: right;\">\n      <th></th>\n      <th>student_id</th>\n      <th>performance</th>\n      <th>date</th>\n    </tr>\n  </thead>\n  <tbody>\n    <tr>\n      <th>0</th>\n      <td>1</td>\n      <td>0.000</td>\n      <td>2023-08-10T19:51:15.783099</td>\n    </tr>\n    <tr>\n      <th>1</th>\n      <td>1</td>\n      <td>66.430</td>\n      <td>2023-08-11T23:24:26.231377</td>\n    </tr>\n    <tr>\n      <th>2</th>\n      <td>1</td>\n      <td>71.924</td>\n      <td>2023-08-11T23:26:39.777313</td>\n    </tr>\n  </tbody>\n</table>\n</div>"
     },
     "execution_count": 44,
     "metadata": {},
     "output_type": "execute_result"
    }
   ],
   "source": [
    "difficulty_performance_df"
   ],
   "metadata": {
    "collapsed": false,
    "pycharm": {
     "name": "#%%\n"
    }
   }
  },
  {
   "cell_type": "code",
   "execution_count": 45,
   "outputs": [
    {
     "data": {
      "text/plain": "   student_id performance                        date\n0           1       0.000  2023-08-10T19:51:15.784094\n1           1       0.000  2023-08-11T23:24:26.464360\n2           1      82.902  2023-08-11T23:26:39.785279",
      "text/html": "<div>\n<style scoped>\n    .dataframe tbody tr th:only-of-type {\n        vertical-align: middle;\n    }\n\n    .dataframe tbody tr th {\n        vertical-align: top;\n    }\n\n    .dataframe thead th {\n        text-align: right;\n    }\n</style>\n<table border=\"1\" class=\"dataframe\">\n  <thead>\n    <tr style=\"text-align: right;\">\n      <th></th>\n      <th>student_id</th>\n      <th>performance</th>\n      <th>date</th>\n    </tr>\n  </thead>\n  <tbody>\n    <tr>\n      <th>0</th>\n      <td>1</td>\n      <td>0.000</td>\n      <td>2023-08-10T19:51:15.784094</td>\n    </tr>\n    <tr>\n      <th>1</th>\n      <td>1</td>\n      <td>0.000</td>\n      <td>2023-08-11T23:24:26.464360</td>\n    </tr>\n    <tr>\n      <th>2</th>\n      <td>1</td>\n      <td>82.902</td>\n      <td>2023-08-11T23:26:39.785279</td>\n    </tr>\n  </tbody>\n</table>\n</div>"
     },
     "execution_count": 45,
     "metadata": {},
     "output_type": "execute_result"
    }
   ],
   "source": [
    "time_performance_df"
   ],
   "metadata": {
    "collapsed": false,
    "pycharm": {
     "name": "#%%\n"
    }
   }
  },
  {
   "cell_type": "code",
   "execution_count": 46,
   "outputs": [
    {
     "data": {
      "text/plain": "   student_id                                        performance  \\\n0           1  {'الأساسيات': 0, 'أنواع البيانات': 0, 'التعامل...   \n1           1  {'أنواع البيانات': 0, 'الأساسيات': 0, 'التعامل...   \n2           1  {'أنواع البيانات': 0, 'الأساسيات': 0, 'التعامل...   \n\n                         date  \n0  2023-08-10T19:51:15.784605  \n1  2023-08-11T23:24:26.696366  \n2  2023-08-11T23:26:39.802692  ",
      "text/html": "<div>\n<style scoped>\n    .dataframe tbody tr th:only-of-type {\n        vertical-align: middle;\n    }\n\n    .dataframe tbody tr th {\n        vertical-align: top;\n    }\n\n    .dataframe thead th {\n        text-align: right;\n    }\n</style>\n<table border=\"1\" class=\"dataframe\">\n  <thead>\n    <tr style=\"text-align: right;\">\n      <th></th>\n      <th>student_id</th>\n      <th>performance</th>\n      <th>date</th>\n    </tr>\n  </thead>\n  <tbody>\n    <tr>\n      <th>0</th>\n      <td>1</td>\n      <td>{'الأساسيات': 0, 'أنواع البيانات': 0, 'التعامل...</td>\n      <td>2023-08-10T19:51:15.784605</td>\n    </tr>\n    <tr>\n      <th>1</th>\n      <td>1</td>\n      <td>{'أنواع البيانات': 0, 'الأساسيات': 0, 'التعامل...</td>\n      <td>2023-08-11T23:24:26.696366</td>\n    </tr>\n    <tr>\n      <th>2</th>\n      <td>1</td>\n      <td>{'أنواع البيانات': 0, 'الأساسيات': 0, 'التعامل...</td>\n      <td>2023-08-11T23:26:39.802692</td>\n    </tr>\n  </tbody>\n</table>\n</div>"
     },
     "execution_count": 46,
     "metadata": {},
     "output_type": "execute_result"
    }
   ],
   "source": [
    "hint_performance_df"
   ],
   "metadata": {
    "collapsed": false,
    "pycharm": {
     "name": "#%%\n"
    }
   }
  },
  {
   "cell_type": "code",
   "execution_count": 47,
   "outputs": [
    {
     "ename": "NameError",
     "evalue": "name 'streak' is not defined",
     "output_type": "error",
     "traceback": [
      "\u001B[1;31m---------------------------------------------------------------------------\u001B[0m",
      "\u001B[1;31mNameError\u001B[0m                                 Traceback (most recent call last)",
      "Cell \u001B[1;32mIn[47], line 1\u001B[0m\n\u001B[1;32m----> 1\u001B[0m \u001B[43mstreak\u001B[49m\n",
      "\u001B[1;31mNameError\u001B[0m: name 'streak' is not defined"
     ]
    }
   ],
   "source": [
    "streak\n",
    "personality"
   ],
   "metadata": {
    "collapsed": false,
    "pycharm": {
     "name": "#%%\n"
    }
   }
  },
  {
   "cell_type": "code",
   "execution_count": null,
   "outputs": [],
   "source": [],
   "metadata": {
    "collapsed": false,
    "pycharm": {
     "name": "#%%\n"
    }
   }
  }
 ],
 "metadata": {
  "kernelspec": {
   "display_name": "Python 3",
   "language": "python",
   "name": "python3"
  },
  "language_info": {
   "codemirror_mode": {
    "name": "ipython",
    "version": 2
   },
   "file_extension": ".py",
   "mimetype": "text/x-python",
   "name": "python",
   "nbconvert_exporter": "python",
   "pygments_lexer": "ipython2",
   "version": "2.7.6"
  }
 },
 "nbformat": 4,
 "nbformat_minor": 0
}