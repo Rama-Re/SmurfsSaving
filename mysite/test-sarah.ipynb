{
 "cells": [
  {
   "cell_type": "code",
   "execution_count": 2,
   "metadata": {
    "collapsed": true,
    "pycharm": {
     "name": "#%%\n"
    }
   },
   "outputs": [],
   "source": [
    "import pandas as pd\n",
    "import numpy as np\n",
    "import re\n",
    "from math import ceil"
   ]
  },
  {
   "cell_type": "code",
   "execution_count": 3,
   "outputs": [],
   "source": [
    "concepts_level={'الأساسيات': 1,\n",
    " 'أنواع البيانات': 2,\n",
    " 'المتغيرات': 2,\n",
    " 'التعامل مع الأعداد': 3,\n",
    " 'التعامل مع النصوص': 3,\n",
    " 'العوامل': 3,\n",
    " 'المصفوفات': 3,\n",
    " 'الدوال': 3,\n",
    " 'الحلقات': 4,\n",
    " 'الشروط': 4}\n",
    "\n",
    "required_concepts = {'الأساسيات': [],\n",
    "                  'أنواع البيانات': ['الأساسيات'],\n",
    "                  'المتغيرات': ['الأساسيات'],\n",
    "                  'التعامل مع الأعداد': ['أنواع البيانات','المتغيرات','الأساسيات'],\n",
    "                  'التعامل مع النصوص': ['أنواع البيانات','المتغيرات','الأساسيات'],\n",
    "                  'العوامل': ['أنواع البيانات','المتغيرات','الأساسيات'],\n",
    "                  'المصفوفات': ['أنواع البيانات','المتغيرات','الأساسيات'],\n",
    "                  'الدوال': ['أنواع البيانات','المتغيرات','الأساسيات'],\n",
    "                  'الحلقات': ['العوامل','أنواع البيانات','المتغيرات','الأساسيات'],\n",
    "                  'الشروط': ['العوامل','أنواع البيانات','المتغيرات','الأساسيات']}\n"
   ],
   "metadata": {
    "collapsed": false,
    "pycharm": {
     "name": "#%%\n"
    }
   }
  },
  {
   "cell_type": "code",
   "execution_count": 4,
   "outputs": [],
   "source": [
    "ex = pd.read_csv('ex_dataset_original.csv')\n",
    "op = pd.read_csv('operators.csv')\n",
    "keywords = pd.read_csv('keywords.csv')"
   ],
   "metadata": {
    "collapsed": false,
    "pycharm": {
     "name": "#%%\n"
    }
   }
  },
  {
   "cell_type": "code",
   "execution_count": 5,
   "outputs": [],
   "source": [
    "keywords['concepts_level'] = keywords['generalConcept'].apply(lambda x: concepts_level.get(x))\n",
    "op['concepts_level'] = op['generalConcept'].apply(lambda x: concepts_level.get(x))\n",
    "generalConcept =keywords.groupby(['generalConcept'])['concepts_level'].first().reset_index()\n",
    "generalConcept.loc[generalConcept.index.max()+1] = pd.Series({'generalConcept': 'المتغيرات', 'concepts_level':2})"
   ],
   "metadata": {
    "collapsed": false,
    "pycharm": {
     "name": "#%%\n"
    }
   }
  },
  {
   "cell_type": "code",
   "execution_count": 6,
   "outputs": [],
   "source": [
    "general_df = pd.DataFrame(columns=['keyword', 'general_concept', 'concept_level'])"
   ],
   "metadata": {
    "collapsed": false,
    "pycharm": {
     "name": "#%%\n"
    }
   }
  },
  {
   "cell_type": "code",
   "execution_count": 7,
   "outputs": [
    {
     "data": {
      "text/plain": "       generalConcept  concepts_level\n0      أنواع البيانات               2\n1           الأساسيات               1\n2  التعامل مع الأعداد               3\n3   التعامل مع النصوص               3\n4             الحلقات               4\n5              الدوال               3\n6              الشروط               4\n7             العوامل               3\n8           المصفوفات               3\n9           المتغيرات               2",
      "text/html": "<div>\n<style scoped>\n    .dataframe tbody tr th:only-of-type {\n        vertical-align: middle;\n    }\n\n    .dataframe tbody tr th {\n        vertical-align: top;\n    }\n\n    .dataframe thead th {\n        text-align: right;\n    }\n</style>\n<table border=\"1\" class=\"dataframe\">\n  <thead>\n    <tr style=\"text-align: right;\">\n      <th></th>\n      <th>generalConcept</th>\n      <th>concepts_level</th>\n    </tr>\n  </thead>\n  <tbody>\n    <tr>\n      <th>0</th>\n      <td>أنواع البيانات</td>\n      <td>2</td>\n    </tr>\n    <tr>\n      <th>1</th>\n      <td>الأساسيات</td>\n      <td>1</td>\n    </tr>\n    <tr>\n      <th>2</th>\n      <td>التعامل مع الأعداد</td>\n      <td>3</td>\n    </tr>\n    <tr>\n      <th>3</th>\n      <td>التعامل مع النصوص</td>\n      <td>3</td>\n    </tr>\n    <tr>\n      <th>4</th>\n      <td>الحلقات</td>\n      <td>4</td>\n    </tr>\n    <tr>\n      <th>5</th>\n      <td>الدوال</td>\n      <td>3</td>\n    </tr>\n    <tr>\n      <th>6</th>\n      <td>الشروط</td>\n      <td>4</td>\n    </tr>\n    <tr>\n      <th>7</th>\n      <td>العوامل</td>\n      <td>3</td>\n    </tr>\n    <tr>\n      <th>8</th>\n      <td>المصفوفات</td>\n      <td>3</td>\n    </tr>\n    <tr>\n      <th>9</th>\n      <td>المتغيرات</td>\n      <td>2</td>\n    </tr>\n  </tbody>\n</table>\n</div>"
     },
     "execution_count": 7,
     "metadata": {},
     "output_type": "execute_result"
    }
   ],
   "source": [
    "generalConcept"
   ],
   "metadata": {
    "collapsed": false,
    "pycharm": {
     "name": "#%%\n"
    }
   }
  },
  {
   "cell_type": "code",
   "execution_count": 8,
   "outputs": [],
   "source": [
    "def remove_comments(code):\n",
    "    code = re.sub(r'\\/\\/.*', '// \\\\n', code)\n",
    "    code = re.sub(r'\\/\\*.*?\\*\\/', '/* */ \\\\n', code, flags=re.DOTALL)\n",
    "    code = code.strip()\n",
    "    code = re.sub(r'^\\s*\\n', '', code, flags=re.MULTILINE)\n",
    "\n",
    "    return code"
   ],
   "metadata": {
    "collapsed": false,
    "pycharm": {
     "name": "#%%\n"
    }
   }
  },
  {
   "cell_type": "code",
   "execution_count": 9,
   "outputs": [],
   "source": [
    "def count_functions(code):\n",
    "    pattern = r'\\w+\\s+\\w+\\(.*\\)\\s*{?'\n",
    "    matches = re.findall(pattern, code)\n",
    "    return len(matches)"
   ],
   "metadata": {
    "collapsed": false,
    "pycharm": {
     "name": "#%%\n"
    }
   }
  },
  {
   "cell_type": "code",
   "execution_count": 10,
   "outputs": [],
   "source": [
    "def remove_main_function(code):\n",
    "    lines = code.split('\\n')\n",
    "    new_lines = []\n",
    "    is_main_function = False\n",
    "\n",
    "    for line in lines:\n",
    "        if 'int main(' in line:\n",
    "            is_main_function = True\n",
    "            new_lines.append('\\n')\n",
    "            continue\n",
    "        elif 'return' in line and is_main_function:\n",
    "            new_lines.append('\\n')\n",
    "            is_main_function = False\n",
    "            continue\n",
    "\n",
    "        new_lines.append(line)\n",
    "\n",
    "    new_code = '\\n'.join(new_lines)\n",
    "    return new_code"
   ],
   "metadata": {
    "collapsed": false,
    "pycharm": {
     "name": "#%%\n"
    }
   }
  },
  {
   "cell_type": "code",
   "execution_count": 11,
   "outputs": [],
   "source": [
    "def detect_concept(code):\n",
    "\n",
    "    # Regular expressions for different declarations\n",
    "    declaration_patterns = {\n",
    "        'الحلقات': r'(?:for\\s*\\([^;]+;[^;]+;[^)]+\\))|(?:while\\s*\\([^)]+\\))|(?:do\\s*\\{[^}]+\\}\\s*while\\s*\\([^)]+\\))',\n",
    "        'الشروط': r'(?:if\\s*\\([^)]+\\)(?:\\s*\\{[^}]*\\})*)|else\\s*if\\s*\\([^)]+\\)(?:\\s*\\{[^}]*\\})*|else(?:\\s*\\{[^}]*\\})*|switch\\s*\\([^)]+\\)(?:\\s*\\{[^}]*\\})*',\n",
    "        #'المتغيرات': r'(?: (?:float|char|int|double|bool)\\s+)+([a-zA-Z_]\\w*)\\s*(?:\\[[^\\]]+\\])?(?:\\s*=\\s*(?:[^,;{}()]+|{.*}))?\\s*(?:,|\\[|\\)|;|\\{)',\n",
    "        'أنواع البيانات': r'\\b(?:unsigned|signed|const|static|extern|volatile|register|auto|bool|char|short|int|long|float|double|void|string)\\b',\n",
    "        'الأساسيات':r'(cin\\s*>>.*|cout\\s*<<|//.* ?|\\/\\*(.|\\n)+?\\*\\/)',\n",
    "        'التعامل مع الأعداد': r'\\b(?:acos|asin|atan|atan2|ceil|cos|cosh|exp|fabs|floor|fmod|frexp|ldexp|log|log10|modf|pow|sin|sinh|sqrt|tan|tanh)\\b',\n",
    "        'التعامل مع النصوص': r'\\b(?: string|\"?\\.(append|substr|length|empty|insert|replace|find))\\b',\n",
    "        'المصفوفات': r'\\b\\w+\\[\\d*\\w*\\]',\n",
    "        #'العوامل': r'(?:\\+=|-=|\\*=|/=|<=|>=|==|!=|&&|\\|\\||%=|<<|>>|>>=|<<=|&=|\\|=|\\^=|\\+\\+|--|\\+|-|\\*|/|%|<|>|&|\\||\\^|!|~|=)',\n",
    "        'الدوال': r'\\b(?:\\w+\\s+)+\\w+\\s*\\([^)]*\\)\\s*(?:const)?\\s*(?:{[^}]*})?'\n",
    "    }\n",
    "    results = {}\n",
    "\n",
    "# Extract declarations for each pattern\n",
    "    for key, pattern in declaration_patterns.items():\n",
    "        results[key] = len(re.findall(pattern, code))\n",
    "    return results"
   ],
   "metadata": {
    "collapsed": false,
    "pycharm": {
     "name": "#%%\n"
    }
   }
  },
  {
   "cell_type": "code",
   "execution_count": 12,
   "outputs": [],
   "source": [
    "def find_general_concepts(code):\n",
    "    code_without_comments = remove_comments(code)\n",
    "    code_without_strings = re.sub(r'\\\".*?\\\"', '', code_without_comments)\n",
    "    new_code = remove_main_function(code_without_strings)\n",
    "\n",
    "    general_concepts_keywords_count = pd.DataFrame(detect_concept(new_code).items(), columns=['generalConcept', 'count'])\n",
    "\n",
    "    general_concepts_keywords_count = general_concepts_keywords_count.drop(general_concepts_keywords_count[general_concepts_keywords_count['count'] == 0].index)\n",
    "\n",
    "    print(general_concepts_keywords_count)\n",
    "    # function_count = count_functions(new_code)\n",
    "    # if function_count:\n",
    "    #     general_concepts_keywords_count = pd.concat([general_concepts_keywords_count, pd.DataFrame({'generalConcept':'الدوال', 'count':function_count, 'concepts_level':3}, index=[0])], ignore_index= True)\n",
    "\n",
    "    general_concepts_keywords_count['concepts_level'] = general_concepts_keywords_count['generalConcept'].apply(lambda x: concepts_level.get(x))\n",
    "\n",
    "    total_keywords_count = general_concepts_keywords_count['count'].sum()\n",
    "\n",
    "    general_concepts = general_concepts_keywords_count['generalConcept'].unique().tolist()\n",
    "    general_concepts_keywords_count['difficulty'] = (general_concepts_keywords_count['concepts_level'] / 4)  * (general_concepts_keywords_count['count'] / total_keywords_count) *100\n",
    "    return general_concepts, (general_concepts_keywords_count.difficulty.sum()), total_keywords_count\n",
    "# divide on len(general_concepts)"
   ],
   "metadata": {
    "collapsed": false,
    "pycharm": {
     "name": "#%%\n"
    }
   }
  },
  {
   "cell_type": "code",
   "execution_count": 13,
   "outputs": [
    {
     "name": "stdout",
     "output_type": "stream",
     "text": [
      "   generalConcept  count\n",
      "0         الحلقات      3\n",
      "2  أنواع البيانات      4\n",
      "3       الأساسيات      3\n",
      "   generalConcept  count\n",
      "0         الحلقات      4\n",
      "2  أنواع البيانات      5\n",
      "3       الأساسيات      6\n",
      "   generalConcept  count\n",
      "0         الحلقات      3\n",
      "2  أنواع البيانات      4\n",
      "3       الأساسيات      5\n",
      "   generalConcept  count\n",
      "0         الحلقات      4\n",
      "2  أنواع البيانات      5\n",
      "3       الأساسيات      6\n",
      "   generalConcept  count\n",
      "0         الحلقات      5\n",
      "2  أنواع البيانات      6\n",
      "3       الأساسيات      8\n",
      "   generalConcept  count\n",
      "0         الحلقات      5\n",
      "2  أنواع البيانات      6\n",
      "3       الأساسيات      8\n",
      "   generalConcept  count\n",
      "0         الحلقات      4\n",
      "2  أنواع البيانات      5\n",
      "3       الأساسيات      7\n",
      "   generalConcept  count\n",
      "0         الحلقات      4\n",
      "2  أنواع البيانات      5\n",
      "3       الأساسيات      7\n",
      "   generalConcept  count\n",
      "0         الحلقات      4\n",
      "2  أنواع البيانات      5\n",
      "3       الأساسيات      7\n",
      "   generalConcept  count\n",
      "0         الحلقات      5\n",
      "2  أنواع البيانات      6\n",
      "3       الأساسيات      7\n",
      "   generalConcept  count\n",
      "0         الحلقات      4\n",
      "1          الشروط      2\n",
      "2  أنواع البيانات      5\n",
      "3       الأساسيات      6\n",
      "   generalConcept  count\n",
      "0         الحلقات      7\n",
      "2  أنواع البيانات      8\n",
      "3       الأساسيات      9\n",
      "   generalConcept  count\n",
      "0         الحلقات      6\n",
      "1          الشروط      2\n",
      "2  أنواع البيانات      7\n",
      "3       الأساسيات      8\n",
      "   generalConcept  count\n",
      "0         الحلقات      7\n",
      "2  أنواع البيانات      8\n",
      "3       الأساسيات     10\n",
      "   generalConcept  count\n",
      "0         الحلقات      6\n",
      "1          الشروط      2\n",
      "2  أنواع البيانات      7\n",
      "3       الأساسيات     10\n",
      "   generalConcept  count\n",
      "0         الحلقات      6\n",
      "1          الشروط      4\n",
      "2  أنواع البيانات      7\n",
      "3       الأساسيات     12\n",
      "   generalConcept  count\n",
      "0         الحلقات      8\n",
      "1          الشروط      4\n",
      "2  أنواع البيانات      9\n",
      "3       الأساسيات     14\n",
      "   generalConcept  count\n",
      "0         الحلقات      4\n",
      "1          الشروط      2\n",
      "2  أنواع البيانات      5\n",
      "3       الأساسيات      8\n",
      "   generalConcept  count\n",
      "0         الحلقات      5\n",
      "1          الشروط      2\n",
      "2  أنواع البيانات      6\n",
      "3       الأساسيات     10\n",
      "   generalConcept  count\n",
      "0         الحلقات      3\n",
      "1          الشروط      2\n",
      "2  أنواع البيانات      4\n",
      "3       الأساسيات      6\n",
      "   generalConcept  count\n",
      "0         الحلقات      3\n",
      "1          الشروط      3\n",
      "2  أنواع البيانات      4\n",
      "3       الأساسيات      6\n",
      "   generalConcept  count\n",
      "0         الحلقات      3\n",
      "1          الشروط      3\n",
      "2  أنواع البيانات      4\n",
      "3       الأساسيات      6\n",
      "   generalConcept  count\n",
      "0         الحلقات      3\n",
      "1          الشروط      3\n",
      "2  أنواع البيانات      4\n",
      "3       الأساسيات      6\n",
      "   generalConcept  count\n",
      "0         الحلقات      3\n",
      "1          الشروط      3\n",
      "2  أنواع البيانات      4\n",
      "3       الأساسيات      6\n",
      "   generalConcept  count\n",
      "0         الحلقات      6\n",
      "1          الشروط      3\n",
      "2  أنواع البيانات      7\n",
      "3       الأساسيات      8\n",
      "7          الدوال      1\n",
      "   generalConcept  count\n",
      "0         الحلقات      3\n",
      "1          الشروط      2\n",
      "2  أنواع البيانات      4\n",
      "3       الأساسيات      6\n",
      "   generalConcept  count\n",
      "0         الحلقات      6\n",
      "1          الشروط      3\n",
      "2  أنواع البيانات      7\n",
      "3       الأساسيات      8\n",
      "7          الدوال      1\n",
      "   generalConcept  count\n",
      "0         الحلقات      3\n",
      "1          الشروط      2\n",
      "2  أنواع البيانات      4\n",
      "3       الأساسيات      6\n",
      "   generalConcept  count\n",
      "0         الحلقات      6\n",
      "1          الشروط      6\n",
      "2  أنواع البيانات      7\n",
      "3       الأساسيات     14\n",
      "7          الدوال      1\n",
      "   generalConcept  count\n",
      "0         الحلقات      6\n",
      "1          الشروط      6\n",
      "2  أنواع البيانات      7\n",
      "3       الأساسيات     14\n",
      "7          الدوال      1\n",
      "   generalConcept  count\n",
      "0         الحلقات      3\n",
      "1          الشروط      3\n",
      "2  أنواع البيانات      4\n",
      "3       الأساسيات      7\n",
      "7          الدوال      1\n",
      "   generalConcept  count\n",
      "0         الحلقات      3\n",
      "1          الشروط      2\n",
      "2  أنواع البيانات      4\n",
      "3       الأساسيات      6\n",
      "   generalConcept  count\n",
      "0         الحلقات      3\n",
      "1          الشروط      2\n",
      "2  أنواع البيانات      4\n",
      "3       الأساسيات      6\n",
      "   generalConcept  count\n",
      "0         الحلقات      3\n",
      "1          الشروط      2\n",
      "2  أنواع البيانات      4\n",
      "3       الأساسيات      6\n",
      "   generalConcept  count\n",
      "0         الحلقات      3\n",
      "1          الشروط      2\n",
      "2  أنواع البيانات      4\n",
      "3       الأساسيات      6\n",
      "   generalConcept  count\n",
      "0         الحلقات      3\n",
      "1          الشروط      2\n",
      "2  أنواع البيانات      4\n",
      "3       الأساسيات      6\n",
      "   generalConcept  count\n",
      "0         الحلقات      3\n",
      "1          الشروط      2\n",
      "2  أنواع البيانات      4\n",
      "3       الأساسيات      6\n",
      "   generalConcept  count\n",
      "0         الحلقات      3\n",
      "1          الشروط      2\n",
      "2  أنواع البيانات      4\n",
      "3       الأساسيات      6\n",
      "   generalConcept  count\n",
      "0         الحلقات      3\n",
      "1          الشروط      2\n",
      "2  أنواع البيانات      4\n",
      "3       الأساسيات      6\n",
      "   generalConcept  count\n",
      "0         الحلقات      3\n",
      "1          الشروط      2\n",
      "2  أنواع البيانات      4\n",
      "3       الأساسيات      6\n",
      "   generalConcept  count\n",
      "0         الحلقات      3\n",
      "1          الشروط      2\n",
      "2  أنواع البيانات      4\n",
      "3       الأساسيات      6\n",
      "   generalConcept  count\n",
      "0         الحلقات      3\n",
      "2  أنواع البيانات      4\n",
      "3       الأساسيات      5\n",
      "   generalConcept  count\n",
      "0         الحلقات      3\n",
      "2  أنواع البيانات      4\n",
      "3       الأساسيات      5\n",
      "   generalConcept  count\n",
      "0         الحلقات      3\n",
      "1          الشروط      2\n",
      "2  أنواع البيانات      4\n",
      "3       الأساسيات      6\n",
      "   generalConcept  count\n",
      "0         الحلقات      3\n",
      "1          الشروط      2\n",
      "2  أنواع البيانات      4\n",
      "3       الأساسيات      6\n",
      "   generalConcept  count\n",
      "0         الحلقات      3\n",
      "1          الشروط      2\n",
      "2  أنواع البيانات      4\n",
      "3       الأساسيات      6\n",
      "   generalConcept  count\n",
      "0         الحلقات      3\n",
      "1          الشروط      2\n",
      "2  أنواع البيانات      4\n",
      "3       الأساسيات      6\n",
      "   generalConcept  count\n",
      "0         الحلقات      3\n",
      "1          الشروط      2\n",
      "2  أنواع البيانات      4\n",
      "3       الأساسيات      6\n",
      "   generalConcept  count\n",
      "0         الحلقات      3\n",
      "1          الشروط      1\n",
      "2  أنواع البيانات      4\n",
      "3       الأساسيات      5\n",
      "   generalConcept  count\n",
      "0         الحلقات      3\n",
      "1          الشروط      1\n",
      "2  أنواع البيانات      4\n",
      "3       الأساسيات      5\n",
      "   generalConcept  count\n",
      "0         الحلقات      3\n",
      "1          الشروط      2\n",
      "2  أنواع البيانات      4\n",
      "3       الأساسيات      6\n",
      "   generalConcept  count\n",
      "0         الحلقات      3\n",
      "1          الشروط      2\n",
      "2  أنواع البيانات      4\n",
      "3       الأساسيات      6\n",
      "   generalConcept  count\n",
      "0         الحلقات      3\n",
      "1          الشروط      2\n",
      "2  أنواع البيانات      4\n",
      "3       الأساسيات      6\n",
      "   generalConcept  count\n",
      "0         الحلقات      3\n",
      "1          الشروط      4\n",
      "2  أنواع البيانات      4\n",
      "3       الأساسيات      8\n",
      "7          الدوال      2\n",
      "   generalConcept  count\n",
      "0         الحلقات      3\n",
      "1          الشروط      4\n",
      "2  أنواع البيانات      4\n",
      "3       الأساسيات      8\n",
      "7          الدوال      2\n",
      "   generalConcept  count\n",
      "0         الحلقات      3\n",
      "1          الشروط      2\n",
      "2  أنواع البيانات      4\n",
      "3       الأساسيات      6\n",
      "   generalConcept  count\n",
      "0         الحلقات      1\n",
      "2  أنواع البيانات      3\n",
      "3       الأساسيات      4\n",
      "   generalConcept  count\n",
      "0         الحلقات      1\n",
      "2  أنواع البيانات      5\n",
      "3       الأساسيات      4\n",
      "      generalConcept  count\n",
      "0            الحلقات      1\n",
      "1             الشروط      3\n",
      "2     أنواع البيانات      6\n",
      "3          الأساسيات      5\n",
      "5  التعامل مع النصوص      2\n",
      "6          المصفوفات      1\n",
      "   generalConcept  count\n",
      "0         الحلقات      1\n",
      "1          الشروط      2\n",
      "2  أنواع البيانات      5\n",
      "3       الأساسيات      5\n",
      "      generalConcept  count\n",
      "0            الحلقات      1\n",
      "1             الشروط      1\n",
      "2     أنواع البيانات     10\n",
      "3          الأساسيات      4\n",
      "5  التعامل مع النصوص      4\n",
      "7             الدوال      1\n",
      "      generalConcept  count\n",
      "0            الحلقات      1\n",
      "2     أنواع البيانات      8\n",
      "3          الأساسيات      3\n",
      "5  التعامل مع النصوص      1\n",
      "6          المصفوفات      1\n",
      "7             الدوال      1\n",
      "      generalConcept  count\n",
      "1             الشروط      2\n",
      "2     أنواع البيانات     12\n",
      "3          الأساسيات      3\n",
      "5  التعامل مع النصوص      3\n",
      "6          المصفوفات      1\n",
      "7             الدوال      1\n",
      "      generalConcept  count\n",
      "1             الشروط      2\n",
      "2     أنواع البيانات     14\n",
      "3          الأساسيات      3\n",
      "5  التعامل مع النصوص      3\n",
      "6          المصفوفات      1\n",
      "7             الدوال      1\n",
      "      generalConcept  count\n",
      "0            الحلقات      1\n",
      "2     أنواع البيانات      8\n",
      "3          الأساسيات      3\n",
      "5  التعامل مع النصوص      1\n",
      "6          المصفوفات      2\n",
      "7             الدوال      1\n",
      "      generalConcept  count\n",
      "0            الحلقات      1\n",
      "1             الشروط      2\n",
      "2     أنواع البيانات      6\n",
      "3          الأساسيات     16\n",
      "5  التعامل مع النصوص      8\n",
      "6          المصفوفات      1\n",
      "      generalConcept  count\n",
      "0            الحلقات      1\n",
      "1             الشروط      1\n",
      "2     أنواع البيانات      5\n",
      "3          الأساسيات      5\n",
      "5  التعامل مع النصوص      1\n",
      "6          المصفوفات      1\n",
      "      generalConcept  count\n",
      "0            الحلقات      1\n",
      "1             الشروط      2\n",
      "2     أنواع البيانات      8\n",
      "3          الأساسيات      3\n",
      "5  التعامل مع النصوص      2\n",
      "6          المصفوفات      1\n",
      "7             الدوال      1\n",
      "      generalConcept  count\n",
      "0            الحلقات      1\n",
      "1             الشروط      2\n",
      "2     أنواع البيانات     10\n",
      "3          الأساسيات      2\n",
      "5  التعامل مع النصوص      2\n",
      "6          المصفوفات      1\n",
      "7             الدوال      2\n",
      "      generalConcept  count\n",
      "0            الحلقات      3\n",
      "1             الشروط      5\n",
      "2     أنواع البيانات     11\n",
      "3          الأساسيات      3\n",
      "5  التعامل مع النصوص      2\n",
      "6          المصفوفات      7\n",
      "7             الدوال      1\n",
      "      generalConcept  count\n",
      "0            الحلقات      1\n",
      "1             الشروط      3\n",
      "2     أنواع البيانات      5\n",
      "3          الأساسيات      6\n",
      "5  التعامل مع النصوص      1\n",
      "6          المصفوفات      2\n",
      "      generalConcept  count\n",
      "0            الحلقات      1\n",
      "1             الشروط      3\n",
      "2     أنواع البيانات      6\n",
      "3          الأساسيات      6\n",
      "5  التعامل مع النصوص      3\n",
      "6          المصفوفات      2\n",
      "   generalConcept  count\n",
      "0         الحلقات      1\n",
      "2  أنواع البيانات      3\n",
      "3       الأساسيات      6\n",
      "   generalConcept  count\n",
      "0         الحلقات      1\n",
      "2  أنواع البيانات      3\n",
      "3       الأساسيات      6\n",
      "   generalConcept  count\n",
      "1          الشروط      2\n",
      "2  أنواع البيانات      2\n",
      "3       الأساسيات      7\n",
      "   generalConcept  count\n",
      "1          الشروط      2\n",
      "2  أنواع البيانات      2\n",
      "3       الأساسيات      7\n",
      "   generalConcept  count\n",
      "2  أنواع البيانات      2\n",
      "3       الأساسيات      9\n",
      "   generalConcept  count\n",
      "1          الشروط      3\n",
      "2  أنواع البيانات      2\n",
      "3       الأساسيات      9\n",
      "7          الدوال      1\n",
      "   generalConcept  count\n",
      "1          الشروط      3\n",
      "2  أنواع البيانات      2\n",
      "3       الأساسيات      8\n",
      "7          الدوال      1\n",
      "   generalConcept  count\n",
      "2  أنواع البيانات      2\n",
      "3       الأساسيات      8\n",
      "   generalConcept  count\n",
      "1          الشروط      3\n",
      "2  أنواع البيانات      2\n",
      "3       الأساسيات      8\n",
      "7          الدوال      1\n",
      "   generalConcept  count\n",
      "2  أنواع البيانات      2\n",
      "3       الأساسيات      8\n",
      "   generalConcept  count\n",
      "0         الحلقات      2\n",
      "2  أنواع البيانات      3\n",
      "3       الأساسيات      3\n",
      "   generalConcept  count\n",
      "0         الحلقات      1\n",
      "1          الشروط      1\n",
      "2  أنواع البيانات      3\n",
      "3       الأساسيات     14\n",
      "   generalConcept  count\n",
      "2  أنواع البيانات      2\n",
      "3       الأساسيات     12\n",
      "   generalConcept  count\n",
      "1          الشروط      1\n",
      "2  أنواع البيانات      2\n",
      "3       الأساسيات     17\n",
      "   generalConcept  count\n",
      "0         الحلقات      2\n",
      "2  أنواع البيانات      3\n",
      "3       الأساسيات      4\n",
      "   generalConcept  count\n",
      "0         الحلقات      2\n",
      "2  أنواع البيانات      3\n",
      "3       الأساسيات      4\n",
      "   generalConcept  count\n",
      "0         الحلقات      2\n",
      "1          الشروط      2\n",
      "2  أنواع البيانات      3\n",
      "3       الأساسيات      4\n",
      "   generalConcept  count\n",
      "0         الحلقات      2\n",
      "2  أنواع البيانات      4\n",
      "3       الأساسيات      4\n",
      "   generalConcept  count\n",
      "0         الحلقات      2\n",
      "1          الشروط      2\n",
      "2  أنواع البيانات      6\n",
      "3       الأساسيات      4\n",
      "   generalConcept  count\n",
      "0         الحلقات      2\n",
      "2  أنواع البيانات      4\n",
      "3       الأساسيات      4\n",
      "   generalConcept  count\n",
      "0         الحلقات      2\n",
      "1          الشروط      2\n",
      "2  أنواع البيانات      6\n",
      "3       الأساسيات      4\n",
      "   generalConcept  count\n",
      "0         الحلقات      2\n",
      "1          الشروط      2\n",
      "2  أنواع البيانات      6\n",
      "3       الأساسيات      4\n",
      "   generalConcept  count\n",
      "0         الحلقات      2\n",
      "2  أنواع البيانات      5\n",
      "3       الأساسيات      4\n",
      "   generalConcept  count\n",
      "0         الحلقات      2\n",
      "1          الشروط      2\n",
      "2  أنواع البيانات      5\n",
      "3       الأساسيات      4\n",
      "   generalConcept  count\n",
      "0         الحلقات      2\n",
      "1          الشروط      2\n",
      "2  أنواع البيانات      5\n",
      "3       الأساسيات      4\n",
      "   generalConcept  count\n",
      "0         الحلقات      2\n",
      "1          الشروط      2\n",
      "2  أنواع البيانات      5\n",
      "3       الأساسيات      4\n",
      "   generalConcept  count\n",
      "0         الحلقات      2\n",
      "1          الشروط      1\n",
      "2  أنواع البيانات      5\n",
      "3       الأساسيات      4\n",
      "   generalConcept  count\n",
      "0         الحلقات      3\n",
      "2  أنواع البيانات      6\n",
      "3       الأساسيات      4\n",
      "   generalConcept  count\n",
      "0         الحلقات      3\n",
      "1          الشروط      2\n",
      "2  أنواع البيانات      6\n",
      "3       الأساسيات      4\n",
      "   generalConcept  count\n",
      "0         الحلقات      3\n",
      "1          الشروط      2\n",
      "2  أنواع البيانات      6\n",
      "3       الأساسيات      4\n",
      "   generalConcept  count\n",
      "0         الحلقات      3\n",
      "1          الشروط      2\n",
      "2  أنواع البيانات      6\n",
      "3       الأساسيات      4\n",
      "   generalConcept  count\n",
      "0         الحلقات      3\n",
      "2  أنواع البيانات      6\n",
      "3       الأساسيات      4\n",
      "   generalConcept  count\n",
      "0         الحلقات      2\n",
      "1          الشروط      2\n",
      "2  أنواع البيانات      6\n",
      "3       الأساسيات      5\n",
      "   generalConcept  count\n",
      "0         الحلقات      2\n",
      "2  أنواع البيانات      5\n",
      "3       الأساسيات      4\n",
      "   generalConcept  count\n",
      "0         الحلقات      2\n",
      "1          الشروط      2\n",
      "2  أنواع البيانات      6\n",
      "3       الأساسيات      4\n",
      "   generalConcept  count\n",
      "0         الحلقات      2\n",
      "2  أنواع البيانات      5\n",
      "3       الأساسيات      4\n",
      "   generalConcept  count\n",
      "0         الحلقات      3\n",
      "1          الشروط      2\n",
      "2  أنواع البيانات      6\n",
      "3       الأساسيات      4\n",
      "   generalConcept  count\n",
      "0         الحلقات      4\n",
      "1          الشروط      2\n",
      "2  أنواع البيانات      8\n",
      "3       الأساسيات      4\n",
      "   generalConcept  count\n",
      "0         الحلقات      4\n",
      "1          الشروط      2\n",
      "2  أنواع البيانات      8\n",
      "3       الأساسيات      4\n",
      "   generalConcept  count\n",
      "0         الحلقات      4\n",
      "2  أنواع البيانات      8\n",
      "3       الأساسيات      4\n",
      "   generalConcept  count\n",
      "0         الحلقات      4\n",
      "2  أنواع البيانات      8\n",
      "3       الأساسيات      4\n",
      "   generalConcept  count\n",
      "0         الحلقات      4\n",
      "1          الشروط      2\n",
      "2  أنواع البيانات      8\n",
      "3       الأساسيات      4\n",
      "   generalConcept  count\n",
      "0         الحلقات      1\n",
      "2  أنواع البيانات      8\n",
      "3       الأساسيات      2\n",
      "7          الدوال      1\n",
      "   generalConcept  count\n",
      "0         الحلقات      1\n",
      "2  أنواع البيانات      6\n",
      "3       الأساسيات      2\n",
      "7          الدوال      1\n",
      "   generalConcept  count\n",
      "0         الحلقات      1\n",
      "1          الشروط      2\n",
      "2  أنواع البيانات      8\n",
      "3       الأساسيات      2\n",
      "7          الدوال      1\n",
      "   generalConcept  count\n",
      "0         الحلقات      1\n",
      "1          الشروط      2\n",
      "2  أنواع البيانات      4\n",
      "3       الأساسيات     11\n",
      "7          الدوال      1\n",
      "   generalConcept  count\n",
      "0         الحلقات      3\n",
      "1          الشروط      2\n",
      "2  أنواع البيانات      5\n",
      "3       الأساسيات      5\n",
      "   generalConcept  count\n",
      "0         الحلقات      3\n",
      "1          الشروط      1\n",
      "2  أنواع البيانات      6\n",
      "3       الأساسيات      9\n",
      "6       المصفوفات      3\n",
      "   generalConcept  count\n",
      "0         الحلقات      3\n",
      "2  أنواع البيانات      7\n",
      "3       الأساسيات      6\n",
      "6       المصفوفات      3\n",
      "   generalConcept  count\n",
      "0         الحلقات      3\n",
      "1          الشروط      3\n",
      "2  أنواع البيانات      9\n",
      "3       الأساسيات      8\n",
      "6       المصفوفات      4\n",
      "7          الدوال      1\n",
      "   generalConcept  count\n",
      "0         الحلقات      6\n",
      "1          الشروط      1\n",
      "2  أنواع البيانات     10\n",
      "3       الأساسيات      9\n",
      "6       المصفوفات     10\n",
      "   generalConcept  count\n",
      "0         الحلقات      6\n",
      "1          الشروط      1\n",
      "2  أنواع البيانات     10\n",
      "3       الأساسيات      9\n",
      "6       المصفوفات     10\n",
      "   generalConcept  count\n",
      "0         الحلقات      5\n",
      "1          الشروط      2\n",
      "2  أنواع البيانات      8\n",
      "3       الأساسيات      9\n",
      "6       المصفوفات      8\n",
      "7          الدوال      1\n",
      "   generalConcept  count\n",
      "0         الحلقات      5\n",
      "2  أنواع البيانات     10\n",
      "3       الأساسيات      9\n",
      "6       المصفوفات      9\n",
      "   generalConcept  count\n",
      "0         الحلقات      6\n",
      "2  أنواع البيانات     11\n",
      "3       الأساسيات      9\n",
      "6       المصفوفات      8\n",
      "   generalConcept  count\n",
      "0         الحلقات      1\n",
      "1          الشروط      3\n",
      "2  أنواع البيانات      6\n",
      "3       الأساسيات      5\n",
      "6       المصفوفات      2\n",
      "   generalConcept  count\n",
      "0         الحلقات      1\n",
      "1          الشروط      4\n",
      "2  أنواع البيانات      6\n",
      "3       الأساسيات      6\n",
      "6       المصفوفات      2\n",
      "7          الدوال      1\n",
      "   generalConcept  count\n",
      "0         الحلقات      1\n",
      "1          الشروط      1\n",
      "2  أنواع البيانات      9\n",
      "3       الأساسيات      4\n",
      "6       المصفوفات      4\n",
      "7          الدوال      1\n",
      "   generalConcept  count\n",
      "0         الحلقات      3\n",
      "1          الشروط      3\n",
      "2  أنواع البيانات     10\n",
      "3       الأساسيات      6\n",
      "6       المصفوفات      9\n",
      "7          الدوال      1\n",
      "   generalConcept  count\n",
      "0         الحلقات      5\n",
      "2  أنواع البيانات      9\n",
      "3       الأساسيات     10\n",
      "6       المصفوفات      6\n",
      "   generalConcept  count\n",
      "0         الحلقات      3\n",
      "2  أنواع البيانات      8\n",
      "3       الأساسيات      6\n",
      "6       المصفوفات      3\n",
      "   generalConcept  count\n",
      "0         الحلقات      3\n",
      "1          الشروط      2\n",
      "2  أنواع البيانات      8\n",
      "3       الأساسيات      6\n",
      "6       المصفوفات      8\n",
      "   generalConcept  count\n",
      "0         الحلقات      7\n",
      "2  أنواع البيانات     11\n",
      "3       الأساسيات     10\n",
      "6       المصفوفات      4\n",
      "   generalConcept  count\n",
      "0         الحلقات      4\n",
      "2  أنواع البيانات     11\n",
      "3       الأساسيات      4\n",
      "6       المصفوفات      3\n",
      "   generalConcept  count\n",
      "0         الحلقات      4\n",
      "2  أنواع البيانات     11\n",
      "3       الأساسيات      5\n",
      "6       المصفوفات      3\n",
      "   generalConcept  count\n",
      "0         الحلقات      4\n",
      "2  أنواع البيانات     11\n",
      "3       الأساسيات      5\n",
      "6       المصفوفات      3\n",
      "   generalConcept  count\n",
      "0         الحلقات      7\n",
      "2  أنواع البيانات     14\n",
      "3       الأساسيات      9\n",
      "6       المصفوفات      5\n",
      "   generalConcept  count\n",
      "0         الحلقات      2\n",
      "1          الشروط      3\n",
      "2  أنواع البيانات      9\n",
      "3       الأساسيات      5\n",
      "6       المصفوفات      4\n",
      "   generalConcept  count\n",
      "0         الحلقات      2\n",
      "1          الشروط      3\n",
      "2  أنواع البيانات      9\n",
      "3       الأساسيات      5\n",
      "6       المصفوفات      4\n",
      "   generalConcept  count\n",
      "0         الحلقات     10\n",
      "1          الشروط      1\n",
      "2  أنواع البيانات     17\n",
      "3       الأساسيات      7\n",
      "6       المصفوفات     13\n",
      "   generalConcept  count\n",
      "0         الحلقات      7\n",
      "1          الشروط      3\n",
      "2  أنواع البيانات     14\n",
      "3       الأساسيات     10\n",
      "6       المصفوفات      5\n",
      "7          الدوال      1\n",
      "   generalConcept  count\n",
      "0         الحلقات      4\n",
      "1          الشروط      3\n",
      "2  أنواع البيانات     13\n",
      "3       الأساسيات      6\n",
      "6       المصفوفات      4\n",
      "7          الدوال      1\n",
      "   generalConcept  count\n",
      "0         الحلقات      3\n",
      "1          الشروط      4\n",
      "2  أنواع البيانات     11\n",
      "3       الأساسيات      6\n",
      "6       المصفوفات     12\n",
      "7          الدوال      1\n",
      "   generalConcept  count\n",
      "0         الحلقات      3\n",
      "1          الشروط      4\n",
      "2  أنواع البيانات     11\n",
      "3       الأساسيات      6\n",
      "6       المصفوفات     13\n",
      "7          الدوال      1\n",
      "   generalConcept  count\n",
      "0         الحلقات      4\n",
      "1          الشروط      1\n",
      "2  أنواع البيانات      9\n",
      "3       الأساسيات      9\n",
      "6       المصفوفات      4\n",
      "   generalConcept  count\n",
      "0         الحلقات      1\n",
      "1          الشروط      1\n",
      "2  أنواع البيانات     10\n",
      "3       الأساسيات      4\n",
      "6       المصفوفات      6\n",
      "7          الدوال      1\n",
      "   generalConcept  count\n",
      "0         الحلقات      1\n",
      "1          الشروط      3\n",
      "2  أنواع البيانات     15\n",
      "3       الأساسيات     10\n",
      "6       المصفوفات     12\n",
      "7          الدوال      1\n"
     ]
    }
   ],
   "source": [
    "ex['generalConcepts'], ex['difficulty_2'], ex['total_keywords_count'] = zip(*ex['code'].apply(find_general_concepts))"
   ],
   "metadata": {
    "collapsed": false,
    "pycharm": {
     "name": "#%%\n"
    }
   }
  },
  {
   "cell_type": "code",
   "execution_count": 14,
   "outputs": [
    {
     "data": {
      "text/plain": "                  Consept  ex   \n0        رسم أشكال هندسية   1  \\\n1        رسم أشكال هندسية   2   \n2        رسم أشكال هندسية   3   \n3        رسم أشكال هندسية   4   \n4        رسم أشكال هندسية   5   \n..                    ...  ..   \n144  التعامل مع المصفوفات  26   \n145  التعامل مع المصفوفات  27   \n146  التعامل مع المصفوفات  28   \n147  التعامل مع المصفوفات  29   \n148  التعامل مع المصفوفات  30   \n\n                                              required   \n0    أكتب برنامج مهمته رسم الشكل التالي بواسطة الحل...  \\\n1    أكتب برنامج مهمته رسم الشكل التالي بواسطة الحل...   \n2    أكتب برنامج مهمته رسم الشكل التالي بواسطة الحل...   \n3    أكتب برنامج مهمته رسم الشكل التالي بواسطة الحل...   \n4    أكتب برنامج مهمته رسم الشكل التالي بواسطة الحل...   \n..                                                 ...   \n144  قم بتعريف دالة إسمها PrintSecondBiggest, عند ا...   \n145  قم بتعريف دالة إسمها PrintSecondLowest, عند اس...   \n146  أكتب برنامج يطلب من المستخدم إعطائه عدد يمثل ع...   \n147  قم بتعريف دالة إسمها PrintLongestName, عند است...   \n148  قم بتعريف دالة إسمها CompareArrays, عند استدعا...   \n\n                                               img_src   \n0    https://harmash.com//tutorials/algorithms-and-...  \\\n1    https://harmash.com//tutorials/algorithms-and-...   \n2    https://harmash.com//tutorials/algorithms-and-...   \n3    https://harmash.com//tutorials/algorithms-and-...   \n4    https://harmash.com//tutorials/algorithms-and-...   \n..                                                 ...   \n144                                                NaN   \n145                                                NaN   \n146                                                NaN   \n147                                                NaN   \n148                                                NaN   \n\n                                                  code   \n0    \\r\\n#include <iostream>\\r\\n\\r\\nint main() {\\r\\...  \\\n1    \\r\\n#include <iostream>\\r\\n\\r\\nint main() {\\r\\...   \n2    \\r\\n#include <iostream>\\r\\n\\r\\nint main() {\\r\\...   \n3    \\r\\n#include <iostream>\\r\\n\\r\\nint main() {\\r\\...   \n4    \\r\\n#include <iostream>\\r\\n\\r\\nint main() {\\r\\...   \n..                                                 ...   \n144  \\r\\n#include <iostream>\\r\\n\\r\\n// printSecondB...   \n145  \\r\\n#include <iostream>\\r\\n\\r\\n// printSecondL...   \n146  \\r\\n#include <iostream>\\r\\n#include <cstdlib>\\...   \n147  \\r\\n#include <iostream>\\r\\n#include <string>\\r...   \n148  \\r\\n#include <iostream>\\r\\n\\r\\n// compareArray...   \n\n                                                output   \n0    \\r\\nEnter the number of lines: 5\\r\\n*\\r\\n**\\r\\...  \\\n1    \\r\\nEnter the number of lines: 5\\r\\n    *\\r\\n ...   \n2    \\r\\nEnter the number of lines: 5\\r\\n*****\\r\\n*...   \n3    \\r\\nEnter the number of lines: 5\\r\\n*****\\r\\n ...   \n4    \\r\\nEnter the number of lines: 5\\r\\nEnter the ...   \n..                                                 ...   \n144            \\r\\nSecond biggest number is: 8\\r\\n\\t\\t   \n145             \\r\\nSecond lowest number is: 2\\r\\n\\t\\t   \n146  \\r\\n\\t\\t\\tEnter array length: 10\\r\\n\\t\\t\\tArra...   \n147  \\r\\nThe longest name is 'Abdullah', which is c...   \n148  \\r\\nCompare arr1 & arr2 => They have the same ...   \n\n                                           Explanation hint   \n0    سنحصل على النتيجة التالية إذا قام المستخدم بإد...  NaN  \\\n1    سنحصل على النتيجة التالية إذا قام المستخدم بإد...  NaN   \n2    سنحصل على النتيجة التالية إذا قام المستخدم بإد...  NaN   \n3    سنحصل على النتيجة التالية إذا قام المستخدم بإد...  NaN   \n4    سنحصل على النتيجة التالية إذا قام المستخدم بإد...  NaN   \n..                                                 ...  ...   \n144  سنحصل على النتيجة التالية عند التشغيل في حال ك...  NaN   \n145  سنحصل على النتيجة التالية عند التشغيل في حال ك...  NaN   \n146  في حال تم إدخال الرقم 10 عند التشغيل سنحصل على...  NaN   \n147  سنحصل على النتيجة التالية عند التشغيل في حال ك...  NaN   \n148  سنحصل على النتيجة التالية عند التشغيل في حال ك...  NaN   \n\n                                       generalConcepts  difficulty_2   \n0                 [الحلقات, أنواع البيانات, الأساسيات]     57.500000  \\\n1                 [الحلقات, أنواع البيانات, الأساسيات]     53.333333   \n2                 [الحلقات, أنواع البيانات, الأساسيات]     52.083333   \n3                 [الحلقات, أنواع البيانات, الأساسيات]     53.333333   \n4                 [الحلقات, أنواع البيانات, الأساسيات]     52.631579   \n..                                                 ...           ...   \n144  [الحلقات, الشروط, أنواع البيانات, الأساسيات, ا...     64.189189   \n145  [الحلقات, الشروط, أنواع البيانات, الأساسيات, ا...     64.473684   \n146  [الحلقات, الشروط, أنواع البيانات, الأساسيات, ا...     54.629630   \n147  [الحلقات, الشروط, أنواع البيانات, الأساسيات, ا...     57.608696   \n148  [الحلقات, الشروط, أنواع البيانات, الأساسيات, ا...     56.547619   \n\n     total_keywords_count  \n0                      10  \n1                      15  \n2                      12  \n3                      15  \n4                      19  \n..                    ...  \n144                    37  \n145                    38  \n146                    27  \n147                    23  \n148                    42  \n\n[149 rows x 11 columns]",
      "text/html": "<div>\n<style scoped>\n    .dataframe tbody tr th:only-of-type {\n        vertical-align: middle;\n    }\n\n    .dataframe tbody tr th {\n        vertical-align: top;\n    }\n\n    .dataframe thead th {\n        text-align: right;\n    }\n</style>\n<table border=\"1\" class=\"dataframe\">\n  <thead>\n    <tr style=\"text-align: right;\">\n      <th></th>\n      <th>Consept</th>\n      <th>ex</th>\n      <th>required</th>\n      <th>img_src</th>\n      <th>code</th>\n      <th>output</th>\n      <th>Explanation</th>\n      <th>hint</th>\n      <th>generalConcepts</th>\n      <th>difficulty_2</th>\n      <th>total_keywords_count</th>\n    </tr>\n  </thead>\n  <tbody>\n    <tr>\n      <th>0</th>\n      <td>رسم أشكال هندسية</td>\n      <td>1</td>\n      <td>أكتب برنامج مهمته رسم الشكل التالي بواسطة الحل...</td>\n      <td>https://harmash.com//tutorials/algorithms-and-...</td>\n      <td>\\r\\n#include &lt;iostream&gt;\\r\\n\\r\\nint main() {\\r\\...</td>\n      <td>\\r\\nEnter the number of lines: 5\\r\\n*\\r\\n**\\r\\...</td>\n      <td>سنحصل على النتيجة التالية إذا قام المستخدم بإد...</td>\n      <td>NaN</td>\n      <td>[الحلقات, أنواع البيانات, الأساسيات]</td>\n      <td>57.500000</td>\n      <td>10</td>\n    </tr>\n    <tr>\n      <th>1</th>\n      <td>رسم أشكال هندسية</td>\n      <td>2</td>\n      <td>أكتب برنامج مهمته رسم الشكل التالي بواسطة الحل...</td>\n      <td>https://harmash.com//tutorials/algorithms-and-...</td>\n      <td>\\r\\n#include &lt;iostream&gt;\\r\\n\\r\\nint main() {\\r\\...</td>\n      <td>\\r\\nEnter the number of lines: 5\\r\\n    *\\r\\n ...</td>\n      <td>سنحصل على النتيجة التالية إذا قام المستخدم بإد...</td>\n      <td>NaN</td>\n      <td>[الحلقات, أنواع البيانات, الأساسيات]</td>\n      <td>53.333333</td>\n      <td>15</td>\n    </tr>\n    <tr>\n      <th>2</th>\n      <td>رسم أشكال هندسية</td>\n      <td>3</td>\n      <td>أكتب برنامج مهمته رسم الشكل التالي بواسطة الحل...</td>\n      <td>https://harmash.com//tutorials/algorithms-and-...</td>\n      <td>\\r\\n#include &lt;iostream&gt;\\r\\n\\r\\nint main() {\\r\\...</td>\n      <td>\\r\\nEnter the number of lines: 5\\r\\n*****\\r\\n*...</td>\n      <td>سنحصل على النتيجة التالية إذا قام المستخدم بإد...</td>\n      <td>NaN</td>\n      <td>[الحلقات, أنواع البيانات, الأساسيات]</td>\n      <td>52.083333</td>\n      <td>12</td>\n    </tr>\n    <tr>\n      <th>3</th>\n      <td>رسم أشكال هندسية</td>\n      <td>4</td>\n      <td>أكتب برنامج مهمته رسم الشكل التالي بواسطة الحل...</td>\n      <td>https://harmash.com//tutorials/algorithms-and-...</td>\n      <td>\\r\\n#include &lt;iostream&gt;\\r\\n\\r\\nint main() {\\r\\...</td>\n      <td>\\r\\nEnter the number of lines: 5\\r\\n*****\\r\\n ...</td>\n      <td>سنحصل على النتيجة التالية إذا قام المستخدم بإد...</td>\n      <td>NaN</td>\n      <td>[الحلقات, أنواع البيانات, الأساسيات]</td>\n      <td>53.333333</td>\n      <td>15</td>\n    </tr>\n    <tr>\n      <th>4</th>\n      <td>رسم أشكال هندسية</td>\n      <td>5</td>\n      <td>أكتب برنامج مهمته رسم الشكل التالي بواسطة الحل...</td>\n      <td>https://harmash.com//tutorials/algorithms-and-...</td>\n      <td>\\r\\n#include &lt;iostream&gt;\\r\\n\\r\\nint main() {\\r\\...</td>\n      <td>\\r\\nEnter the number of lines: 5\\r\\nEnter the ...</td>\n      <td>سنحصل على النتيجة التالية إذا قام المستخدم بإد...</td>\n      <td>NaN</td>\n      <td>[الحلقات, أنواع البيانات, الأساسيات]</td>\n      <td>52.631579</td>\n      <td>19</td>\n    </tr>\n    <tr>\n      <th>...</th>\n      <td>...</td>\n      <td>...</td>\n      <td>...</td>\n      <td>...</td>\n      <td>...</td>\n      <td>...</td>\n      <td>...</td>\n      <td>...</td>\n      <td>...</td>\n      <td>...</td>\n      <td>...</td>\n    </tr>\n    <tr>\n      <th>144</th>\n      <td>التعامل مع المصفوفات</td>\n      <td>26</td>\n      <td>قم بتعريف دالة إسمها PrintSecondBiggest, عند ا...</td>\n      <td>NaN</td>\n      <td>\\r\\n#include &lt;iostream&gt;\\r\\n\\r\\n// printSecondB...</td>\n      <td>\\r\\nSecond biggest number is: 8\\r\\n\\t\\t</td>\n      <td>سنحصل على النتيجة التالية عند التشغيل في حال ك...</td>\n      <td>NaN</td>\n      <td>[الحلقات, الشروط, أنواع البيانات, الأساسيات, ا...</td>\n      <td>64.189189</td>\n      <td>37</td>\n    </tr>\n    <tr>\n      <th>145</th>\n      <td>التعامل مع المصفوفات</td>\n      <td>27</td>\n      <td>قم بتعريف دالة إسمها PrintSecondLowest, عند اس...</td>\n      <td>NaN</td>\n      <td>\\r\\n#include &lt;iostream&gt;\\r\\n\\r\\n// printSecondL...</td>\n      <td>\\r\\nSecond lowest number is: 2\\r\\n\\t\\t</td>\n      <td>سنحصل على النتيجة التالية عند التشغيل في حال ك...</td>\n      <td>NaN</td>\n      <td>[الحلقات, الشروط, أنواع البيانات, الأساسيات, ا...</td>\n      <td>64.473684</td>\n      <td>38</td>\n    </tr>\n    <tr>\n      <th>146</th>\n      <td>التعامل مع المصفوفات</td>\n      <td>28</td>\n      <td>أكتب برنامج يطلب من المستخدم إعطائه عدد يمثل ع...</td>\n      <td>NaN</td>\n      <td>\\r\\n#include &lt;iostream&gt;\\r\\n#include &lt;cstdlib&gt;\\...</td>\n      <td>\\r\\n\\t\\t\\tEnter array length: 10\\r\\n\\t\\t\\tArra...</td>\n      <td>في حال تم إدخال الرقم 10 عند التشغيل سنحصل على...</td>\n      <td>NaN</td>\n      <td>[الحلقات, الشروط, أنواع البيانات, الأساسيات, ا...</td>\n      <td>54.629630</td>\n      <td>27</td>\n    </tr>\n    <tr>\n      <th>147</th>\n      <td>التعامل مع المصفوفات</td>\n      <td>29</td>\n      <td>قم بتعريف دالة إسمها PrintLongestName, عند است...</td>\n      <td>NaN</td>\n      <td>\\r\\n#include &lt;iostream&gt;\\r\\n#include &lt;string&gt;\\r...</td>\n      <td>\\r\\nThe longest name is 'Abdullah', which is c...</td>\n      <td>سنحصل على النتيجة التالية عند التشغيل في حال ك...</td>\n      <td>NaN</td>\n      <td>[الحلقات, الشروط, أنواع البيانات, الأساسيات, ا...</td>\n      <td>57.608696</td>\n      <td>23</td>\n    </tr>\n    <tr>\n      <th>148</th>\n      <td>التعامل مع المصفوفات</td>\n      <td>30</td>\n      <td>قم بتعريف دالة إسمها CompareArrays, عند استدعا...</td>\n      <td>NaN</td>\n      <td>\\r\\n#include &lt;iostream&gt;\\r\\n\\r\\n// compareArray...</td>\n      <td>\\r\\nCompare arr1 &amp; arr2 =&gt; They have the same ...</td>\n      <td>سنحصل على النتيجة التالية عند التشغيل في حال ك...</td>\n      <td>NaN</td>\n      <td>[الحلقات, الشروط, أنواع البيانات, الأساسيات, ا...</td>\n      <td>56.547619</td>\n      <td>42</td>\n    </tr>\n  </tbody>\n</table>\n<p>149 rows × 11 columns</p>\n</div>"
     },
     "execution_count": 14,
     "metadata": {},
     "output_type": "execute_result"
    }
   ],
   "source": [
    "ex"
   ],
   "metadata": {
    "collapsed": false,
    "pycharm": {
     "name": "#%%\n"
    }
   }
  },
  {
   "cell_type": "code",
   "execution_count": 15,
   "outputs": [
    {
     "data": {
      "text/plain": "(28.57142857142857, 67.96875)"
     },
     "execution_count": 15,
     "metadata": {},
     "output_type": "execute_result"
    }
   ],
   "source": [
    "ex.difficulty_2.min(), ex.difficulty_2.max()"
   ],
   "metadata": {
    "collapsed": false,
    "pycharm": {
     "name": "#%%\n"
    }
   }
  },
  {
   "cell_type": "code",
   "execution_count": 16,
   "outputs": [],
   "source": [
    "min = ex.difficulty_2.min()\n",
    "max = ex.difficulty_2.max()"
   ],
   "metadata": {
    "collapsed": false,
    "pycharm": {
     "name": "#%%\n"
    }
   }
  },
  {
   "cell_type": "code",
   "execution_count": 17,
   "outputs": [],
   "source": [
    "ex['difficulty_2'] = ((ex['difficulty_2'] - min) / (max- min))*100"
   ],
   "metadata": {
    "collapsed": false,
    "pycharm": {
     "name": "#%%\n"
    }
   }
  },
  {
   "cell_type": "code",
   "execution_count": 18,
   "outputs": [
    {
     "data": {
      "text/plain": "0      73.427762\n1      62.851747\n2      59.678942\n3      62.851747\n4      61.070523\n         ...    \n144    90.406554\n145    91.128672\n146    66.142063\n147    73.703658\n148    71.010387\nName: difficulty_2, Length: 149, dtype: float64"
     },
     "execution_count": 18,
     "metadata": {},
     "output_type": "execute_result"
    }
   ],
   "source": [
    "ex['difficulty_2']"
   ],
   "metadata": {
    "collapsed": false,
    "pycharm": {
     "name": "#%%\n"
    }
   }
  },
  {
   "cell_type": "code",
   "execution_count": 245,
   "outputs": [],
   "source": [
    "# solve_XP = 5"
   ],
   "metadata": {
    "collapsed": false,
    "pycharm": {
     "name": "#%%\n"
    }
   }
  },
  {
   "cell_type": "code",
   "execution_count": 246,
   "outputs": [],
   "source": [
    "# ex['XP']=  (ex['difficulty_2'] * solve_XP).astype(int)"
   ],
   "metadata": {
    "collapsed": false,
    "pycharm": {
     "name": "#%%\n"
    }
   }
  },
  {
   "cell_type": "code",
   "execution_count": 247,
   "outputs": [],
   "source": [
    "# ex[['generalConcepts','XP' , 'difficulty_2', 'total_keywords_count']]"
   ],
   "metadata": {
    "collapsed": false,
    "pycharm": {
     "name": "#%%\n"
    }
   }
  },
  {
   "cell_type": "code",
   "execution_count": 19,
   "outputs": [],
   "source": [
    "def find_time(code):\n",
    "    non_comment_lines = [line for line in code.split('\\n') if not (line.strip().startswith('//') or len(line.strip())<2 ) ]\n",
    "    return len(non_comment_lines)\n",
    "ex['required_time'] = ex['code'].apply(find_time)"
   ],
   "metadata": {
    "collapsed": false,
    "pycharm": {
     "name": "#%%\n"
    }
   }
  },
  {
   "cell_type": "code",
   "execution_count": 20,
   "outputs": [
    {
     "data": {
      "text/plain": "(8, 48)"
     },
     "execution_count": 20,
     "metadata": {},
     "output_type": "execute_result"
    }
   ],
   "source": [
    "ex.required_time.min(), ex.required_time.max()"
   ],
   "metadata": {
    "collapsed": false,
    "pycharm": {
     "name": "#%%\n"
    }
   }
  },
  {
   "cell_type": "code",
   "execution_count": 21,
   "outputs": [],
   "source": [
    "ex['mapped_required_time'] = (ex['required_time'] - ex['required_time'].min())*100/(ex['required_time'].max() - ex['required_time'].min())\n",
    "ex['mapped_required_time'] = ex['difficulty_2']/2 + ex['mapped_required_time']/2"
   ],
   "metadata": {
    "collapsed": false,
    "pycharm": {
     "name": "#%%\n"
    }
   }
  },
  {
   "cell_type": "markdown",
   "source": [
    "ex"
   ],
   "metadata": {
    "collapsed": false,
    "pycharm": {
     "name": "#%% md\n"
    }
   }
  },
  {
   "cell_type": "code",
   "execution_count": 22,
   "outputs": [],
   "source": [
    "ex = ex.sort_values('difficulty_2', ignore_index=True).reset_index()"
   ],
   "metadata": {
    "collapsed": false,
    "pycharm": {
     "name": "#%%\n"
    }
   }
  },
  {
   "cell_type": "code",
   "execution_count": 23,
   "outputs": [
    {
     "data": {
      "text/plain": "     index                      Consept  ex  \\\n0        0          إجراء عمليات حسابية  11   \n1        1          إجراء عمليات حسابية   5   \n2        2          إجراء عمليات حسابية   7   \n3        3          إجراء عمليات حسابية   8   \n4        4          إجراء عمليات حسابية  12   \n..     ...                          ...  ..   \n144    144         التعامل مع المصفوفات  12   \n145    145         التعامل مع المصفوفات  26   \n146    146         التعامل مع المصفوفات  27   \n147    147         التعامل مع المصفوفات  23   \n148    148  التعامل مع الأرقام و النصوص  13   \n\n                                              required img_src  \\\n0    أكتب برنامج يطلب من المستخدم إدخال خمسة أعداد ...     NaN   \n1    أكتب برنامج يطلب من المستخدم إدخال رقمين, ثم ي...     NaN   \n2    أكتب برنامج يطلب من المستخدم إدخال ثلاث أرقام ...     NaN   \n3    أكتب برنامج يطلب من المستخدم إدخال رقمين, ثم ي...     NaN   \n4    أكتب برنامج يطلب من المستخدم إدخال رقم الشهر, ...     NaN   \n..                                                 ...     ...   \n144  قم بتعريف دالة إسمها CountOccurrence, مهمتها ا...     NaN   \n145  قم بتعريف دالة إسمها PrintSecondBiggest, عند ا...     NaN   \n146  قم بتعريف دالة إسمها PrintSecondLowest, عند اس...     NaN   \n147  أكتب برنامج يقوم بترتيب جميع القيم الموجودة في...     NaN   \n148  قم بتعريف دالة إسمها PrintWordsOccurence, نمرر...     NaN   \n\n                                                  code  \\\n0    \\r\\n#include <iostream>\\r\\n\\r\\nint main() {\\r\\...   \n1    \\r\\n#include <iostream>\\r\\n\\r\\nint main() {\\r\\...   \n2    \\r\\n#include <iostream>\\r\\n\\r\\nint main() {\\r\\...   \n3    \\r\\n#include <iostream>\\r\\n\\r\\nint main() {\\r\\...   \n4    \\r\\n#include <iostream>\\r\\n\\r\\nint main() {\\r\\...   \n..                                                 ...   \n144  \\r\\n#include <iostream>\\r\\n\\r\\n// هنا قمنا بتع...   \n145  \\r\\n#include <iostream>\\r\\n\\r\\n// printSecondB...   \n146  \\r\\n#include <iostream>\\r\\n\\r\\n// printSecondL...   \n147  \\r\\n#include <iostream>\\r\\n\\r\\nint main() {\\r\\...   \n148  \\r\\n#include <iostream>\\r\\n#include <string>\\r...   \n\n                                                output  \\\n0    \\n\\r\\n\\t\\t\\t\\tEnter n1: 7 \\r\\n\\t\\t\\t\\tEnter n2...   \n1    \\r\\nEnter first number: 14\\r\\nEnter second num...   \n2    \\r\\n#include <iostream>\\r\\n\\r\\nint main() {\\r\\...   \n3    \\r\\n#include <iostream>\\r\\n\\r\\nint main() {\\r\\...   \n4       \\r\\nMonth number: 5\\r\\nMonth name: May\\r\\n\\t\\t   \n..                                                 ...   \n144  \\r\\n[0] is repeated 2 time(s)\\r\\n[4] is repeat...   \n145            \\r\\nSecond biggest number is: 8\\r\\n\\t\\t   \n146             \\r\\nSecond lowest number is: 2\\r\\n\\t\\t   \n147  \\r\\nMatrix before sorting \\r\\n5 2 4 \\r\\n1 7 3 ...   \n148  \\r\\n[3] I\\r\\n[2] am\\r\\n[1] happy.\\r\\n[1] a\\r\\n...   \n\n                                           Explanation  \\\n0    سنحصل على النتيجة التالية إذا قام المستخدم بإد...   \n1    سنحصل على النتيجة التالية إذا قام المستخدم بإد...   \n2    الطريقة الثالثة لحل التمرين و الحصول على نفس ا...   \n3    الطريقة الثالثة لحل التمرين و الحصول على نفس ا...   \n4    سنحصل على النتيجة التالية إذا قام المستخدم بإد...   \n..                                                 ...   \n144             سنحصل على النتيجة التالية عند التشغيل.   \n145  سنحصل على النتيجة التالية عند التشغيل في حال ك...   \n146  سنحصل على النتيجة التالية عند التشغيل في حال ك...   \n147             سنحصل على النتيجة التالية عند التشغيل.   \n148             سنحصل على النتيجة التالية عند التشغيل.   \n\n                                                  hint  \\\n0    مثال: إذا قام المستخدم بإدخال الأعداد 7 , 4 , ...   \n1                                                  NaN   \n2                                                  NaN   \n3                                                  NaN   \n4    مثال: إذا قام المستخدم بإدخال الرقم 5 فستكون ا...   \n..                                                 ...   \n144  مساعدة: يجب تمرير حجم المصفوفة أيضاً للدالة لأ...   \n145                                                NaN   \n146                                                NaN   \n147                                                NaN   \n148  مثال: إذا قمنا باستخدام الدالة PrintWordsOccur...   \n\n                                       generalConcepts  difficulty_2  \\\n0                          [أنواع البيانات, الأساسيات]      0.000000   \n1                          [أنواع البيانات, الأساسيات]      2.472315   \n2                          [أنواع البيانات, الأساسيات]      3.626062   \n3                          [أنواع البيانات, الأساسيات]      3.626062   \n4                  [الشروط, أنواع البيانات, الأساسيات]      6.798867   \n..                                                 ...           ...   \n144  [الحلقات, الشروط, أنواع البيانات, الأساسيات, ا...     86.118980   \n145  [الحلقات, الشروط, أنواع البيانات, الأساسيات, ا...     90.406554   \n146  [الحلقات, الشروط, أنواع البيانات, الأساسيات, ا...     91.128672   \n147  [الحلقات, الشروط, أنواع البيانات, الأساسيات, ا...     91.406988   \n148  [الحلقات, الشروط, أنواع البيانات, الأساسيات, ا...    100.000000   \n\n     total_keywords_count  required_time  mapped_required_time  \n0                      14             17             11.250000  \n1                      11             13              7.486158  \n2                      10             14              9.313031  \n3                      10             14              9.313031  \n4                      20             48             53.399433  \n..                    ...            ...                   ...  \n144                    32             22             60.559490  \n145                    37             27             68.953277  \n146                    38             27             69.314336  \n147                    48             35             79.453494  \n148                    32             29             76.250000  \n\n[149 rows x 14 columns]",
      "text/html": "<div>\n<style scoped>\n    .dataframe tbody tr th:only-of-type {\n        vertical-align: middle;\n    }\n\n    .dataframe tbody tr th {\n        vertical-align: top;\n    }\n\n    .dataframe thead th {\n        text-align: right;\n    }\n</style>\n<table border=\"1\" class=\"dataframe\">\n  <thead>\n    <tr style=\"text-align: right;\">\n      <th></th>\n      <th>index</th>\n      <th>Consept</th>\n      <th>ex</th>\n      <th>required</th>\n      <th>img_src</th>\n      <th>code</th>\n      <th>output</th>\n      <th>Explanation</th>\n      <th>hint</th>\n      <th>generalConcepts</th>\n      <th>difficulty_2</th>\n      <th>total_keywords_count</th>\n      <th>required_time</th>\n      <th>mapped_required_time</th>\n    </tr>\n  </thead>\n  <tbody>\n    <tr>\n      <th>0</th>\n      <td>0</td>\n      <td>إجراء عمليات حسابية</td>\n      <td>11</td>\n      <td>أكتب برنامج يطلب من المستخدم إدخال خمسة أعداد ...</td>\n      <td>NaN</td>\n      <td>\\r\\n#include &lt;iostream&gt;\\r\\n\\r\\nint main() {\\r\\...</td>\n      <td>\\n\\r\\n\\t\\t\\t\\tEnter n1: 7 \\r\\n\\t\\t\\t\\tEnter n2...</td>\n      <td>سنحصل على النتيجة التالية إذا قام المستخدم بإد...</td>\n      <td>مثال: إذا قام المستخدم بإدخال الأعداد 7 , 4 , ...</td>\n      <td>[أنواع البيانات, الأساسيات]</td>\n      <td>0.000000</td>\n      <td>14</td>\n      <td>17</td>\n      <td>11.250000</td>\n    </tr>\n    <tr>\n      <th>1</th>\n      <td>1</td>\n      <td>إجراء عمليات حسابية</td>\n      <td>5</td>\n      <td>أكتب برنامج يطلب من المستخدم إدخال رقمين, ثم ي...</td>\n      <td>NaN</td>\n      <td>\\r\\n#include &lt;iostream&gt;\\r\\n\\r\\nint main() {\\r\\...</td>\n      <td>\\r\\nEnter first number: 14\\r\\nEnter second num...</td>\n      <td>سنحصل على النتيجة التالية إذا قام المستخدم بإد...</td>\n      <td>NaN</td>\n      <td>[أنواع البيانات, الأساسيات]</td>\n      <td>2.472315</td>\n      <td>11</td>\n      <td>13</td>\n      <td>7.486158</td>\n    </tr>\n    <tr>\n      <th>2</th>\n      <td>2</td>\n      <td>إجراء عمليات حسابية</td>\n      <td>7</td>\n      <td>أكتب برنامج يطلب من المستخدم إدخال ثلاث أرقام ...</td>\n      <td>NaN</td>\n      <td>\\r\\n#include &lt;iostream&gt;\\r\\n\\r\\nint main() {\\r\\...</td>\n      <td>\\r\\n#include &lt;iostream&gt;\\r\\n\\r\\nint main() {\\r\\...</td>\n      <td>الطريقة الثالثة لحل التمرين و الحصول على نفس ا...</td>\n      <td>NaN</td>\n      <td>[أنواع البيانات, الأساسيات]</td>\n      <td>3.626062</td>\n      <td>10</td>\n      <td>14</td>\n      <td>9.313031</td>\n    </tr>\n    <tr>\n      <th>3</th>\n      <td>3</td>\n      <td>إجراء عمليات حسابية</td>\n      <td>8</td>\n      <td>أكتب برنامج يطلب من المستخدم إدخال رقمين, ثم ي...</td>\n      <td>NaN</td>\n      <td>\\r\\n#include &lt;iostream&gt;\\r\\n\\r\\nint main() {\\r\\...</td>\n      <td>\\r\\n#include &lt;iostream&gt;\\r\\n\\r\\nint main() {\\r\\...</td>\n      <td>الطريقة الثالثة لحل التمرين و الحصول على نفس ا...</td>\n      <td>NaN</td>\n      <td>[أنواع البيانات, الأساسيات]</td>\n      <td>3.626062</td>\n      <td>10</td>\n      <td>14</td>\n      <td>9.313031</td>\n    </tr>\n    <tr>\n      <th>4</th>\n      <td>4</td>\n      <td>إجراء عمليات حسابية</td>\n      <td>12</td>\n      <td>أكتب برنامج يطلب من المستخدم إدخال رقم الشهر, ...</td>\n      <td>NaN</td>\n      <td>\\r\\n#include &lt;iostream&gt;\\r\\n\\r\\nint main() {\\r\\...</td>\n      <td>\\r\\nMonth number: 5\\r\\nMonth name: May\\r\\n\\t\\t</td>\n      <td>سنحصل على النتيجة التالية إذا قام المستخدم بإد...</td>\n      <td>مثال: إذا قام المستخدم بإدخال الرقم 5 فستكون ا...</td>\n      <td>[الشروط, أنواع البيانات, الأساسيات]</td>\n      <td>6.798867</td>\n      <td>20</td>\n      <td>48</td>\n      <td>53.399433</td>\n    </tr>\n    <tr>\n      <th>...</th>\n      <td>...</td>\n      <td>...</td>\n      <td>...</td>\n      <td>...</td>\n      <td>...</td>\n      <td>...</td>\n      <td>...</td>\n      <td>...</td>\n      <td>...</td>\n      <td>...</td>\n      <td>...</td>\n      <td>...</td>\n      <td>...</td>\n      <td>...</td>\n    </tr>\n    <tr>\n      <th>144</th>\n      <td>144</td>\n      <td>التعامل مع المصفوفات</td>\n      <td>12</td>\n      <td>قم بتعريف دالة إسمها CountOccurrence, مهمتها ا...</td>\n      <td>NaN</td>\n      <td>\\r\\n#include &lt;iostream&gt;\\r\\n\\r\\n// هنا قمنا بتع...</td>\n      <td>\\r\\n[0] is repeated 2 time(s)\\r\\n[4] is repeat...</td>\n      <td>سنحصل على النتيجة التالية عند التشغيل.</td>\n      <td>مساعدة: يجب تمرير حجم المصفوفة أيضاً للدالة لأ...</td>\n      <td>[الحلقات, الشروط, أنواع البيانات, الأساسيات, ا...</td>\n      <td>86.118980</td>\n      <td>32</td>\n      <td>22</td>\n      <td>60.559490</td>\n    </tr>\n    <tr>\n      <th>145</th>\n      <td>145</td>\n      <td>التعامل مع المصفوفات</td>\n      <td>26</td>\n      <td>قم بتعريف دالة إسمها PrintSecondBiggest, عند ا...</td>\n      <td>NaN</td>\n      <td>\\r\\n#include &lt;iostream&gt;\\r\\n\\r\\n// printSecondB...</td>\n      <td>\\r\\nSecond biggest number is: 8\\r\\n\\t\\t</td>\n      <td>سنحصل على النتيجة التالية عند التشغيل في حال ك...</td>\n      <td>NaN</td>\n      <td>[الحلقات, الشروط, أنواع البيانات, الأساسيات, ا...</td>\n      <td>90.406554</td>\n      <td>37</td>\n      <td>27</td>\n      <td>68.953277</td>\n    </tr>\n    <tr>\n      <th>146</th>\n      <td>146</td>\n      <td>التعامل مع المصفوفات</td>\n      <td>27</td>\n      <td>قم بتعريف دالة إسمها PrintSecondLowest, عند اس...</td>\n      <td>NaN</td>\n      <td>\\r\\n#include &lt;iostream&gt;\\r\\n\\r\\n// printSecondL...</td>\n      <td>\\r\\nSecond lowest number is: 2\\r\\n\\t\\t</td>\n      <td>سنحصل على النتيجة التالية عند التشغيل في حال ك...</td>\n      <td>NaN</td>\n      <td>[الحلقات, الشروط, أنواع البيانات, الأساسيات, ا...</td>\n      <td>91.128672</td>\n      <td>38</td>\n      <td>27</td>\n      <td>69.314336</td>\n    </tr>\n    <tr>\n      <th>147</th>\n      <td>147</td>\n      <td>التعامل مع المصفوفات</td>\n      <td>23</td>\n      <td>أكتب برنامج يقوم بترتيب جميع القيم الموجودة في...</td>\n      <td>NaN</td>\n      <td>\\r\\n#include &lt;iostream&gt;\\r\\n\\r\\nint main() {\\r\\...</td>\n      <td>\\r\\nMatrix before sorting \\r\\n5 2 4 \\r\\n1 7 3 ...</td>\n      <td>سنحصل على النتيجة التالية عند التشغيل.</td>\n      <td>NaN</td>\n      <td>[الحلقات, الشروط, أنواع البيانات, الأساسيات, ا...</td>\n      <td>91.406988</td>\n      <td>48</td>\n      <td>35</td>\n      <td>79.453494</td>\n    </tr>\n    <tr>\n      <th>148</th>\n      <td>148</td>\n      <td>التعامل مع الأرقام و النصوص</td>\n      <td>13</td>\n      <td>قم بتعريف دالة إسمها PrintWordsOccurence, نمرر...</td>\n      <td>NaN</td>\n      <td>\\r\\n#include &lt;iostream&gt;\\r\\n#include &lt;string&gt;\\r...</td>\n      <td>\\r\\n[3] I\\r\\n[2] am\\r\\n[1] happy.\\r\\n[1] a\\r\\n...</td>\n      <td>سنحصل على النتيجة التالية عند التشغيل.</td>\n      <td>مثال: إذا قمنا باستخدام الدالة PrintWordsOccur...</td>\n      <td>[الحلقات, الشروط, أنواع البيانات, الأساسيات, ا...</td>\n      <td>100.000000</td>\n      <td>32</td>\n      <td>29</td>\n      <td>76.250000</td>\n    </tr>\n  </tbody>\n</table>\n<p>149 rows × 14 columns</p>\n</div>"
     },
     "execution_count": 23,
     "metadata": {},
     "output_type": "execute_result"
    }
   ],
   "source": [
    "ex"
   ],
   "metadata": {
    "collapsed": false,
    "pycharm": {
     "name": "#%%\n"
    }
   }
  },
  {
   "cell_type": "code",
   "execution_count": 24,
   "outputs": [
    {
     "data": {
      "text/plain": "2.245847283028587"
     },
     "execution_count": 24,
     "metadata": {},
     "output_type": "execute_result"
    }
   ],
   "source": [
    "ex.mapped_required_time.min() *30 /100"
   ],
   "metadata": {
    "collapsed": false,
    "pycharm": {
     "name": "#%%\n"
    }
   }
  },
  {
   "cell_type": "code",
   "execution_count": 25,
   "outputs": [],
   "source": [
    "ex['mean'] = (ex.difficulty_2.cumsum())"
   ],
   "metadata": {
    "collapsed": false,
    "pycharm": {
     "name": "#%%\n"
    }
   }
  },
  {
   "cell_type": "code",
   "execution_count": 26,
   "outputs": [
    {
     "data": {
      "text/plain": "     index                      Consept  ex  \\\n0        0          إجراء عمليات حسابية  11   \n1        1          إجراء عمليات حسابية   5   \n2        2          إجراء عمليات حسابية   7   \n3        3          إجراء عمليات حسابية   8   \n4        4          إجراء عمليات حسابية  12   \n..     ...                          ...  ..   \n144    144         التعامل مع المصفوفات  12   \n145    145         التعامل مع المصفوفات  26   \n146    146         التعامل مع المصفوفات  27   \n147    147         التعامل مع المصفوفات  23   \n148    148  التعامل مع الأرقام و النصوص  13   \n\n                                              required img_src  \\\n0    أكتب برنامج يطلب من المستخدم إدخال خمسة أعداد ...     NaN   \n1    أكتب برنامج يطلب من المستخدم إدخال رقمين, ثم ي...     NaN   \n2    أكتب برنامج يطلب من المستخدم إدخال ثلاث أرقام ...     NaN   \n3    أكتب برنامج يطلب من المستخدم إدخال رقمين, ثم ي...     NaN   \n4    أكتب برنامج يطلب من المستخدم إدخال رقم الشهر, ...     NaN   \n..                                                 ...     ...   \n144  قم بتعريف دالة إسمها CountOccurrence, مهمتها ا...     NaN   \n145  قم بتعريف دالة إسمها PrintSecondBiggest, عند ا...     NaN   \n146  قم بتعريف دالة إسمها PrintSecondLowest, عند اس...     NaN   \n147  أكتب برنامج يقوم بترتيب جميع القيم الموجودة في...     NaN   \n148  قم بتعريف دالة إسمها PrintWordsOccurence, نمرر...     NaN   \n\n                                                  code  \\\n0    \\r\\n#include <iostream>\\r\\n\\r\\nint main() {\\r\\...   \n1    \\r\\n#include <iostream>\\r\\n\\r\\nint main() {\\r\\...   \n2    \\r\\n#include <iostream>\\r\\n\\r\\nint main() {\\r\\...   \n3    \\r\\n#include <iostream>\\r\\n\\r\\nint main() {\\r\\...   \n4    \\r\\n#include <iostream>\\r\\n\\r\\nint main() {\\r\\...   \n..                                                 ...   \n144  \\r\\n#include <iostream>\\r\\n\\r\\n// هنا قمنا بتع...   \n145  \\r\\n#include <iostream>\\r\\n\\r\\n// printSecondB...   \n146  \\r\\n#include <iostream>\\r\\n\\r\\n// printSecondL...   \n147  \\r\\n#include <iostream>\\r\\n\\r\\nint main() {\\r\\...   \n148  \\r\\n#include <iostream>\\r\\n#include <string>\\r...   \n\n                                                output  \\\n0    \\n\\r\\n\\t\\t\\t\\tEnter n1: 7 \\r\\n\\t\\t\\t\\tEnter n2...   \n1    \\r\\nEnter first number: 14\\r\\nEnter second num...   \n2    \\r\\n#include <iostream>\\r\\n\\r\\nint main() {\\r\\...   \n3    \\r\\n#include <iostream>\\r\\n\\r\\nint main() {\\r\\...   \n4       \\r\\nMonth number: 5\\r\\nMonth name: May\\r\\n\\t\\t   \n..                                                 ...   \n144  \\r\\n[0] is repeated 2 time(s)\\r\\n[4] is repeat...   \n145            \\r\\nSecond biggest number is: 8\\r\\n\\t\\t   \n146             \\r\\nSecond lowest number is: 2\\r\\n\\t\\t   \n147  \\r\\nMatrix before sorting \\r\\n5 2 4 \\r\\n1 7 3 ...   \n148  \\r\\n[3] I\\r\\n[2] am\\r\\n[1] happy.\\r\\n[1] a\\r\\n...   \n\n                                           Explanation  \\\n0    سنحصل على النتيجة التالية إذا قام المستخدم بإد...   \n1    سنحصل على النتيجة التالية إذا قام المستخدم بإد...   \n2    الطريقة الثالثة لحل التمرين و الحصول على نفس ا...   \n3    الطريقة الثالثة لحل التمرين و الحصول على نفس ا...   \n4    سنحصل على النتيجة التالية إذا قام المستخدم بإد...   \n..                                                 ...   \n144             سنحصل على النتيجة التالية عند التشغيل.   \n145  سنحصل على النتيجة التالية عند التشغيل في حال ك...   \n146  سنحصل على النتيجة التالية عند التشغيل في حال ك...   \n147             سنحصل على النتيجة التالية عند التشغيل.   \n148             سنحصل على النتيجة التالية عند التشغيل.   \n\n                                                  hint  \\\n0    مثال: إذا قام المستخدم بإدخال الأعداد 7 , 4 , ...   \n1                                                  NaN   \n2                                                  NaN   \n3                                                  NaN   \n4    مثال: إذا قام المستخدم بإدخال الرقم 5 فستكون ا...   \n..                                                 ...   \n144  مساعدة: يجب تمرير حجم المصفوفة أيضاً للدالة لأ...   \n145                                                NaN   \n146                                                NaN   \n147                                                NaN   \n148  مثال: إذا قمنا باستخدام الدالة PrintWordsOccur...   \n\n                                       generalConcepts  difficulty_2  \\\n0                          [أنواع البيانات, الأساسيات]      0.000000   \n1                          [أنواع البيانات, الأساسيات]      2.472315   \n2                          [أنواع البيانات, الأساسيات]      3.626062   \n3                          [أنواع البيانات, الأساسيات]      3.626062   \n4                  [الشروط, أنواع البيانات, الأساسيات]      6.798867   \n..                                                 ...           ...   \n144  [الحلقات, الشروط, أنواع البيانات, الأساسيات, ا...     86.118980   \n145  [الحلقات, الشروط, أنواع البيانات, الأساسيات, ا...     90.406554   \n146  [الحلقات, الشروط, أنواع البيانات, الأساسيات, ا...     91.128672   \n147  [الحلقات, الشروط, أنواع البيانات, الأساسيات, ا...     91.406988   \n148  [الحلقات, الشروط, أنواع البيانات, الأساسيات, ا...    100.000000   \n\n     total_keywords_count  required_time  mapped_required_time       mean  \n0                      14             17             11.250000   0.000000  \n1                      11             13              7.486158   0.000000  \n2                      10             14              9.313031   1.856973  \n3                      10             14              9.313031   3.053689  \n4                      20             48             53.399433   3.652047  \n..                    ...            ...                   ...        ...  \n144                    32             22             60.559490  98.683278  \n145                    37             27             68.953277  98.894904  \n146                    38             27             69.314336  99.147747  \n147                    48             35             79.453494  99.404529  \n148                    32             29             76.250000  99.660666  \n\n[149 rows x 15 columns]",
      "text/html": "<div>\n<style scoped>\n    .dataframe tbody tr th:only-of-type {\n        vertical-align: middle;\n    }\n\n    .dataframe tbody tr th {\n        vertical-align: top;\n    }\n\n    .dataframe thead th {\n        text-align: right;\n    }\n</style>\n<table border=\"1\" class=\"dataframe\">\n  <thead>\n    <tr style=\"text-align: right;\">\n      <th></th>\n      <th>index</th>\n      <th>Consept</th>\n      <th>ex</th>\n      <th>required</th>\n      <th>img_src</th>\n      <th>code</th>\n      <th>output</th>\n      <th>Explanation</th>\n      <th>hint</th>\n      <th>generalConcepts</th>\n      <th>difficulty_2</th>\n      <th>total_keywords_count</th>\n      <th>required_time</th>\n      <th>mapped_required_time</th>\n      <th>mean</th>\n    </tr>\n  </thead>\n  <tbody>\n    <tr>\n      <th>0</th>\n      <td>0</td>\n      <td>إجراء عمليات حسابية</td>\n      <td>11</td>\n      <td>أكتب برنامج يطلب من المستخدم إدخال خمسة أعداد ...</td>\n      <td>NaN</td>\n      <td>\\r\\n#include &lt;iostream&gt;\\r\\n\\r\\nint main() {\\r\\...</td>\n      <td>\\n\\r\\n\\t\\t\\t\\tEnter n1: 7 \\r\\n\\t\\t\\t\\tEnter n2...</td>\n      <td>سنحصل على النتيجة التالية إذا قام المستخدم بإد...</td>\n      <td>مثال: إذا قام المستخدم بإدخال الأعداد 7 , 4 , ...</td>\n      <td>[أنواع البيانات, الأساسيات]</td>\n      <td>0.000000</td>\n      <td>14</td>\n      <td>17</td>\n      <td>11.250000</td>\n      <td>0.000000</td>\n    </tr>\n    <tr>\n      <th>1</th>\n      <td>1</td>\n      <td>إجراء عمليات حسابية</td>\n      <td>5</td>\n      <td>أكتب برنامج يطلب من المستخدم إدخال رقمين, ثم ي...</td>\n      <td>NaN</td>\n      <td>\\r\\n#include &lt;iostream&gt;\\r\\n\\r\\nint main() {\\r\\...</td>\n      <td>\\r\\nEnter first number: 14\\r\\nEnter second num...</td>\n      <td>سنحصل على النتيجة التالية إذا قام المستخدم بإد...</td>\n      <td>NaN</td>\n      <td>[أنواع البيانات, الأساسيات]</td>\n      <td>2.472315</td>\n      <td>11</td>\n      <td>13</td>\n      <td>7.486158</td>\n      <td>0.000000</td>\n    </tr>\n    <tr>\n      <th>2</th>\n      <td>2</td>\n      <td>إجراء عمليات حسابية</td>\n      <td>7</td>\n      <td>أكتب برنامج يطلب من المستخدم إدخال ثلاث أرقام ...</td>\n      <td>NaN</td>\n      <td>\\r\\n#include &lt;iostream&gt;\\r\\n\\r\\nint main() {\\r\\...</td>\n      <td>\\r\\n#include &lt;iostream&gt;\\r\\n\\r\\nint main() {\\r\\...</td>\n      <td>الطريقة الثالثة لحل التمرين و الحصول على نفس ا...</td>\n      <td>NaN</td>\n      <td>[أنواع البيانات, الأساسيات]</td>\n      <td>3.626062</td>\n      <td>10</td>\n      <td>14</td>\n      <td>9.313031</td>\n      <td>1.856973</td>\n    </tr>\n    <tr>\n      <th>3</th>\n      <td>3</td>\n      <td>إجراء عمليات حسابية</td>\n      <td>8</td>\n      <td>أكتب برنامج يطلب من المستخدم إدخال رقمين, ثم ي...</td>\n      <td>NaN</td>\n      <td>\\r\\n#include &lt;iostream&gt;\\r\\n\\r\\nint main() {\\r\\...</td>\n      <td>\\r\\n#include &lt;iostream&gt;\\r\\n\\r\\nint main() {\\r\\...</td>\n      <td>الطريقة الثالثة لحل التمرين و الحصول على نفس ا...</td>\n      <td>NaN</td>\n      <td>[أنواع البيانات, الأساسيات]</td>\n      <td>3.626062</td>\n      <td>10</td>\n      <td>14</td>\n      <td>9.313031</td>\n      <td>3.053689</td>\n    </tr>\n    <tr>\n      <th>4</th>\n      <td>4</td>\n      <td>إجراء عمليات حسابية</td>\n      <td>12</td>\n      <td>أكتب برنامج يطلب من المستخدم إدخال رقم الشهر, ...</td>\n      <td>NaN</td>\n      <td>\\r\\n#include &lt;iostream&gt;\\r\\n\\r\\nint main() {\\r\\...</td>\n      <td>\\r\\nMonth number: 5\\r\\nMonth name: May\\r\\n\\t\\t</td>\n      <td>سنحصل على النتيجة التالية إذا قام المستخدم بإد...</td>\n      <td>مثال: إذا قام المستخدم بإدخال الرقم 5 فستكون ا...</td>\n      <td>[الشروط, أنواع البيانات, الأساسيات]</td>\n      <td>6.798867</td>\n      <td>20</td>\n      <td>48</td>\n      <td>53.399433</td>\n      <td>3.652047</td>\n    </tr>\n    <tr>\n      <th>...</th>\n      <td>...</td>\n      <td>...</td>\n      <td>...</td>\n      <td>...</td>\n      <td>...</td>\n      <td>...</td>\n      <td>...</td>\n      <td>...</td>\n      <td>...</td>\n      <td>...</td>\n      <td>...</td>\n      <td>...</td>\n      <td>...</td>\n      <td>...</td>\n      <td>...</td>\n    </tr>\n    <tr>\n      <th>144</th>\n      <td>144</td>\n      <td>التعامل مع المصفوفات</td>\n      <td>12</td>\n      <td>قم بتعريف دالة إسمها CountOccurrence, مهمتها ا...</td>\n      <td>NaN</td>\n      <td>\\r\\n#include &lt;iostream&gt;\\r\\n\\r\\n// هنا قمنا بتع...</td>\n      <td>\\r\\n[0] is repeated 2 time(s)\\r\\n[4] is repeat...</td>\n      <td>سنحصل على النتيجة التالية عند التشغيل.</td>\n      <td>مساعدة: يجب تمرير حجم المصفوفة أيضاً للدالة لأ...</td>\n      <td>[الحلقات, الشروط, أنواع البيانات, الأساسيات, ا...</td>\n      <td>86.118980</td>\n      <td>32</td>\n      <td>22</td>\n      <td>60.559490</td>\n      <td>98.683278</td>\n    </tr>\n    <tr>\n      <th>145</th>\n      <td>145</td>\n      <td>التعامل مع المصفوفات</td>\n      <td>26</td>\n      <td>قم بتعريف دالة إسمها PrintSecondBiggest, عند ا...</td>\n      <td>NaN</td>\n      <td>\\r\\n#include &lt;iostream&gt;\\r\\n\\r\\n// printSecondB...</td>\n      <td>\\r\\nSecond biggest number is: 8\\r\\n\\t\\t</td>\n      <td>سنحصل على النتيجة التالية عند التشغيل في حال ك...</td>\n      <td>NaN</td>\n      <td>[الحلقات, الشروط, أنواع البيانات, الأساسيات, ا...</td>\n      <td>90.406554</td>\n      <td>37</td>\n      <td>27</td>\n      <td>68.953277</td>\n      <td>98.894904</td>\n    </tr>\n    <tr>\n      <th>146</th>\n      <td>146</td>\n      <td>التعامل مع المصفوفات</td>\n      <td>27</td>\n      <td>قم بتعريف دالة إسمها PrintSecondLowest, عند اس...</td>\n      <td>NaN</td>\n      <td>\\r\\n#include &lt;iostream&gt;\\r\\n\\r\\n// printSecondL...</td>\n      <td>\\r\\nSecond lowest number is: 2\\r\\n\\t\\t</td>\n      <td>سنحصل على النتيجة التالية عند التشغيل في حال ك...</td>\n      <td>NaN</td>\n      <td>[الحلقات, الشروط, أنواع البيانات, الأساسيات, ا...</td>\n      <td>91.128672</td>\n      <td>38</td>\n      <td>27</td>\n      <td>69.314336</td>\n      <td>99.147747</td>\n    </tr>\n    <tr>\n      <th>147</th>\n      <td>147</td>\n      <td>التعامل مع المصفوفات</td>\n      <td>23</td>\n      <td>أكتب برنامج يقوم بترتيب جميع القيم الموجودة في...</td>\n      <td>NaN</td>\n      <td>\\r\\n#include &lt;iostream&gt;\\r\\n\\r\\nint main() {\\r\\...</td>\n      <td>\\r\\nMatrix before sorting \\r\\n5 2 4 \\r\\n1 7 3 ...</td>\n      <td>سنحصل على النتيجة التالية عند التشغيل.</td>\n      <td>NaN</td>\n      <td>[الحلقات, الشروط, أنواع البيانات, الأساسيات, ا...</td>\n      <td>91.406988</td>\n      <td>48</td>\n      <td>35</td>\n      <td>79.453494</td>\n      <td>99.404529</td>\n    </tr>\n    <tr>\n      <th>148</th>\n      <td>148</td>\n      <td>التعامل مع الأرقام و النصوص</td>\n      <td>13</td>\n      <td>قم بتعريف دالة إسمها PrintWordsOccurence, نمرر...</td>\n      <td>NaN</td>\n      <td>\\r\\n#include &lt;iostream&gt;\\r\\n#include &lt;string&gt;\\r...</td>\n      <td>\\r\\n[3] I\\r\\n[2] am\\r\\n[1] happy.\\r\\n[1] a\\r\\n...</td>\n      <td>سنحصل على النتيجة التالية عند التشغيل.</td>\n      <td>مثال: إذا قمنا باستخدام الدالة PrintWordsOccur...</td>\n      <td>[الحلقات, الشروط, أنواع البيانات, الأساسيات, ا...</td>\n      <td>100.000000</td>\n      <td>32</td>\n      <td>29</td>\n      <td>76.250000</td>\n      <td>99.660666</td>\n    </tr>\n  </tbody>\n</table>\n<p>149 rows × 15 columns</p>\n</div>"
     },
     "execution_count": 26,
     "metadata": {},
     "output_type": "execute_result"
    }
   ],
   "source": [
    "ex['mean'] = ex['mean'] - ex['difficulty_2']\n",
    "ex.loc[ex['index'] > 0, 'mean'] = ex['mean']/ex['index']\n",
    "ex['mean'] = ex['mean'] * 100/ ex['difficulty_2'].mean()\n",
    "ex"
   ],
   "metadata": {
    "collapsed": false,
    "pycharm": {
     "name": "#%%\n"
    }
   }
  },
  {
   "cell_type": "code",
   "execution_count": 31,
   "outputs": [
    {
     "data": {
      "text/plain": "'\\r\\n#include <iostream>\\r\\n\\r\\nint main() {\\r\\n\\tdouble n1, n2, n3, n4, n5, avg;\\r\\n\\r\\n\\tstd::cout << \"Enter n1: \";\\r\\n\\tstd::cin >> n1;\\r\\n\\r\\n\\tstd::cout << \"Enter n2: \";\\r\\n\\tstd::cin >> n2;\\r\\n\\r\\n\\tstd::cout << \"Enter n3: \";\\r\\n\\tstd::cin >> n3;\\r\\n\\r\\n\\tstd::cout << \"Enter n4: \";\\r\\n\\tstd::cin >> n4;\\r\\n\\r\\n\\tstd::cout << \"Enter n5: \";\\r\\n\\tstd::cin >> n5;\\r\\n\\r\\n\\tavg = (n1 + n2 + n3 + n4 + n5) / 5;\\r\\n\\r\\n\\tstd::cout << \"Average = \" << avg;\\r\\n\\r\\n\\tchar end; std::cin >> end;\\r\\n\\treturn 0;\\r\\n\\r\\n}\\r\\n\\t\\t'"
     },
     "execution_count": 31,
     "metadata": {},
     "output_type": "execute_result"
    }
   ],
   "source": [
    "ex['code'][0]"
   ],
   "metadata": {
    "collapsed": false,
    "pycharm": {
     "name": "#%%\n"
    }
   }
  },
  {
   "cell_type": "code",
   "execution_count": 32,
   "outputs": [
    {
     "data": {
      "text/plain": "     index                      Consept  ex  \\\n0        0          إجراء عمليات حسابية  11   \n1        1          إجراء عمليات حسابية   5   \n2        2          إجراء عمليات حسابية   7   \n3        3          إجراء عمليات حسابية   8   \n4        4          إجراء عمليات حسابية  12   \n..     ...                          ...  ..   \n144    144         التعامل مع المصفوفات  12   \n145    145         التعامل مع المصفوفات  26   \n146    146         التعامل مع المصفوفات  27   \n147    147         التعامل مع المصفوفات  23   \n148    148  التعامل مع الأرقام و النصوص  13   \n\n                                              required img_src  \\\n0    أكتب برنامج يطلب من المستخدم إدخال خمسة أعداد ...     NaN   \n1    أكتب برنامج يطلب من المستخدم إدخال رقمين, ثم ي...     NaN   \n2    أكتب برنامج يطلب من المستخدم إدخال ثلاث أرقام ...     NaN   \n3    أكتب برنامج يطلب من المستخدم إدخال رقمين, ثم ي...     NaN   \n4    أكتب برنامج يطلب من المستخدم إدخال رقم الشهر, ...     NaN   \n..                                                 ...     ...   \n144  قم بتعريف دالة إسمها CountOccurrence, مهمتها ا...     NaN   \n145  قم بتعريف دالة إسمها PrintSecondBiggest, عند ا...     NaN   \n146  قم بتعريف دالة إسمها PrintSecondLowest, عند اس...     NaN   \n147  أكتب برنامج يقوم بترتيب جميع القيم الموجودة في...     NaN   \n148  قم بتعريف دالة إسمها PrintWordsOccurence, نمرر...     NaN   \n\n                                                  code  \\\n0    \\r\\n#include <iostream>\\r\\n\\r\\nint main() {\\r\\...   \n1    \\r\\n#include <iostream>\\r\\n\\r\\nint main() {\\r\\...   \n2    \\r\\n#include <iostream>\\r\\n\\r\\nint main() {\\r\\...   \n3    \\r\\n#include <iostream>\\r\\n\\r\\nint main() {\\r\\...   \n4    \\r\\n#include <iostream>\\r\\n\\r\\nint main() {\\r\\...   \n..                                                 ...   \n144  \\r\\n#include <iostream>\\r\\n\\r\\n// هنا قمنا بتع...   \n145  \\r\\n#include <iostream>\\r\\n\\r\\n// printSecondB...   \n146  \\r\\n#include <iostream>\\r\\n\\r\\n// printSecondL...   \n147  \\r\\n#include <iostream>\\r\\n\\r\\nint main() {\\r\\...   \n148  \\r\\n#include <iostream>\\r\\n#include <string>\\r...   \n\n                                                output  \\\n0    \\n\\r\\n\\t\\t\\t\\tEnter n1: 7 \\r\\n\\t\\t\\t\\tEnter n2...   \n1    \\r\\nEnter first number: 14\\r\\nEnter second num...   \n2    \\r\\n#include <iostream>\\r\\n\\r\\nint main() {\\r\\...   \n3    \\r\\n#include <iostream>\\r\\n\\r\\nint main() {\\r\\...   \n4       \\r\\nMonth number: 5\\r\\nMonth name: May\\r\\n\\t\\t   \n..                                                 ...   \n144  \\r\\n[0] is repeated 2 time(s)\\r\\n[4] is repeat...   \n145            \\r\\nSecond biggest number is: 8\\r\\n\\t\\t   \n146             \\r\\nSecond lowest number is: 2\\r\\n\\t\\t   \n147  \\r\\nMatrix before sorting \\r\\n5 2 4 \\r\\n1 7 3 ...   \n148  \\r\\n[3] I\\r\\n[2] am\\r\\n[1] happy.\\r\\n[1] a\\r\\n...   \n\n                                           Explanation  \\\n0    سنحصل على النتيجة التالية إذا قام المستخدم بإد...   \n1    سنحصل على النتيجة التالية إذا قام المستخدم بإد...   \n2    الطريقة الثالثة لحل التمرين و الحصول على نفس ا...   \n3    الطريقة الثالثة لحل التمرين و الحصول على نفس ا...   \n4    سنحصل على النتيجة التالية إذا قام المستخدم بإد...   \n..                                                 ...   \n144             سنحصل على النتيجة التالية عند التشغيل.   \n145  سنحصل على النتيجة التالية عند التشغيل في حال ك...   \n146  سنحصل على النتيجة التالية عند التشغيل في حال ك...   \n147             سنحصل على النتيجة التالية عند التشغيل.   \n148             سنحصل على النتيجة التالية عند التشغيل.   \n\n                                                  hint  \\\n0    مثال: إذا قام المستخدم بإدخال الأعداد 7 , 4 , ...   \n1                                                  NaN   \n2                                                  NaN   \n3                                                  NaN   \n4    مثال: إذا قام المستخدم بإدخال الرقم 5 فستكون ا...   \n..                                                 ...   \n144  مساعدة: يجب تمرير حجم المصفوفة أيضاً للدالة لأ...   \n145                                                NaN   \n146                                                NaN   \n147                                                NaN   \n148  مثال: إذا قمنا باستخدام الدالة PrintWordsOccur...   \n\n                                       generalConcepts  difficulty_2  \\\n0                          [أنواع البيانات, الأساسيات]      0.000000   \n1                          [أنواع البيانات, الأساسيات]      2.472315   \n2                          [أنواع البيانات, الأساسيات]      3.626062   \n3                          [أنواع البيانات, الأساسيات]      3.626062   \n4                  [الشروط, أنواع البيانات, الأساسيات]      6.798867   \n..                                                 ...           ...   \n144  [الحلقات, الشروط, أنواع البيانات, الأساسيات, ا...     86.118980   \n145  [الحلقات, الشروط, أنواع البيانات, الأساسيات, ا...     90.406554   \n146  [الحلقات, الشروط, أنواع البيانات, الأساسيات, ا...     91.128672   \n147  [الحلقات, الشروط, أنواع البيانات, الأساسيات, ا...     91.406988   \n148  [الحلقات, الشروط, أنواع البيانات, الأساسيات, ا...    100.000000   \n\n     total_keywords_count  required_time  mapped_required_time       mean  \n0                      14             17             11.250000   0.000000  \n1                      11             13              7.486158   0.000000  \n2                      10             14              9.313031   1.856973  \n3                      10             14              9.313031   3.053689  \n4                      20             48             53.399433   3.652047  \n..                    ...            ...                   ...        ...  \n144                    32             22             60.559490  98.683278  \n145                    37             27             68.953277  98.894904  \n146                    38             27             69.314336  99.147747  \n147                    48             35             79.453494  99.404529  \n148                    32             29             76.250000  99.660666  \n\n[149 rows x 15 columns]",
      "text/html": "<div>\n<style scoped>\n    .dataframe tbody tr th:only-of-type {\n        vertical-align: middle;\n    }\n\n    .dataframe tbody tr th {\n        vertical-align: top;\n    }\n\n    .dataframe thead th {\n        text-align: right;\n    }\n</style>\n<table border=\"1\" class=\"dataframe\">\n  <thead>\n    <tr style=\"text-align: right;\">\n      <th></th>\n      <th>index</th>\n      <th>Consept</th>\n      <th>ex</th>\n      <th>required</th>\n      <th>img_src</th>\n      <th>code</th>\n      <th>output</th>\n      <th>Explanation</th>\n      <th>hint</th>\n      <th>generalConcepts</th>\n      <th>difficulty_2</th>\n      <th>total_keywords_count</th>\n      <th>required_time</th>\n      <th>mapped_required_time</th>\n      <th>mean</th>\n    </tr>\n  </thead>\n  <tbody>\n    <tr>\n      <th>0</th>\n      <td>0</td>\n      <td>إجراء عمليات حسابية</td>\n      <td>11</td>\n      <td>أكتب برنامج يطلب من المستخدم إدخال خمسة أعداد ...</td>\n      <td>NaN</td>\n      <td>\\r\\n#include &lt;iostream&gt;\\r\\n\\r\\nint main() {\\r\\...</td>\n      <td>\\n\\r\\n\\t\\t\\t\\tEnter n1: 7 \\r\\n\\t\\t\\t\\tEnter n2...</td>\n      <td>سنحصل على النتيجة التالية إذا قام المستخدم بإد...</td>\n      <td>مثال: إذا قام المستخدم بإدخال الأعداد 7 , 4 , ...</td>\n      <td>[أنواع البيانات, الأساسيات]</td>\n      <td>0.000000</td>\n      <td>14</td>\n      <td>17</td>\n      <td>11.250000</td>\n      <td>0.000000</td>\n    </tr>\n    <tr>\n      <th>1</th>\n      <td>1</td>\n      <td>إجراء عمليات حسابية</td>\n      <td>5</td>\n      <td>أكتب برنامج يطلب من المستخدم إدخال رقمين, ثم ي...</td>\n      <td>NaN</td>\n      <td>\\r\\n#include &lt;iostream&gt;\\r\\n\\r\\nint main() {\\r\\...</td>\n      <td>\\r\\nEnter first number: 14\\r\\nEnter second num...</td>\n      <td>سنحصل على النتيجة التالية إذا قام المستخدم بإد...</td>\n      <td>NaN</td>\n      <td>[أنواع البيانات, الأساسيات]</td>\n      <td>2.472315</td>\n      <td>11</td>\n      <td>13</td>\n      <td>7.486158</td>\n      <td>0.000000</td>\n    </tr>\n    <tr>\n      <th>2</th>\n      <td>2</td>\n      <td>إجراء عمليات حسابية</td>\n      <td>7</td>\n      <td>أكتب برنامج يطلب من المستخدم إدخال ثلاث أرقام ...</td>\n      <td>NaN</td>\n      <td>\\r\\n#include &lt;iostream&gt;\\r\\n\\r\\nint main() {\\r\\...</td>\n      <td>\\r\\n#include &lt;iostream&gt;\\r\\n\\r\\nint main() {\\r\\...</td>\n      <td>الطريقة الثالثة لحل التمرين و الحصول على نفس ا...</td>\n      <td>NaN</td>\n      <td>[أنواع البيانات, الأساسيات]</td>\n      <td>3.626062</td>\n      <td>10</td>\n      <td>14</td>\n      <td>9.313031</td>\n      <td>1.856973</td>\n    </tr>\n    <tr>\n      <th>3</th>\n      <td>3</td>\n      <td>إجراء عمليات حسابية</td>\n      <td>8</td>\n      <td>أكتب برنامج يطلب من المستخدم إدخال رقمين, ثم ي...</td>\n      <td>NaN</td>\n      <td>\\r\\n#include &lt;iostream&gt;\\r\\n\\r\\nint main() {\\r\\...</td>\n      <td>\\r\\n#include &lt;iostream&gt;\\r\\n\\r\\nint main() {\\r\\...</td>\n      <td>الطريقة الثالثة لحل التمرين و الحصول على نفس ا...</td>\n      <td>NaN</td>\n      <td>[أنواع البيانات, الأساسيات]</td>\n      <td>3.626062</td>\n      <td>10</td>\n      <td>14</td>\n      <td>9.313031</td>\n      <td>3.053689</td>\n    </tr>\n    <tr>\n      <th>4</th>\n      <td>4</td>\n      <td>إجراء عمليات حسابية</td>\n      <td>12</td>\n      <td>أكتب برنامج يطلب من المستخدم إدخال رقم الشهر, ...</td>\n      <td>NaN</td>\n      <td>\\r\\n#include &lt;iostream&gt;\\r\\n\\r\\nint main() {\\r\\...</td>\n      <td>\\r\\nMonth number: 5\\r\\nMonth name: May\\r\\n\\t\\t</td>\n      <td>سنحصل على النتيجة التالية إذا قام المستخدم بإد...</td>\n      <td>مثال: إذا قام المستخدم بإدخال الرقم 5 فستكون ا...</td>\n      <td>[الشروط, أنواع البيانات, الأساسيات]</td>\n      <td>6.798867</td>\n      <td>20</td>\n      <td>48</td>\n      <td>53.399433</td>\n      <td>3.652047</td>\n    </tr>\n    <tr>\n      <th>...</th>\n      <td>...</td>\n      <td>...</td>\n      <td>...</td>\n      <td>...</td>\n      <td>...</td>\n      <td>...</td>\n      <td>...</td>\n      <td>...</td>\n      <td>...</td>\n      <td>...</td>\n      <td>...</td>\n      <td>...</td>\n      <td>...</td>\n      <td>...</td>\n      <td>...</td>\n    </tr>\n    <tr>\n      <th>144</th>\n      <td>144</td>\n      <td>التعامل مع المصفوفات</td>\n      <td>12</td>\n      <td>قم بتعريف دالة إسمها CountOccurrence, مهمتها ا...</td>\n      <td>NaN</td>\n      <td>\\r\\n#include &lt;iostream&gt;\\r\\n\\r\\n// هنا قمنا بتع...</td>\n      <td>\\r\\n[0] is repeated 2 time(s)\\r\\n[4] is repeat...</td>\n      <td>سنحصل على النتيجة التالية عند التشغيل.</td>\n      <td>مساعدة: يجب تمرير حجم المصفوفة أيضاً للدالة لأ...</td>\n      <td>[الحلقات, الشروط, أنواع البيانات, الأساسيات, ا...</td>\n      <td>86.118980</td>\n      <td>32</td>\n      <td>22</td>\n      <td>60.559490</td>\n      <td>98.683278</td>\n    </tr>\n    <tr>\n      <th>145</th>\n      <td>145</td>\n      <td>التعامل مع المصفوفات</td>\n      <td>26</td>\n      <td>قم بتعريف دالة إسمها PrintSecondBiggest, عند ا...</td>\n      <td>NaN</td>\n      <td>\\r\\n#include &lt;iostream&gt;\\r\\n\\r\\n// printSecondB...</td>\n      <td>\\r\\nSecond biggest number is: 8\\r\\n\\t\\t</td>\n      <td>سنحصل على النتيجة التالية عند التشغيل في حال ك...</td>\n      <td>NaN</td>\n      <td>[الحلقات, الشروط, أنواع البيانات, الأساسيات, ا...</td>\n      <td>90.406554</td>\n      <td>37</td>\n      <td>27</td>\n      <td>68.953277</td>\n      <td>98.894904</td>\n    </tr>\n    <tr>\n      <th>146</th>\n      <td>146</td>\n      <td>التعامل مع المصفوفات</td>\n      <td>27</td>\n      <td>قم بتعريف دالة إسمها PrintSecondLowest, عند اس...</td>\n      <td>NaN</td>\n      <td>\\r\\n#include &lt;iostream&gt;\\r\\n\\r\\n// printSecondL...</td>\n      <td>\\r\\nSecond lowest number is: 2\\r\\n\\t\\t</td>\n      <td>سنحصل على النتيجة التالية عند التشغيل في حال ك...</td>\n      <td>NaN</td>\n      <td>[الحلقات, الشروط, أنواع البيانات, الأساسيات, ا...</td>\n      <td>91.128672</td>\n      <td>38</td>\n      <td>27</td>\n      <td>69.314336</td>\n      <td>99.147747</td>\n    </tr>\n    <tr>\n      <th>147</th>\n      <td>147</td>\n      <td>التعامل مع المصفوفات</td>\n      <td>23</td>\n      <td>أكتب برنامج يقوم بترتيب جميع القيم الموجودة في...</td>\n      <td>NaN</td>\n      <td>\\r\\n#include &lt;iostream&gt;\\r\\n\\r\\nint main() {\\r\\...</td>\n      <td>\\r\\nMatrix before sorting \\r\\n5 2 4 \\r\\n1 7 3 ...</td>\n      <td>سنحصل على النتيجة التالية عند التشغيل.</td>\n      <td>NaN</td>\n      <td>[الحلقات, الشروط, أنواع البيانات, الأساسيات, ا...</td>\n      <td>91.406988</td>\n      <td>48</td>\n      <td>35</td>\n      <td>79.453494</td>\n      <td>99.404529</td>\n    </tr>\n    <tr>\n      <th>148</th>\n      <td>148</td>\n      <td>التعامل مع الأرقام و النصوص</td>\n      <td>13</td>\n      <td>قم بتعريف دالة إسمها PrintWordsOccurence, نمرر...</td>\n      <td>NaN</td>\n      <td>\\r\\n#include &lt;iostream&gt;\\r\\n#include &lt;string&gt;\\r...</td>\n      <td>\\r\\n[3] I\\r\\n[2] am\\r\\n[1] happy.\\r\\n[1] a\\r\\n...</td>\n      <td>سنحصل على النتيجة التالية عند التشغيل.</td>\n      <td>مثال: إذا قمنا باستخدام الدالة PrintWordsOccur...</td>\n      <td>[الحلقات, الشروط, أنواع البيانات, الأساسيات, ا...</td>\n      <td>100.000000</td>\n      <td>32</td>\n      <td>29</td>\n      <td>76.250000</td>\n      <td>99.660666</td>\n    </tr>\n  </tbody>\n</table>\n<p>149 rows × 15 columns</p>\n</div>"
     },
     "execution_count": 32,
     "metadata": {},
     "output_type": "execute_result"
    }
   ],
   "source": [
    "ex"
   ],
   "metadata": {
    "collapsed": false,
    "pycharm": {
     "name": "#%%\n"
    }
   }
  },
  {
   "cell_type": "code",
   "execution_count": 40,
   "outputs": [],
   "source": [
    "##تعديل بناء على المتطلبات\n",
    "def find_required_concepts_numbers_percentage(generalConcepts):\n",
    "\n",
    "    concept_difficulty = {x : concepts_level[x] for x in generalConcepts}\n",
    "    max_value = np.max(list(concept_dificulty.values()))\n",
    "    concepts_with_max_value = [concept for concept, value in concept_dificulty.items() if value == max_value]\n",
    "    required_concepts_numbers_percentage = []\n",
    "    for concept in concepts_with_max_value:\n",
    "        required_concepts_numbers_percentage.append(np.sum([1 if concepts_level[x] < max_value else 0 for x in required_concepts[concept]])*100/len(list(concepts_level.keys())))\n",
    "    # max_concept_difficulty =\n",
    "    return np.max(required_concepts_numbers_percentage)\n",
    "\n",
    "#find_required_concepts_numbers_percentage(['الأساسيات','التعامل مع الأعداد','الحلقات'])\n",
    "ex['emptying'] = (ex['generalConcepts'].apply(lambda x: find_required_concepts_numbers_percentage(x)) + ex['mean'])/2"
   ],
   "metadata": {
    "collapsed": false,
    "pycharm": {
     "name": "#%%\n"
    }
   }
  },
  {
   "cell_type": "code",
   "execution_count": null,
   "outputs": [],
   "source": [],
   "metadata": {
    "collapsed": false,
    "pycharm": {
     "name": "#%%\n"
    }
   }
  },
  {
   "cell_type": "code",
   "execution_count": 41,
   "outputs": [
    {
     "data": {
      "text/plain": "     index                      Consept  ex  \\\n0        0          إجراء عمليات حسابية  11   \n1        1          إجراء عمليات حسابية   5   \n2        2          إجراء عمليات حسابية   7   \n3        3          إجراء عمليات حسابية   8   \n4        4          إجراء عمليات حسابية  12   \n..     ...                          ...  ..   \n144    144         التعامل مع المصفوفات  12   \n145    145         التعامل مع المصفوفات  26   \n146    146         التعامل مع المصفوفات  27   \n147    147         التعامل مع المصفوفات  23   \n148    148  التعامل مع الأرقام و النصوص  13   \n\n                                              required img_src  \\\n0    أكتب برنامج يطلب من المستخدم إدخال خمسة أعداد ...     NaN   \n1    أكتب برنامج يطلب من المستخدم إدخال رقمين, ثم ي...     NaN   \n2    أكتب برنامج يطلب من المستخدم إدخال ثلاث أرقام ...     NaN   \n3    أكتب برنامج يطلب من المستخدم إدخال رقمين, ثم ي...     NaN   \n4    أكتب برنامج يطلب من المستخدم إدخال رقم الشهر, ...     NaN   \n..                                                 ...     ...   \n144  قم بتعريف دالة إسمها CountOccurrence, مهمتها ا...     NaN   \n145  قم بتعريف دالة إسمها PrintSecondBiggest, عند ا...     NaN   \n146  قم بتعريف دالة إسمها PrintSecondLowest, عند اس...     NaN   \n147  أكتب برنامج يقوم بترتيب جميع القيم الموجودة في...     NaN   \n148  قم بتعريف دالة إسمها PrintWordsOccurence, نمرر...     NaN   \n\n                                                  code  \\\n0    \\r\\n#include <iostream>\\r\\n\\r\\nint main() {\\r\\...   \n1    \\r\\n#include <iostream>\\r\\n\\r\\nint main() {\\r\\...   \n2    \\r\\n#include <iostream>\\r\\n\\r\\nint main() {\\r\\...   \n3    \\r\\n#include <iostream>\\r\\n\\r\\nint main() {\\r\\...   \n4    \\r\\n#include <iostream>\\r\\n\\r\\nint main() {\\r\\...   \n..                                                 ...   \n144  \\r\\n#include <iostream>\\r\\n\\r\\n// هنا قمنا بتع...   \n145  \\r\\n#include <iostream>\\r\\n\\r\\n// printSecondB...   \n146  \\r\\n#include <iostream>\\r\\n\\r\\n// printSecondL...   \n147  \\r\\n#include <iostream>\\r\\n\\r\\nint main() {\\r\\...   \n148  \\r\\n#include <iostream>\\r\\n#include <string>\\r...   \n\n                                                output  \\\n0    \\n\\r\\n\\t\\t\\t\\tEnter n1: 7 \\r\\n\\t\\t\\t\\tEnter n2...   \n1    \\r\\nEnter first number: 14\\r\\nEnter second num...   \n2    \\r\\n#include <iostream>\\r\\n\\r\\nint main() {\\r\\...   \n3    \\r\\n#include <iostream>\\r\\n\\r\\nint main() {\\r\\...   \n4       \\r\\nMonth number: 5\\r\\nMonth name: May\\r\\n\\t\\t   \n..                                                 ...   \n144  \\r\\n[0] is repeated 2 time(s)\\r\\n[4] is repeat...   \n145            \\r\\nSecond biggest number is: 8\\r\\n\\t\\t   \n146             \\r\\nSecond lowest number is: 2\\r\\n\\t\\t   \n147  \\r\\nMatrix before sorting \\r\\n5 2 4 \\r\\n1 7 3 ...   \n148  \\r\\n[3] I\\r\\n[2] am\\r\\n[1] happy.\\r\\n[1] a\\r\\n...   \n\n                                           Explanation  \\\n0    سنحصل على النتيجة التالية إذا قام المستخدم بإد...   \n1    سنحصل على النتيجة التالية إذا قام المستخدم بإد...   \n2    الطريقة الثالثة لحل التمرين و الحصول على نفس ا...   \n3    الطريقة الثالثة لحل التمرين و الحصول على نفس ا...   \n4    سنحصل على النتيجة التالية إذا قام المستخدم بإد...   \n..                                                 ...   \n144             سنحصل على النتيجة التالية عند التشغيل.   \n145  سنحصل على النتيجة التالية عند التشغيل في حال ك...   \n146  سنحصل على النتيجة التالية عند التشغيل في حال ك...   \n147             سنحصل على النتيجة التالية عند التشغيل.   \n148             سنحصل على النتيجة التالية عند التشغيل.   \n\n                                                  hint  \\\n0    مثال: إذا قام المستخدم بإدخال الأعداد 7 , 4 , ...   \n1                                                  NaN   \n2                                                  NaN   \n3                                                  NaN   \n4    مثال: إذا قام المستخدم بإدخال الرقم 5 فستكون ا...   \n..                                                 ...   \n144  مساعدة: يجب تمرير حجم المصفوفة أيضاً للدالة لأ...   \n145                                                NaN   \n146                                                NaN   \n147                                                NaN   \n148  مثال: إذا قمنا باستخدام الدالة PrintWordsOccur...   \n\n                                       generalConcepts  difficulty_2  \\\n0                          [أنواع البيانات, الأساسيات]      0.000000   \n1                          [أنواع البيانات, الأساسيات]      2.472315   \n2                          [أنواع البيانات, الأساسيات]      3.626062   \n3                          [أنواع البيانات, الأساسيات]      3.626062   \n4                  [الشروط, أنواع البيانات, الأساسيات]      6.798867   \n..                                                 ...           ...   \n144  [الحلقات, الشروط, أنواع البيانات, الأساسيات, ا...     86.118980   \n145  [الحلقات, الشروط, أنواع البيانات, الأساسيات, ا...     90.406554   \n146  [الحلقات, الشروط, أنواع البيانات, الأساسيات, ا...     91.128672   \n147  [الحلقات, الشروط, أنواع البيانات, الأساسيات, ا...     91.406988   \n148  [الحلقات, الشروط, أنواع البيانات, الأساسيات, ا...    100.000000   \n\n     total_keywords_count  required_time  mapped_required_time       mean  \\\n0                      14             17             11.250000   0.000000   \n1                      11             13              7.486158   0.000000   \n2                      10             14              9.313031   1.856973   \n3                      10             14              9.313031   3.053689   \n4                      20             48             53.399433   3.652047   \n..                    ...            ...                   ...        ...   \n144                    32             22             60.559490  98.683278   \n145                    37             27             68.953277  98.894904   \n146                    38             27             69.314336  99.147747   \n147                    48             35             79.453494  99.404529   \n148                    32             29             76.250000  99.660666   \n\n      emptying  \n0     5.000000  \n1     5.000000  \n2     5.928486  \n3     6.526844  \n4    21.826023  \n..         ...  \n144  69.341639  \n145  69.447452  \n146  69.573874  \n147  69.702265  \n148  69.830333  \n\n[149 rows x 16 columns]",
      "text/html": "<div>\n<style scoped>\n    .dataframe tbody tr th:only-of-type {\n        vertical-align: middle;\n    }\n\n    .dataframe tbody tr th {\n        vertical-align: top;\n    }\n\n    .dataframe thead th {\n        text-align: right;\n    }\n</style>\n<table border=\"1\" class=\"dataframe\">\n  <thead>\n    <tr style=\"text-align: right;\">\n      <th></th>\n      <th>index</th>\n      <th>Consept</th>\n      <th>ex</th>\n      <th>required</th>\n      <th>img_src</th>\n      <th>code</th>\n      <th>output</th>\n      <th>Explanation</th>\n      <th>hint</th>\n      <th>generalConcepts</th>\n      <th>difficulty_2</th>\n      <th>total_keywords_count</th>\n      <th>required_time</th>\n      <th>mapped_required_time</th>\n      <th>mean</th>\n      <th>emptying</th>\n    </tr>\n  </thead>\n  <tbody>\n    <tr>\n      <th>0</th>\n      <td>0</td>\n      <td>إجراء عمليات حسابية</td>\n      <td>11</td>\n      <td>أكتب برنامج يطلب من المستخدم إدخال خمسة أعداد ...</td>\n      <td>NaN</td>\n      <td>\\r\\n#include &lt;iostream&gt;\\r\\n\\r\\nint main() {\\r\\...</td>\n      <td>\\n\\r\\n\\t\\t\\t\\tEnter n1: 7 \\r\\n\\t\\t\\t\\tEnter n2...</td>\n      <td>سنحصل على النتيجة التالية إذا قام المستخدم بإد...</td>\n      <td>مثال: إذا قام المستخدم بإدخال الأعداد 7 , 4 , ...</td>\n      <td>[أنواع البيانات, الأساسيات]</td>\n      <td>0.000000</td>\n      <td>14</td>\n      <td>17</td>\n      <td>11.250000</td>\n      <td>0.000000</td>\n      <td>5.000000</td>\n    </tr>\n    <tr>\n      <th>1</th>\n      <td>1</td>\n      <td>إجراء عمليات حسابية</td>\n      <td>5</td>\n      <td>أكتب برنامج يطلب من المستخدم إدخال رقمين, ثم ي...</td>\n      <td>NaN</td>\n      <td>\\r\\n#include &lt;iostream&gt;\\r\\n\\r\\nint main() {\\r\\...</td>\n      <td>\\r\\nEnter first number: 14\\r\\nEnter second num...</td>\n      <td>سنحصل على النتيجة التالية إذا قام المستخدم بإد...</td>\n      <td>NaN</td>\n      <td>[أنواع البيانات, الأساسيات]</td>\n      <td>2.472315</td>\n      <td>11</td>\n      <td>13</td>\n      <td>7.486158</td>\n      <td>0.000000</td>\n      <td>5.000000</td>\n    </tr>\n    <tr>\n      <th>2</th>\n      <td>2</td>\n      <td>إجراء عمليات حسابية</td>\n      <td>7</td>\n      <td>أكتب برنامج يطلب من المستخدم إدخال ثلاث أرقام ...</td>\n      <td>NaN</td>\n      <td>\\r\\n#include &lt;iostream&gt;\\r\\n\\r\\nint main() {\\r\\...</td>\n      <td>\\r\\n#include &lt;iostream&gt;\\r\\n\\r\\nint main() {\\r\\...</td>\n      <td>الطريقة الثالثة لحل التمرين و الحصول على نفس ا...</td>\n      <td>NaN</td>\n      <td>[أنواع البيانات, الأساسيات]</td>\n      <td>3.626062</td>\n      <td>10</td>\n      <td>14</td>\n      <td>9.313031</td>\n      <td>1.856973</td>\n      <td>5.928486</td>\n    </tr>\n    <tr>\n      <th>3</th>\n      <td>3</td>\n      <td>إجراء عمليات حسابية</td>\n      <td>8</td>\n      <td>أكتب برنامج يطلب من المستخدم إدخال رقمين, ثم ي...</td>\n      <td>NaN</td>\n      <td>\\r\\n#include &lt;iostream&gt;\\r\\n\\r\\nint main() {\\r\\...</td>\n      <td>\\r\\n#include &lt;iostream&gt;\\r\\n\\r\\nint main() {\\r\\...</td>\n      <td>الطريقة الثالثة لحل التمرين و الحصول على نفس ا...</td>\n      <td>NaN</td>\n      <td>[أنواع البيانات, الأساسيات]</td>\n      <td>3.626062</td>\n      <td>10</td>\n      <td>14</td>\n      <td>9.313031</td>\n      <td>3.053689</td>\n      <td>6.526844</td>\n    </tr>\n    <tr>\n      <th>4</th>\n      <td>4</td>\n      <td>إجراء عمليات حسابية</td>\n      <td>12</td>\n      <td>أكتب برنامج يطلب من المستخدم إدخال رقم الشهر, ...</td>\n      <td>NaN</td>\n      <td>\\r\\n#include &lt;iostream&gt;\\r\\n\\r\\nint main() {\\r\\...</td>\n      <td>\\r\\nMonth number: 5\\r\\nMonth name: May\\r\\n\\t\\t</td>\n      <td>سنحصل على النتيجة التالية إذا قام المستخدم بإد...</td>\n      <td>مثال: إذا قام المستخدم بإدخال الرقم 5 فستكون ا...</td>\n      <td>[الشروط, أنواع البيانات, الأساسيات]</td>\n      <td>6.798867</td>\n      <td>20</td>\n      <td>48</td>\n      <td>53.399433</td>\n      <td>3.652047</td>\n      <td>21.826023</td>\n    </tr>\n    <tr>\n      <th>...</th>\n      <td>...</td>\n      <td>...</td>\n      <td>...</td>\n      <td>...</td>\n      <td>...</td>\n      <td>...</td>\n      <td>...</td>\n      <td>...</td>\n      <td>...</td>\n      <td>...</td>\n      <td>...</td>\n      <td>...</td>\n      <td>...</td>\n      <td>...</td>\n      <td>...</td>\n      <td>...</td>\n    </tr>\n    <tr>\n      <th>144</th>\n      <td>144</td>\n      <td>التعامل مع المصفوفات</td>\n      <td>12</td>\n      <td>قم بتعريف دالة إسمها CountOccurrence, مهمتها ا...</td>\n      <td>NaN</td>\n      <td>\\r\\n#include &lt;iostream&gt;\\r\\n\\r\\n// هنا قمنا بتع...</td>\n      <td>\\r\\n[0] is repeated 2 time(s)\\r\\n[4] is repeat...</td>\n      <td>سنحصل على النتيجة التالية عند التشغيل.</td>\n      <td>مساعدة: يجب تمرير حجم المصفوفة أيضاً للدالة لأ...</td>\n      <td>[الحلقات, الشروط, أنواع البيانات, الأساسيات, ا...</td>\n      <td>86.118980</td>\n      <td>32</td>\n      <td>22</td>\n      <td>60.559490</td>\n      <td>98.683278</td>\n      <td>69.341639</td>\n    </tr>\n    <tr>\n      <th>145</th>\n      <td>145</td>\n      <td>التعامل مع المصفوفات</td>\n      <td>26</td>\n      <td>قم بتعريف دالة إسمها PrintSecondBiggest, عند ا...</td>\n      <td>NaN</td>\n      <td>\\r\\n#include &lt;iostream&gt;\\r\\n\\r\\n// printSecondB...</td>\n      <td>\\r\\nSecond biggest number is: 8\\r\\n\\t\\t</td>\n      <td>سنحصل على النتيجة التالية عند التشغيل في حال ك...</td>\n      <td>NaN</td>\n      <td>[الحلقات, الشروط, أنواع البيانات, الأساسيات, ا...</td>\n      <td>90.406554</td>\n      <td>37</td>\n      <td>27</td>\n      <td>68.953277</td>\n      <td>98.894904</td>\n      <td>69.447452</td>\n    </tr>\n    <tr>\n      <th>146</th>\n      <td>146</td>\n      <td>التعامل مع المصفوفات</td>\n      <td>27</td>\n      <td>قم بتعريف دالة إسمها PrintSecondLowest, عند اس...</td>\n      <td>NaN</td>\n      <td>\\r\\n#include &lt;iostream&gt;\\r\\n\\r\\n// printSecondL...</td>\n      <td>\\r\\nSecond lowest number is: 2\\r\\n\\t\\t</td>\n      <td>سنحصل على النتيجة التالية عند التشغيل في حال ك...</td>\n      <td>NaN</td>\n      <td>[الحلقات, الشروط, أنواع البيانات, الأساسيات, ا...</td>\n      <td>91.128672</td>\n      <td>38</td>\n      <td>27</td>\n      <td>69.314336</td>\n      <td>99.147747</td>\n      <td>69.573874</td>\n    </tr>\n    <tr>\n      <th>147</th>\n      <td>147</td>\n      <td>التعامل مع المصفوفات</td>\n      <td>23</td>\n      <td>أكتب برنامج يقوم بترتيب جميع القيم الموجودة في...</td>\n      <td>NaN</td>\n      <td>\\r\\n#include &lt;iostream&gt;\\r\\n\\r\\nint main() {\\r\\...</td>\n      <td>\\r\\nMatrix before sorting \\r\\n5 2 4 \\r\\n1 7 3 ...</td>\n      <td>سنحصل على النتيجة التالية عند التشغيل.</td>\n      <td>NaN</td>\n      <td>[الحلقات, الشروط, أنواع البيانات, الأساسيات, ا...</td>\n      <td>91.406988</td>\n      <td>48</td>\n      <td>35</td>\n      <td>79.453494</td>\n      <td>99.404529</td>\n      <td>69.702265</td>\n    </tr>\n    <tr>\n      <th>148</th>\n      <td>148</td>\n      <td>التعامل مع الأرقام و النصوص</td>\n      <td>13</td>\n      <td>قم بتعريف دالة إسمها PrintWordsOccurence, نمرر...</td>\n      <td>NaN</td>\n      <td>\\r\\n#include &lt;iostream&gt;\\r\\n#include &lt;string&gt;\\r...</td>\n      <td>\\r\\n[3] I\\r\\n[2] am\\r\\n[1] happy.\\r\\n[1] a\\r\\n...</td>\n      <td>سنحصل على النتيجة التالية عند التشغيل.</td>\n      <td>مثال: إذا قمنا باستخدام الدالة PrintWordsOccur...</td>\n      <td>[الحلقات, الشروط, أنواع البيانات, الأساسيات, ا...</td>\n      <td>100.000000</td>\n      <td>32</td>\n      <td>29</td>\n      <td>76.250000</td>\n      <td>99.660666</td>\n      <td>69.830333</td>\n    </tr>\n  </tbody>\n</table>\n<p>149 rows × 16 columns</p>\n</div>"
     },
     "execution_count": 41,
     "metadata": {},
     "output_type": "execute_result"
    }
   ],
   "source": [
    "ex"
   ],
   "metadata": {
    "collapsed": false,
    "pycharm": {
     "name": "#%%\n"
    }
   }
  },
  {
   "cell_type": "code",
   "execution_count": 42,
   "outputs": [],
   "source": [
    "ex['previous_problem_count'] = \"\"\n",
    "ex['total_problem_count'] = \"\"\n",
    "ex['concept_problem_practice'] = \"\"\n",
    "for index, row in ex.iterrows():\n",
    "    current_general_concepts = row['generalConcepts']\n",
    "    previous_counts = []\n",
    "    total = []\n",
    "    concept_problem_practice =[]\n",
    "    for concept in current_general_concepts:\n",
    "        previous_count = ex.loc[:index-1, 'generalConcepts'].apply(lambda x: concept in x).sum() +1\n",
    "        total_count = ex['generalConcepts'].apply(lambda x: concept in x).sum()\n",
    "        previous_counts.append(previous_count)\n",
    "        total.append(total_count)\n",
    "        concept_problem_practice.append((previous_count/total_count)*100)\n",
    "    ex.at[index, 'previous_problem_count'] = previous_counts\n",
    "    ex.at[index, 'total_problem_count'] = total\n",
    "    ex.at[index, 'concept_problem_practice'] = concept_problem_practice"
   ],
   "metadata": {
    "collapsed": false,
    "pycharm": {
     "name": "#%%\n"
    }
   }
  },
  {
   "cell_type": "code",
   "execution_count": 43,
   "outputs": [
    {
     "data": {
      "text/plain": "     index                      Consept  ex  \\\n0        0          إجراء عمليات حسابية  11   \n1        1          إجراء عمليات حسابية   5   \n2        2          إجراء عمليات حسابية   7   \n3        3          إجراء عمليات حسابية   8   \n4        4          إجراء عمليات حسابية  12   \n..     ...                          ...  ..   \n144    144         التعامل مع المصفوفات  12   \n145    145         التعامل مع المصفوفات  26   \n146    146         التعامل مع المصفوفات  27   \n147    147         التعامل مع المصفوفات  23   \n148    148  التعامل مع الأرقام و النصوص  13   \n\n                                              required img_src  \\\n0    أكتب برنامج يطلب من المستخدم إدخال خمسة أعداد ...     NaN   \n1    أكتب برنامج يطلب من المستخدم إدخال رقمين, ثم ي...     NaN   \n2    أكتب برنامج يطلب من المستخدم إدخال ثلاث أرقام ...     NaN   \n3    أكتب برنامج يطلب من المستخدم إدخال رقمين, ثم ي...     NaN   \n4    أكتب برنامج يطلب من المستخدم إدخال رقم الشهر, ...     NaN   \n..                                                 ...     ...   \n144  قم بتعريف دالة إسمها CountOccurrence, مهمتها ا...     NaN   \n145  قم بتعريف دالة إسمها PrintSecondBiggest, عند ا...     NaN   \n146  قم بتعريف دالة إسمها PrintSecondLowest, عند اس...     NaN   \n147  أكتب برنامج يقوم بترتيب جميع القيم الموجودة في...     NaN   \n148  قم بتعريف دالة إسمها PrintWordsOccurence, نمرر...     NaN   \n\n                                                  code  \\\n0    \\r\\n#include <iostream>\\r\\n\\r\\nint main() {\\r\\...   \n1    \\r\\n#include <iostream>\\r\\n\\r\\nint main() {\\r\\...   \n2    \\r\\n#include <iostream>\\r\\n\\r\\nint main() {\\r\\...   \n3    \\r\\n#include <iostream>\\r\\n\\r\\nint main() {\\r\\...   \n4    \\r\\n#include <iostream>\\r\\n\\r\\nint main() {\\r\\...   \n..                                                 ...   \n144  \\r\\n#include <iostream>\\r\\n\\r\\n// هنا قمنا بتع...   \n145  \\r\\n#include <iostream>\\r\\n\\r\\n// printSecondB...   \n146  \\r\\n#include <iostream>\\r\\n\\r\\n// printSecondL...   \n147  \\r\\n#include <iostream>\\r\\n\\r\\nint main() {\\r\\...   \n148  \\r\\n#include <iostream>\\r\\n#include <string>\\r...   \n\n                                                output  \\\n0    \\n\\r\\n\\t\\t\\t\\tEnter n1: 7 \\r\\n\\t\\t\\t\\tEnter n2...   \n1    \\r\\nEnter first number: 14\\r\\nEnter second num...   \n2    \\r\\n#include <iostream>\\r\\n\\r\\nint main() {\\r\\...   \n3    \\r\\n#include <iostream>\\r\\n\\r\\nint main() {\\r\\...   \n4       \\r\\nMonth number: 5\\r\\nMonth name: May\\r\\n\\t\\t   \n..                                                 ...   \n144  \\r\\n[0] is repeated 2 time(s)\\r\\n[4] is repeat...   \n145            \\r\\nSecond biggest number is: 8\\r\\n\\t\\t   \n146             \\r\\nSecond lowest number is: 2\\r\\n\\t\\t   \n147  \\r\\nMatrix before sorting \\r\\n5 2 4 \\r\\n1 7 3 ...   \n148  \\r\\n[3] I\\r\\n[2] am\\r\\n[1] happy.\\r\\n[1] a\\r\\n...   \n\n                                           Explanation  \\\n0    سنحصل على النتيجة التالية إذا قام المستخدم بإد...   \n1    سنحصل على النتيجة التالية إذا قام المستخدم بإد...   \n2    الطريقة الثالثة لحل التمرين و الحصول على نفس ا...   \n3    الطريقة الثالثة لحل التمرين و الحصول على نفس ا...   \n4    سنحصل على النتيجة التالية إذا قام المستخدم بإد...   \n..                                                 ...   \n144             سنحصل على النتيجة التالية عند التشغيل.   \n145  سنحصل على النتيجة التالية عند التشغيل في حال ك...   \n146  سنحصل على النتيجة التالية عند التشغيل في حال ك...   \n147             سنحصل على النتيجة التالية عند التشغيل.   \n148             سنحصل على النتيجة التالية عند التشغيل.   \n\n                                                  hint  \\\n0    مثال: إذا قام المستخدم بإدخال الأعداد 7 , 4 , ...   \n1                                                  NaN   \n2                                                  NaN   \n3                                                  NaN   \n4    مثال: إذا قام المستخدم بإدخال الرقم 5 فستكون ا...   \n..                                                 ...   \n144  مساعدة: يجب تمرير حجم المصفوفة أيضاً للدالة لأ...   \n145                                                NaN   \n146                                                NaN   \n147                                                NaN   \n148  مثال: إذا قمنا باستخدام الدالة PrintWordsOccur...   \n\n                                       generalConcepts  difficulty_2  \\\n0                          [أنواع البيانات, الأساسيات]      0.000000   \n1                          [أنواع البيانات, الأساسيات]      2.472315   \n2                          [أنواع البيانات, الأساسيات]      3.626062   \n3                          [أنواع البيانات, الأساسيات]      3.626062   \n4                  [الشروط, أنواع البيانات, الأساسيات]      6.798867   \n..                                                 ...           ...   \n144  [الحلقات, الشروط, أنواع البيانات, الأساسيات, ا...     86.118980   \n145  [الحلقات, الشروط, أنواع البيانات, الأساسيات, ا...     90.406554   \n146  [الحلقات, الشروط, أنواع البيانات, الأساسيات, ا...     91.128672   \n147  [الحلقات, الشروط, أنواع البيانات, الأساسيات, ا...     91.406988   \n148  [الحلقات, الشروط, أنواع البيانات, الأساسيات, ا...    100.000000   \n\n     total_keywords_count  required_time  mapped_required_time       mean  \\\n0                      14             17             11.250000   0.000000   \n1                      11             13              7.486158   0.000000   \n2                      10             14              9.313031   1.856973   \n3                      10             14              9.313031   3.053689   \n4                      20             48             53.399433   3.652047   \n..                    ...            ...                   ...        ...   \n144                    32             22             60.559490  98.683278   \n145                    37             27             68.953277  98.894904   \n146                    38             27             69.314336  99.147747   \n147                    48             35             79.453494  99.404529   \n148                    32             29             76.250000  99.660666   \n\n      emptying            previous_problem_count  \\\n0     5.000000                            [1, 1]   \n1     5.000000                            [2, 2]   \n2     5.928486                            [3, 3]   \n3     6.526844                            [4, 4]   \n4    21.826023                         [1, 5, 5]   \n..         ...                               ...   \n144  69.341639       [133, 97, 145, 145, 38, 30]   \n145  69.447452       [134, 98, 146, 146, 39, 31]   \n146  69.573874       [135, 99, 147, 147, 40, 32]   \n147  69.702265          [136, 100, 148, 148, 41]   \n148  69.830333  [137, 101, 149, 149, 13, 42, 33]   \n\n                  total_problem_count  \\\n0                          [149, 149]   \n1                          [149, 149]   \n2                          [149, 149]   \n3                          [149, 149]   \n4                     [101, 149, 149]   \n..                                ...   \n144      [137, 101, 149, 149, 42, 33]   \n145      [137, 101, 149, 149, 42, 33]   \n146      [137, 101, 149, 149, 42, 33]   \n147          [137, 101, 149, 149, 42]   \n148  [137, 101, 149, 149, 13, 42, 33]   \n\n                              concept_problem_practice  \n0             [0.6711409395973155, 0.6711409395973155]  \n1               [1.342281879194631, 1.342281879194631]  \n2               [2.013422818791946, 2.013422818791946]  \n3               [2.684563758389262, 2.684563758389262]  \n4    [0.9900990099009901, 3.3557046979865772, 3.355...  \n..                                                 ...  \n144  [97.08029197080292, 96.03960396039604, 97.3154...  \n145  [97.8102189781022, 97.02970297029702, 97.98657...  \n146  [98.54014598540147, 98.01980198019803, 98.6577...  \n147  [99.27007299270073, 99.00990099009901, 99.3288...  \n148  [100.0, 100.0, 100.0, 100.0, 100.0, 100.0, 100.0]  \n\n[149 rows x 19 columns]",
      "text/html": "<div>\n<style scoped>\n    .dataframe tbody tr th:only-of-type {\n        vertical-align: middle;\n    }\n\n    .dataframe tbody tr th {\n        vertical-align: top;\n    }\n\n    .dataframe thead th {\n        text-align: right;\n    }\n</style>\n<table border=\"1\" class=\"dataframe\">\n  <thead>\n    <tr style=\"text-align: right;\">\n      <th></th>\n      <th>index</th>\n      <th>Consept</th>\n      <th>ex</th>\n      <th>required</th>\n      <th>img_src</th>\n      <th>code</th>\n      <th>output</th>\n      <th>Explanation</th>\n      <th>hint</th>\n      <th>generalConcepts</th>\n      <th>difficulty_2</th>\n      <th>total_keywords_count</th>\n      <th>required_time</th>\n      <th>mapped_required_time</th>\n      <th>mean</th>\n      <th>emptying</th>\n      <th>previous_problem_count</th>\n      <th>total_problem_count</th>\n      <th>concept_problem_practice</th>\n    </tr>\n  </thead>\n  <tbody>\n    <tr>\n      <th>0</th>\n      <td>0</td>\n      <td>إجراء عمليات حسابية</td>\n      <td>11</td>\n      <td>أكتب برنامج يطلب من المستخدم إدخال خمسة أعداد ...</td>\n      <td>NaN</td>\n      <td>\\r\\n#include &lt;iostream&gt;\\r\\n\\r\\nint main() {\\r\\...</td>\n      <td>\\n\\r\\n\\t\\t\\t\\tEnter n1: 7 \\r\\n\\t\\t\\t\\tEnter n2...</td>\n      <td>سنحصل على النتيجة التالية إذا قام المستخدم بإد...</td>\n      <td>مثال: إذا قام المستخدم بإدخال الأعداد 7 , 4 , ...</td>\n      <td>[أنواع البيانات, الأساسيات]</td>\n      <td>0.000000</td>\n      <td>14</td>\n      <td>17</td>\n      <td>11.250000</td>\n      <td>0.000000</td>\n      <td>5.000000</td>\n      <td>[1, 1]</td>\n      <td>[149, 149]</td>\n      <td>[0.6711409395973155, 0.6711409395973155]</td>\n    </tr>\n    <tr>\n      <th>1</th>\n      <td>1</td>\n      <td>إجراء عمليات حسابية</td>\n      <td>5</td>\n      <td>أكتب برنامج يطلب من المستخدم إدخال رقمين, ثم ي...</td>\n      <td>NaN</td>\n      <td>\\r\\n#include &lt;iostream&gt;\\r\\n\\r\\nint main() {\\r\\...</td>\n      <td>\\r\\nEnter first number: 14\\r\\nEnter second num...</td>\n      <td>سنحصل على النتيجة التالية إذا قام المستخدم بإد...</td>\n      <td>NaN</td>\n      <td>[أنواع البيانات, الأساسيات]</td>\n      <td>2.472315</td>\n      <td>11</td>\n      <td>13</td>\n      <td>7.486158</td>\n      <td>0.000000</td>\n      <td>5.000000</td>\n      <td>[2, 2]</td>\n      <td>[149, 149]</td>\n      <td>[1.342281879194631, 1.342281879194631]</td>\n    </tr>\n    <tr>\n      <th>2</th>\n      <td>2</td>\n      <td>إجراء عمليات حسابية</td>\n      <td>7</td>\n      <td>أكتب برنامج يطلب من المستخدم إدخال ثلاث أرقام ...</td>\n      <td>NaN</td>\n      <td>\\r\\n#include &lt;iostream&gt;\\r\\n\\r\\nint main() {\\r\\...</td>\n      <td>\\r\\n#include &lt;iostream&gt;\\r\\n\\r\\nint main() {\\r\\...</td>\n      <td>الطريقة الثالثة لحل التمرين و الحصول على نفس ا...</td>\n      <td>NaN</td>\n      <td>[أنواع البيانات, الأساسيات]</td>\n      <td>3.626062</td>\n      <td>10</td>\n      <td>14</td>\n      <td>9.313031</td>\n      <td>1.856973</td>\n      <td>5.928486</td>\n      <td>[3, 3]</td>\n      <td>[149, 149]</td>\n      <td>[2.013422818791946, 2.013422818791946]</td>\n    </tr>\n    <tr>\n      <th>3</th>\n      <td>3</td>\n      <td>إجراء عمليات حسابية</td>\n      <td>8</td>\n      <td>أكتب برنامج يطلب من المستخدم إدخال رقمين, ثم ي...</td>\n      <td>NaN</td>\n      <td>\\r\\n#include &lt;iostream&gt;\\r\\n\\r\\nint main() {\\r\\...</td>\n      <td>\\r\\n#include &lt;iostream&gt;\\r\\n\\r\\nint main() {\\r\\...</td>\n      <td>الطريقة الثالثة لحل التمرين و الحصول على نفس ا...</td>\n      <td>NaN</td>\n      <td>[أنواع البيانات, الأساسيات]</td>\n      <td>3.626062</td>\n      <td>10</td>\n      <td>14</td>\n      <td>9.313031</td>\n      <td>3.053689</td>\n      <td>6.526844</td>\n      <td>[4, 4]</td>\n      <td>[149, 149]</td>\n      <td>[2.684563758389262, 2.684563758389262]</td>\n    </tr>\n    <tr>\n      <th>4</th>\n      <td>4</td>\n      <td>إجراء عمليات حسابية</td>\n      <td>12</td>\n      <td>أكتب برنامج يطلب من المستخدم إدخال رقم الشهر, ...</td>\n      <td>NaN</td>\n      <td>\\r\\n#include &lt;iostream&gt;\\r\\n\\r\\nint main() {\\r\\...</td>\n      <td>\\r\\nMonth number: 5\\r\\nMonth name: May\\r\\n\\t\\t</td>\n      <td>سنحصل على النتيجة التالية إذا قام المستخدم بإد...</td>\n      <td>مثال: إذا قام المستخدم بإدخال الرقم 5 فستكون ا...</td>\n      <td>[الشروط, أنواع البيانات, الأساسيات]</td>\n      <td>6.798867</td>\n      <td>20</td>\n      <td>48</td>\n      <td>53.399433</td>\n      <td>3.652047</td>\n      <td>21.826023</td>\n      <td>[1, 5, 5]</td>\n      <td>[101, 149, 149]</td>\n      <td>[0.9900990099009901, 3.3557046979865772, 3.355...</td>\n    </tr>\n    <tr>\n      <th>...</th>\n      <td>...</td>\n      <td>...</td>\n      <td>...</td>\n      <td>...</td>\n      <td>...</td>\n      <td>...</td>\n      <td>...</td>\n      <td>...</td>\n      <td>...</td>\n      <td>...</td>\n      <td>...</td>\n      <td>...</td>\n      <td>...</td>\n      <td>...</td>\n      <td>...</td>\n      <td>...</td>\n      <td>...</td>\n      <td>...</td>\n      <td>...</td>\n    </tr>\n    <tr>\n      <th>144</th>\n      <td>144</td>\n      <td>التعامل مع المصفوفات</td>\n      <td>12</td>\n      <td>قم بتعريف دالة إسمها CountOccurrence, مهمتها ا...</td>\n      <td>NaN</td>\n      <td>\\r\\n#include &lt;iostream&gt;\\r\\n\\r\\n// هنا قمنا بتع...</td>\n      <td>\\r\\n[0] is repeated 2 time(s)\\r\\n[4] is repeat...</td>\n      <td>سنحصل على النتيجة التالية عند التشغيل.</td>\n      <td>مساعدة: يجب تمرير حجم المصفوفة أيضاً للدالة لأ...</td>\n      <td>[الحلقات, الشروط, أنواع البيانات, الأساسيات, ا...</td>\n      <td>86.118980</td>\n      <td>32</td>\n      <td>22</td>\n      <td>60.559490</td>\n      <td>98.683278</td>\n      <td>69.341639</td>\n      <td>[133, 97, 145, 145, 38, 30]</td>\n      <td>[137, 101, 149, 149, 42, 33]</td>\n      <td>[97.08029197080292, 96.03960396039604, 97.3154...</td>\n    </tr>\n    <tr>\n      <th>145</th>\n      <td>145</td>\n      <td>التعامل مع المصفوفات</td>\n      <td>26</td>\n      <td>قم بتعريف دالة إسمها PrintSecondBiggest, عند ا...</td>\n      <td>NaN</td>\n      <td>\\r\\n#include &lt;iostream&gt;\\r\\n\\r\\n// printSecondB...</td>\n      <td>\\r\\nSecond biggest number is: 8\\r\\n\\t\\t</td>\n      <td>سنحصل على النتيجة التالية عند التشغيل في حال ك...</td>\n      <td>NaN</td>\n      <td>[الحلقات, الشروط, أنواع البيانات, الأساسيات, ا...</td>\n      <td>90.406554</td>\n      <td>37</td>\n      <td>27</td>\n      <td>68.953277</td>\n      <td>98.894904</td>\n      <td>69.447452</td>\n      <td>[134, 98, 146, 146, 39, 31]</td>\n      <td>[137, 101, 149, 149, 42, 33]</td>\n      <td>[97.8102189781022, 97.02970297029702, 97.98657...</td>\n    </tr>\n    <tr>\n      <th>146</th>\n      <td>146</td>\n      <td>التعامل مع المصفوفات</td>\n      <td>27</td>\n      <td>قم بتعريف دالة إسمها PrintSecondLowest, عند اس...</td>\n      <td>NaN</td>\n      <td>\\r\\n#include &lt;iostream&gt;\\r\\n\\r\\n// printSecondL...</td>\n      <td>\\r\\nSecond lowest number is: 2\\r\\n\\t\\t</td>\n      <td>سنحصل على النتيجة التالية عند التشغيل في حال ك...</td>\n      <td>NaN</td>\n      <td>[الحلقات, الشروط, أنواع البيانات, الأساسيات, ا...</td>\n      <td>91.128672</td>\n      <td>38</td>\n      <td>27</td>\n      <td>69.314336</td>\n      <td>99.147747</td>\n      <td>69.573874</td>\n      <td>[135, 99, 147, 147, 40, 32]</td>\n      <td>[137, 101, 149, 149, 42, 33]</td>\n      <td>[98.54014598540147, 98.01980198019803, 98.6577...</td>\n    </tr>\n    <tr>\n      <th>147</th>\n      <td>147</td>\n      <td>التعامل مع المصفوفات</td>\n      <td>23</td>\n      <td>أكتب برنامج يقوم بترتيب جميع القيم الموجودة في...</td>\n      <td>NaN</td>\n      <td>\\r\\n#include &lt;iostream&gt;\\r\\n\\r\\nint main() {\\r\\...</td>\n      <td>\\r\\nMatrix before sorting \\r\\n5 2 4 \\r\\n1 7 3 ...</td>\n      <td>سنحصل على النتيجة التالية عند التشغيل.</td>\n      <td>NaN</td>\n      <td>[الحلقات, الشروط, أنواع البيانات, الأساسيات, ا...</td>\n      <td>91.406988</td>\n      <td>48</td>\n      <td>35</td>\n      <td>79.453494</td>\n      <td>99.404529</td>\n      <td>69.702265</td>\n      <td>[136, 100, 148, 148, 41]</td>\n      <td>[137, 101, 149, 149, 42]</td>\n      <td>[99.27007299270073, 99.00990099009901, 99.3288...</td>\n    </tr>\n    <tr>\n      <th>148</th>\n      <td>148</td>\n      <td>التعامل مع الأرقام و النصوص</td>\n      <td>13</td>\n      <td>قم بتعريف دالة إسمها PrintWordsOccurence, نمرر...</td>\n      <td>NaN</td>\n      <td>\\r\\n#include &lt;iostream&gt;\\r\\n#include &lt;string&gt;\\r...</td>\n      <td>\\r\\n[3] I\\r\\n[2] am\\r\\n[1] happy.\\r\\n[1] a\\r\\n...</td>\n      <td>سنحصل على النتيجة التالية عند التشغيل.</td>\n      <td>مثال: إذا قمنا باستخدام الدالة PrintWordsOccur...</td>\n      <td>[الحلقات, الشروط, أنواع البيانات, الأساسيات, ا...</td>\n      <td>100.000000</td>\n      <td>32</td>\n      <td>29</td>\n      <td>76.250000</td>\n      <td>99.660666</td>\n      <td>69.830333</td>\n      <td>[137, 101, 149, 149, 13, 42, 33]</td>\n      <td>[137, 101, 149, 149, 13, 42, 33]</td>\n      <td>[100.0, 100.0, 100.0, 100.0, 100.0, 100.0, 100.0]</td>\n    </tr>\n  </tbody>\n</table>\n<p>149 rows × 19 columns</p>\n</div>"
     },
     "execution_count": 43,
     "metadata": {},
     "output_type": "execute_result"
    }
   ],
   "source": [
    "ex"
   ],
   "metadata": {
    "collapsed": false,
    "pycharm": {
     "name": "#%%\n"
    }
   }
  },
  {
   "cell_type": "code",
   "execution_count": 44,
   "outputs": [],
   "source": [
    "ex['concept_emptying1'] = ex.apply(lambda x: [element * x['emptying'] /100 for element in x['concept_problem_practice']], axis=1)"
   ],
   "metadata": {
    "collapsed": false,
    "pycharm": {
     "name": "#%%\n"
    }
   }
  },
  {
   "cell_type": "code",
   "execution_count": 45,
   "outputs": [
    {
     "data": {
      "text/plain": "      emptying                           concept_problem_practice  \\\n0     5.000000           [0.6711409395973155, 0.6711409395973155]   \n1     5.000000             [1.342281879194631, 1.342281879194631]   \n2     5.928486             [2.013422818791946, 2.013422818791946]   \n3     6.526844             [2.684563758389262, 2.684563758389262]   \n4    21.826023  [0.9900990099009901, 3.3557046979865772, 3.355...   \n..         ...                                                ...   \n144  69.341639  [97.08029197080292, 96.03960396039604, 97.3154...   \n145  69.447452  [97.8102189781022, 97.02970297029702, 97.98657...   \n146  69.573874  [98.54014598540147, 98.01980198019803, 98.6577...   \n147  69.702265  [99.27007299270073, 99.00990099009901, 99.3288...   \n148  69.830333  [100.0, 100.0, 100.0, 100.0, 100.0, 100.0, 100.0]   \n\n                                     concept_emptying1  \n0           [0.03355704697986577, 0.03355704697986577]  \n1           [0.06711409395973154, 0.06711409395973154]  \n2           [0.11936549814008168, 0.11936549814008168]  \n3           [0.17521729704052508, 0.17521729704052508]  \n4    [0.21609924028046845, 0.7324168881989032, 0.73...  \n..                                                 ...  \n144  [67.31706554711968, 66.59543542437828, 67.4801...  \n145  [67.926705020518, 67.38465653949125, 68.049181...  \n146  [68.55819657756948, 68.19617309729188, 68.6399...  \n147  [69.19348901709921, 69.01214323924427, 69.2344...  \n148  [69.83033323186874, 69.83033323186874, 69.8303...  \n\n[149 rows x 3 columns]",
      "text/html": "<div>\n<style scoped>\n    .dataframe tbody tr th:only-of-type {\n        vertical-align: middle;\n    }\n\n    .dataframe tbody tr th {\n        vertical-align: top;\n    }\n\n    .dataframe thead th {\n        text-align: right;\n    }\n</style>\n<table border=\"1\" class=\"dataframe\">\n  <thead>\n    <tr style=\"text-align: right;\">\n      <th></th>\n      <th>emptying</th>\n      <th>concept_problem_practice</th>\n      <th>concept_emptying1</th>\n    </tr>\n  </thead>\n  <tbody>\n    <tr>\n      <th>0</th>\n      <td>5.000000</td>\n      <td>[0.6711409395973155, 0.6711409395973155]</td>\n      <td>[0.03355704697986577, 0.03355704697986577]</td>\n    </tr>\n    <tr>\n      <th>1</th>\n      <td>5.000000</td>\n      <td>[1.342281879194631, 1.342281879194631]</td>\n      <td>[0.06711409395973154, 0.06711409395973154]</td>\n    </tr>\n    <tr>\n      <th>2</th>\n      <td>5.928486</td>\n      <td>[2.013422818791946, 2.013422818791946]</td>\n      <td>[0.11936549814008168, 0.11936549814008168]</td>\n    </tr>\n    <tr>\n      <th>3</th>\n      <td>6.526844</td>\n      <td>[2.684563758389262, 2.684563758389262]</td>\n      <td>[0.17521729704052508, 0.17521729704052508]</td>\n    </tr>\n    <tr>\n      <th>4</th>\n      <td>21.826023</td>\n      <td>[0.9900990099009901, 3.3557046979865772, 3.355...</td>\n      <td>[0.21609924028046845, 0.7324168881989032, 0.73...</td>\n    </tr>\n    <tr>\n      <th>...</th>\n      <td>...</td>\n      <td>...</td>\n      <td>...</td>\n    </tr>\n    <tr>\n      <th>144</th>\n      <td>69.341639</td>\n      <td>[97.08029197080292, 96.03960396039604, 97.3154...</td>\n      <td>[67.31706554711968, 66.59543542437828, 67.4801...</td>\n    </tr>\n    <tr>\n      <th>145</th>\n      <td>69.447452</td>\n      <td>[97.8102189781022, 97.02970297029702, 97.98657...</td>\n      <td>[67.926705020518, 67.38465653949125, 68.049181...</td>\n    </tr>\n    <tr>\n      <th>146</th>\n      <td>69.573874</td>\n      <td>[98.54014598540147, 98.01980198019803, 98.6577...</td>\n      <td>[68.55819657756948, 68.19617309729188, 68.6399...</td>\n    </tr>\n    <tr>\n      <th>147</th>\n      <td>69.702265</td>\n      <td>[99.27007299270073, 99.00990099009901, 99.3288...</td>\n      <td>[69.19348901709921, 69.01214323924427, 69.2344...</td>\n    </tr>\n    <tr>\n      <th>148</th>\n      <td>69.830333</td>\n      <td>[100.0, 100.0, 100.0, 100.0, 100.0, 100.0, 100.0]</td>\n      <td>[69.83033323186874, 69.83033323186874, 69.8303...</td>\n    </tr>\n  </tbody>\n</table>\n<p>149 rows × 3 columns</p>\n</div>"
     },
     "execution_count": 45,
     "metadata": {},
     "output_type": "execute_result"
    }
   ],
   "source": [
    "ex[['emptying', 'concept_problem_practice', 'concept_emptying1']]"
   ],
   "metadata": {
    "collapsed": false,
    "pycharm": {
     "name": "#%%\n"
    }
   }
  },
  {
   "cell_type": "code",
   "execution_count": 46,
   "outputs": [],
   "source": [
    "ex['concept_emptying2'] = ex.apply(lambda x: [((1/3)*x['emptying']) + ((2/3)*z) for z in x['concept_problem_practice']], axis=1)"
   ],
   "metadata": {
    "collapsed": false,
    "pycharm": {
     "name": "#%%\n"
    }
   }
  },
  {
   "cell_type": "code",
   "execution_count": 47,
   "outputs": [
    {
     "data": {
      "text/plain": "     difficulty_2   emptying  \\\n0        0.000000   5.000000   \n1        2.472315   5.000000   \n2        3.626062   5.928486   \n3        3.626062   6.526844   \n4        6.798867  21.826023   \n..            ...        ...   \n144     86.118980  69.341639   \n145     90.406554  69.447452   \n146     91.128672  69.573874   \n147     91.406988  69.702265   \n148    100.000000  69.830333   \n\n                              concept_problem_practice  \\\n0             [0.6711409395973155, 0.6711409395973155]   \n1               [1.342281879194631, 1.342281879194631]   \n2               [2.013422818791946, 2.013422818791946]   \n3               [2.684563758389262, 2.684563758389262]   \n4    [0.9900990099009901, 3.3557046979865772, 3.355...   \n..                                                 ...   \n144  [97.08029197080292, 96.03960396039604, 97.3154...   \n145  [97.8102189781022, 97.02970297029702, 97.98657...   \n146  [98.54014598540147, 98.01980198019803, 98.6577...   \n147  [99.27007299270073, 99.00990099009901, 99.3288...   \n148  [100.0, 100.0, 100.0, 100.0, 100.0, 100.0, 100.0]   \n\n                                     concept_emptying1  \\\n0           [0.03355704697986577, 0.03355704697986577]   \n1           [0.06711409395973154, 0.06711409395973154]   \n2           [0.11936549814008168, 0.11936549814008168]   \n3           [0.17521729704052508, 0.17521729704052508]   \n4    [0.21609924028046845, 0.7324168881989032, 0.73...   \n..                                                 ...   \n144  [67.31706554711968, 66.59543542437828, 67.4801...   \n145  [67.926705020518, 67.38465653949125, 68.049181...   \n146  [68.55819657756948, 68.19617309729188, 68.6399...   \n147  [69.19348901709921, 69.01214323924427, 69.2344...   \n148  [69.83033323186874, 69.83033323186874, 69.8303...   \n\n                                     concept_emptying2  \n0             [2.1140939597315436, 2.1140939597315436]  \n1                 [2.56152125279642, 2.56152125279642]  \n2             [3.3184440150693164, 3.3184440150693164]  \n3             [3.9653239438460273, 3.9653239438460273]  \n4    [7.935407096043097, 9.512477554766821, 9.51247...  \n..                                                 ...  \n144  [87.83407429621295, 87.14028228927504, 87.9908...  \n145  [88.3559633680158, 87.83561936281235, 88.47353...  \n146  [88.88472184490226, 88.53782584143329, 88.9631...  \n147  [89.41413688567938, 89.2406888839449, 89.45332...  \n148  [89.9434444106229, 89.9434444106229, 89.943444...  \n\n[149 rows x 5 columns]",
      "text/html": "<div>\n<style scoped>\n    .dataframe tbody tr th:only-of-type {\n        vertical-align: middle;\n    }\n\n    .dataframe tbody tr th {\n        vertical-align: top;\n    }\n\n    .dataframe thead th {\n        text-align: right;\n    }\n</style>\n<table border=\"1\" class=\"dataframe\">\n  <thead>\n    <tr style=\"text-align: right;\">\n      <th></th>\n      <th>difficulty_2</th>\n      <th>emptying</th>\n      <th>concept_problem_practice</th>\n      <th>concept_emptying1</th>\n      <th>concept_emptying2</th>\n    </tr>\n  </thead>\n  <tbody>\n    <tr>\n      <th>0</th>\n      <td>0.000000</td>\n      <td>5.000000</td>\n      <td>[0.6711409395973155, 0.6711409395973155]</td>\n      <td>[0.03355704697986577, 0.03355704697986577]</td>\n      <td>[2.1140939597315436, 2.1140939597315436]</td>\n    </tr>\n    <tr>\n      <th>1</th>\n      <td>2.472315</td>\n      <td>5.000000</td>\n      <td>[1.342281879194631, 1.342281879194631]</td>\n      <td>[0.06711409395973154, 0.06711409395973154]</td>\n      <td>[2.56152125279642, 2.56152125279642]</td>\n    </tr>\n    <tr>\n      <th>2</th>\n      <td>3.626062</td>\n      <td>5.928486</td>\n      <td>[2.013422818791946, 2.013422818791946]</td>\n      <td>[0.11936549814008168, 0.11936549814008168]</td>\n      <td>[3.3184440150693164, 3.3184440150693164]</td>\n    </tr>\n    <tr>\n      <th>3</th>\n      <td>3.626062</td>\n      <td>6.526844</td>\n      <td>[2.684563758389262, 2.684563758389262]</td>\n      <td>[0.17521729704052508, 0.17521729704052508]</td>\n      <td>[3.9653239438460273, 3.9653239438460273]</td>\n    </tr>\n    <tr>\n      <th>4</th>\n      <td>6.798867</td>\n      <td>21.826023</td>\n      <td>[0.9900990099009901, 3.3557046979865772, 3.355...</td>\n      <td>[0.21609924028046845, 0.7324168881989032, 0.73...</td>\n      <td>[7.935407096043097, 9.512477554766821, 9.51247...</td>\n    </tr>\n    <tr>\n      <th>...</th>\n      <td>...</td>\n      <td>...</td>\n      <td>...</td>\n      <td>...</td>\n      <td>...</td>\n    </tr>\n    <tr>\n      <th>144</th>\n      <td>86.118980</td>\n      <td>69.341639</td>\n      <td>[97.08029197080292, 96.03960396039604, 97.3154...</td>\n      <td>[67.31706554711968, 66.59543542437828, 67.4801...</td>\n      <td>[87.83407429621295, 87.14028228927504, 87.9908...</td>\n    </tr>\n    <tr>\n      <th>145</th>\n      <td>90.406554</td>\n      <td>69.447452</td>\n      <td>[97.8102189781022, 97.02970297029702, 97.98657...</td>\n      <td>[67.926705020518, 67.38465653949125, 68.049181...</td>\n      <td>[88.3559633680158, 87.83561936281235, 88.47353...</td>\n    </tr>\n    <tr>\n      <th>146</th>\n      <td>91.128672</td>\n      <td>69.573874</td>\n      <td>[98.54014598540147, 98.01980198019803, 98.6577...</td>\n      <td>[68.55819657756948, 68.19617309729188, 68.6399...</td>\n      <td>[88.88472184490226, 88.53782584143329, 88.9631...</td>\n    </tr>\n    <tr>\n      <th>147</th>\n      <td>91.406988</td>\n      <td>69.702265</td>\n      <td>[99.27007299270073, 99.00990099009901, 99.3288...</td>\n      <td>[69.19348901709921, 69.01214323924427, 69.2344...</td>\n      <td>[89.41413688567938, 89.2406888839449, 89.45332...</td>\n    </tr>\n    <tr>\n      <th>148</th>\n      <td>100.000000</td>\n      <td>69.830333</td>\n      <td>[100.0, 100.0, 100.0, 100.0, 100.0, 100.0, 100.0]</td>\n      <td>[69.83033323186874, 69.83033323186874, 69.8303...</td>\n      <td>[89.9434444106229, 89.9434444106229, 89.943444...</td>\n    </tr>\n  </tbody>\n</table>\n<p>149 rows × 5 columns</p>\n</div>"
     },
     "execution_count": 47,
     "metadata": {},
     "output_type": "execute_result"
    }
   ],
   "source": [
    "ex[['difficulty_2','emptying', 'concept_problem_practice', 'concept_emptying1', 'concept_emptying2']]"
   ],
   "metadata": {
    "collapsed": false,
    "pycharm": {
     "name": "#%%\n"
    }
   }
  },
  {
   "cell_type": "code",
   "execution_count": 48,
   "outputs": [
    {
     "ename": "KeyError",
     "evalue": "\"['difficulty'] not found in axis\"",
     "output_type": "error",
     "traceback": [
      "\u001B[1;31m---------------------------------------------------------------------------\u001B[0m",
      "\u001B[1;31mKeyError\u001B[0m                                  Traceback (most recent call last)",
      "Cell \u001B[1;32mIn[48], line 1\u001B[0m\n\u001B[1;32m----> 1\u001B[0m ex \u001B[38;5;241m=\u001B[39m \u001B[43mex\u001B[49m\u001B[38;5;241;43m.\u001B[39;49m\u001B[43mdrop\u001B[49m\u001B[43m(\u001B[49m\u001B[38;5;124;43m'\u001B[39;49m\u001B[38;5;124;43mdifficulty\u001B[39;49m\u001B[38;5;124;43m'\u001B[39;49m\u001B[43m,\u001B[49m\u001B[43m \u001B[49m\u001B[43maxis\u001B[49m\u001B[38;5;241;43m=\u001B[39;49m\u001B[38;5;241;43m1\u001B[39;49m\u001B[43m)\u001B[49m\n",
      "File \u001B[1;32mC:\\ProgramData\\Miniconda3\\envs\\myenv\\lib\\site-packages\\pandas\\util\\_decorators.py:331\u001B[0m, in \u001B[0;36mdeprecate_nonkeyword_arguments.<locals>.decorate.<locals>.wrapper\u001B[1;34m(*args, **kwargs)\u001B[0m\n\u001B[0;32m    325\u001B[0m \u001B[38;5;28;01mif\u001B[39;00m \u001B[38;5;28mlen\u001B[39m(args) \u001B[38;5;241m>\u001B[39m num_allow_args:\n\u001B[0;32m    326\u001B[0m     warnings\u001B[38;5;241m.\u001B[39mwarn(\n\u001B[0;32m    327\u001B[0m         msg\u001B[38;5;241m.\u001B[39mformat(arguments\u001B[38;5;241m=\u001B[39m_format_argument_list(allow_args)),\n\u001B[0;32m    328\u001B[0m         \u001B[38;5;167;01mFutureWarning\u001B[39;00m,\n\u001B[0;32m    329\u001B[0m         stacklevel\u001B[38;5;241m=\u001B[39mfind_stack_level(),\n\u001B[0;32m    330\u001B[0m     )\n\u001B[1;32m--> 331\u001B[0m \u001B[38;5;28;01mreturn\u001B[39;00m func(\u001B[38;5;241m*\u001B[39margs, \u001B[38;5;241m*\u001B[39m\u001B[38;5;241m*\u001B[39mkwargs)\n",
      "File \u001B[1;32mC:\\ProgramData\\Miniconda3\\envs\\myenv\\lib\\site-packages\\pandas\\core\\frame.py:5399\u001B[0m, in \u001B[0;36mDataFrame.drop\u001B[1;34m(self, labels, axis, index, columns, level, inplace, errors)\u001B[0m\n\u001B[0;32m   5251\u001B[0m \u001B[38;5;129m@deprecate_nonkeyword_arguments\u001B[39m(version\u001B[38;5;241m=\u001B[39m\u001B[38;5;28;01mNone\u001B[39;00m, allowed_args\u001B[38;5;241m=\u001B[39m[\u001B[38;5;124m\"\u001B[39m\u001B[38;5;124mself\u001B[39m\u001B[38;5;124m\"\u001B[39m, \u001B[38;5;124m\"\u001B[39m\u001B[38;5;124mlabels\u001B[39m\u001B[38;5;124m\"\u001B[39m])\n\u001B[0;32m   5252\u001B[0m \u001B[38;5;28;01mdef\u001B[39;00m \u001B[38;5;21mdrop\u001B[39m(  \u001B[38;5;66;03m# type: ignore[override]\u001B[39;00m\n\u001B[0;32m   5253\u001B[0m     \u001B[38;5;28mself\u001B[39m,\n\u001B[1;32m   (...)\u001B[0m\n\u001B[0;32m   5260\u001B[0m     errors: IgnoreRaise \u001B[38;5;241m=\u001B[39m \u001B[38;5;124m\"\u001B[39m\u001B[38;5;124mraise\u001B[39m\u001B[38;5;124m\"\u001B[39m,\n\u001B[0;32m   5261\u001B[0m ) \u001B[38;5;241m-\u001B[39m\u001B[38;5;241m>\u001B[39m DataFrame \u001B[38;5;241m|\u001B[39m \u001B[38;5;28;01mNone\u001B[39;00m:\n\u001B[0;32m   5262\u001B[0m \u001B[38;5;250m    \u001B[39m\u001B[38;5;124;03m\"\"\"\u001B[39;00m\n\u001B[0;32m   5263\u001B[0m \u001B[38;5;124;03m    Drop specified labels from rows or columns.\u001B[39;00m\n\u001B[0;32m   5264\u001B[0m \n\u001B[1;32m   (...)\u001B[0m\n\u001B[0;32m   5397\u001B[0m \u001B[38;5;124;03m            weight  1.0     0.8\u001B[39;00m\n\u001B[0;32m   5398\u001B[0m \u001B[38;5;124;03m    \"\"\"\u001B[39;00m\n\u001B[1;32m-> 5399\u001B[0m     \u001B[38;5;28;01mreturn\u001B[39;00m \u001B[38;5;28;43msuper\u001B[39;49m\u001B[43m(\u001B[49m\u001B[43m)\u001B[49m\u001B[38;5;241;43m.\u001B[39;49m\u001B[43mdrop\u001B[49m\u001B[43m(\u001B[49m\n\u001B[0;32m   5400\u001B[0m \u001B[43m        \u001B[49m\u001B[43mlabels\u001B[49m\u001B[38;5;241;43m=\u001B[39;49m\u001B[43mlabels\u001B[49m\u001B[43m,\u001B[49m\n\u001B[0;32m   5401\u001B[0m \u001B[43m        \u001B[49m\u001B[43maxis\u001B[49m\u001B[38;5;241;43m=\u001B[39;49m\u001B[43maxis\u001B[49m\u001B[43m,\u001B[49m\n\u001B[0;32m   5402\u001B[0m \u001B[43m        \u001B[49m\u001B[43mindex\u001B[49m\u001B[38;5;241;43m=\u001B[39;49m\u001B[43mindex\u001B[49m\u001B[43m,\u001B[49m\n\u001B[0;32m   5403\u001B[0m \u001B[43m        \u001B[49m\u001B[43mcolumns\u001B[49m\u001B[38;5;241;43m=\u001B[39;49m\u001B[43mcolumns\u001B[49m\u001B[43m,\u001B[49m\n\u001B[0;32m   5404\u001B[0m \u001B[43m        \u001B[49m\u001B[43mlevel\u001B[49m\u001B[38;5;241;43m=\u001B[39;49m\u001B[43mlevel\u001B[49m\u001B[43m,\u001B[49m\n\u001B[0;32m   5405\u001B[0m \u001B[43m        \u001B[49m\u001B[43minplace\u001B[49m\u001B[38;5;241;43m=\u001B[39;49m\u001B[43minplace\u001B[49m\u001B[43m,\u001B[49m\n\u001B[0;32m   5406\u001B[0m \u001B[43m        \u001B[49m\u001B[43merrors\u001B[49m\u001B[38;5;241;43m=\u001B[39;49m\u001B[43merrors\u001B[49m\u001B[43m,\u001B[49m\n\u001B[0;32m   5407\u001B[0m \u001B[43m    \u001B[49m\u001B[43m)\u001B[49m\n",
      "File \u001B[1;32mC:\\ProgramData\\Miniconda3\\envs\\myenv\\lib\\site-packages\\pandas\\util\\_decorators.py:331\u001B[0m, in \u001B[0;36mdeprecate_nonkeyword_arguments.<locals>.decorate.<locals>.wrapper\u001B[1;34m(*args, **kwargs)\u001B[0m\n\u001B[0;32m    325\u001B[0m \u001B[38;5;28;01mif\u001B[39;00m \u001B[38;5;28mlen\u001B[39m(args) \u001B[38;5;241m>\u001B[39m num_allow_args:\n\u001B[0;32m    326\u001B[0m     warnings\u001B[38;5;241m.\u001B[39mwarn(\n\u001B[0;32m    327\u001B[0m         msg\u001B[38;5;241m.\u001B[39mformat(arguments\u001B[38;5;241m=\u001B[39m_format_argument_list(allow_args)),\n\u001B[0;32m    328\u001B[0m         \u001B[38;5;167;01mFutureWarning\u001B[39;00m,\n\u001B[0;32m    329\u001B[0m         stacklevel\u001B[38;5;241m=\u001B[39mfind_stack_level(),\n\u001B[0;32m    330\u001B[0m     )\n\u001B[1;32m--> 331\u001B[0m \u001B[38;5;28;01mreturn\u001B[39;00m func(\u001B[38;5;241m*\u001B[39margs, \u001B[38;5;241m*\u001B[39m\u001B[38;5;241m*\u001B[39mkwargs)\n",
      "File \u001B[1;32mC:\\ProgramData\\Miniconda3\\envs\\myenv\\lib\\site-packages\\pandas\\core\\generic.py:4505\u001B[0m, in \u001B[0;36mNDFrame.drop\u001B[1;34m(self, labels, axis, index, columns, level, inplace, errors)\u001B[0m\n\u001B[0;32m   4503\u001B[0m \u001B[38;5;28;01mfor\u001B[39;00m axis, labels \u001B[38;5;129;01min\u001B[39;00m axes\u001B[38;5;241m.\u001B[39mitems():\n\u001B[0;32m   4504\u001B[0m     \u001B[38;5;28;01mif\u001B[39;00m labels \u001B[38;5;129;01mis\u001B[39;00m \u001B[38;5;129;01mnot\u001B[39;00m \u001B[38;5;28;01mNone\u001B[39;00m:\n\u001B[1;32m-> 4505\u001B[0m         obj \u001B[38;5;241m=\u001B[39m \u001B[43mobj\u001B[49m\u001B[38;5;241;43m.\u001B[39;49m\u001B[43m_drop_axis\u001B[49m\u001B[43m(\u001B[49m\u001B[43mlabels\u001B[49m\u001B[43m,\u001B[49m\u001B[43m \u001B[49m\u001B[43maxis\u001B[49m\u001B[43m,\u001B[49m\u001B[43m \u001B[49m\u001B[43mlevel\u001B[49m\u001B[38;5;241;43m=\u001B[39;49m\u001B[43mlevel\u001B[49m\u001B[43m,\u001B[49m\u001B[43m \u001B[49m\u001B[43merrors\u001B[49m\u001B[38;5;241;43m=\u001B[39;49m\u001B[43merrors\u001B[49m\u001B[43m)\u001B[49m\n\u001B[0;32m   4507\u001B[0m \u001B[38;5;28;01mif\u001B[39;00m inplace:\n\u001B[0;32m   4508\u001B[0m     \u001B[38;5;28mself\u001B[39m\u001B[38;5;241m.\u001B[39m_update_inplace(obj)\n",
      "File \u001B[1;32mC:\\ProgramData\\Miniconda3\\envs\\myenv\\lib\\site-packages\\pandas\\core\\generic.py:4546\u001B[0m, in \u001B[0;36mNDFrame._drop_axis\u001B[1;34m(self, labels, axis, level, errors, only_slice)\u001B[0m\n\u001B[0;32m   4544\u001B[0m         new_axis \u001B[38;5;241m=\u001B[39m axis\u001B[38;5;241m.\u001B[39mdrop(labels, level\u001B[38;5;241m=\u001B[39mlevel, errors\u001B[38;5;241m=\u001B[39merrors)\n\u001B[0;32m   4545\u001B[0m     \u001B[38;5;28;01melse\u001B[39;00m:\n\u001B[1;32m-> 4546\u001B[0m         new_axis \u001B[38;5;241m=\u001B[39m \u001B[43maxis\u001B[49m\u001B[38;5;241;43m.\u001B[39;49m\u001B[43mdrop\u001B[49m\u001B[43m(\u001B[49m\u001B[43mlabels\u001B[49m\u001B[43m,\u001B[49m\u001B[43m \u001B[49m\u001B[43merrors\u001B[49m\u001B[38;5;241;43m=\u001B[39;49m\u001B[43merrors\u001B[49m\u001B[43m)\u001B[49m\n\u001B[0;32m   4547\u001B[0m     indexer \u001B[38;5;241m=\u001B[39m axis\u001B[38;5;241m.\u001B[39mget_indexer(new_axis)\n\u001B[0;32m   4549\u001B[0m \u001B[38;5;66;03m# Case for non-unique axis\u001B[39;00m\n\u001B[0;32m   4550\u001B[0m \u001B[38;5;28;01melse\u001B[39;00m:\n",
      "File \u001B[1;32mC:\\ProgramData\\Miniconda3\\envs\\myenv\\lib\\site-packages\\pandas\\core\\indexes\\base.py:6934\u001B[0m, in \u001B[0;36mIndex.drop\u001B[1;34m(self, labels, errors)\u001B[0m\n\u001B[0;32m   6932\u001B[0m \u001B[38;5;28;01mif\u001B[39;00m mask\u001B[38;5;241m.\u001B[39many():\n\u001B[0;32m   6933\u001B[0m     \u001B[38;5;28;01mif\u001B[39;00m errors \u001B[38;5;241m!=\u001B[39m \u001B[38;5;124m\"\u001B[39m\u001B[38;5;124mignore\u001B[39m\u001B[38;5;124m\"\u001B[39m:\n\u001B[1;32m-> 6934\u001B[0m         \u001B[38;5;28;01mraise\u001B[39;00m \u001B[38;5;167;01mKeyError\u001B[39;00m(\u001B[38;5;124mf\u001B[39m\u001B[38;5;124m\"\u001B[39m\u001B[38;5;132;01m{\u001B[39;00m\u001B[38;5;28mlist\u001B[39m(labels[mask])\u001B[38;5;132;01m}\u001B[39;00m\u001B[38;5;124m not found in axis\u001B[39m\u001B[38;5;124m\"\u001B[39m)\n\u001B[0;32m   6935\u001B[0m     indexer \u001B[38;5;241m=\u001B[39m indexer[\u001B[38;5;241m~\u001B[39mmask]\n\u001B[0;32m   6936\u001B[0m \u001B[38;5;28;01mreturn\u001B[39;00m \u001B[38;5;28mself\u001B[39m\u001B[38;5;241m.\u001B[39mdelete(indexer)\n",
      "\u001B[1;31mKeyError\u001B[0m: \"['difficulty'] not found in axis\""
     ]
    }
   ],
   "source": [
    "ex = ex.drop('difficulty', axis=1)"
   ],
   "metadata": {
    "collapsed": false,
    "pycharm": {
     "name": "#%%\n"
    }
   }
  },
  {
   "cell_type": "code",
   "execution_count": 49,
   "outputs": [],
   "source": [
    "ex = ex.drop(['concept_emptying1','concept_problem_practice','previous_problem_count','total_problem_count',\n",
    "             'mean','total_keywords_count','required_time'], axis=1)"
   ],
   "metadata": {
    "collapsed": false,
    "pycharm": {
     "name": "#%%\n"
    }
   }
  },
  {
   "cell_type": "code",
   "execution_count": 50,
   "outputs": [],
   "source": [
    "ex = ex.rename({'difficulty_2': 'difficulty'}, axis=1)"
   ],
   "metadata": {
    "collapsed": false,
    "pycharm": {
     "name": "#%%\n"
    }
   }
  },
  {
   "cell_type": "code",
   "execution_count": 51,
   "outputs": [
    {
     "ename": "KeyError",
     "evalue": "\"['level_0'] not found in axis\"",
     "output_type": "error",
     "traceback": [
      "\u001B[1;31m---------------------------------------------------------------------------\u001B[0m",
      "\u001B[1;31mKeyError\u001B[0m                                  Traceback (most recent call last)",
      "Cell \u001B[1;32mIn[51], line 1\u001B[0m\n\u001B[1;32m----> 1\u001B[0m ex \u001B[38;5;241m=\u001B[39m \u001B[43mex\u001B[49m\u001B[38;5;241;43m.\u001B[39;49m\u001B[43mdrop\u001B[49m\u001B[43m(\u001B[49m\u001B[38;5;124;43m'\u001B[39;49m\u001B[38;5;124;43mlevel_0\u001B[39;49m\u001B[38;5;124;43m'\u001B[39;49m\u001B[43m,\u001B[49m\u001B[43m \u001B[49m\u001B[43maxis\u001B[49m\u001B[38;5;241;43m=\u001B[39;49m\u001B[38;5;241;43m1\u001B[39;49m\u001B[43m)\u001B[49m\n",
      "File \u001B[1;32mC:\\ProgramData\\Miniconda3\\envs\\myenv\\lib\\site-packages\\pandas\\util\\_decorators.py:331\u001B[0m, in \u001B[0;36mdeprecate_nonkeyword_arguments.<locals>.decorate.<locals>.wrapper\u001B[1;34m(*args, **kwargs)\u001B[0m\n\u001B[0;32m    325\u001B[0m \u001B[38;5;28;01mif\u001B[39;00m \u001B[38;5;28mlen\u001B[39m(args) \u001B[38;5;241m>\u001B[39m num_allow_args:\n\u001B[0;32m    326\u001B[0m     warnings\u001B[38;5;241m.\u001B[39mwarn(\n\u001B[0;32m    327\u001B[0m         msg\u001B[38;5;241m.\u001B[39mformat(arguments\u001B[38;5;241m=\u001B[39m_format_argument_list(allow_args)),\n\u001B[0;32m    328\u001B[0m         \u001B[38;5;167;01mFutureWarning\u001B[39;00m,\n\u001B[0;32m    329\u001B[0m         stacklevel\u001B[38;5;241m=\u001B[39mfind_stack_level(),\n\u001B[0;32m    330\u001B[0m     )\n\u001B[1;32m--> 331\u001B[0m \u001B[38;5;28;01mreturn\u001B[39;00m func(\u001B[38;5;241m*\u001B[39margs, \u001B[38;5;241m*\u001B[39m\u001B[38;5;241m*\u001B[39mkwargs)\n",
      "File \u001B[1;32mC:\\ProgramData\\Miniconda3\\envs\\myenv\\lib\\site-packages\\pandas\\core\\frame.py:5399\u001B[0m, in \u001B[0;36mDataFrame.drop\u001B[1;34m(self, labels, axis, index, columns, level, inplace, errors)\u001B[0m\n\u001B[0;32m   5251\u001B[0m \u001B[38;5;129m@deprecate_nonkeyword_arguments\u001B[39m(version\u001B[38;5;241m=\u001B[39m\u001B[38;5;28;01mNone\u001B[39;00m, allowed_args\u001B[38;5;241m=\u001B[39m[\u001B[38;5;124m\"\u001B[39m\u001B[38;5;124mself\u001B[39m\u001B[38;5;124m\"\u001B[39m, \u001B[38;5;124m\"\u001B[39m\u001B[38;5;124mlabels\u001B[39m\u001B[38;5;124m\"\u001B[39m])\n\u001B[0;32m   5252\u001B[0m \u001B[38;5;28;01mdef\u001B[39;00m \u001B[38;5;21mdrop\u001B[39m(  \u001B[38;5;66;03m# type: ignore[override]\u001B[39;00m\n\u001B[0;32m   5253\u001B[0m     \u001B[38;5;28mself\u001B[39m,\n\u001B[1;32m   (...)\u001B[0m\n\u001B[0;32m   5260\u001B[0m     errors: IgnoreRaise \u001B[38;5;241m=\u001B[39m \u001B[38;5;124m\"\u001B[39m\u001B[38;5;124mraise\u001B[39m\u001B[38;5;124m\"\u001B[39m,\n\u001B[0;32m   5261\u001B[0m ) \u001B[38;5;241m-\u001B[39m\u001B[38;5;241m>\u001B[39m DataFrame \u001B[38;5;241m|\u001B[39m \u001B[38;5;28;01mNone\u001B[39;00m:\n\u001B[0;32m   5262\u001B[0m \u001B[38;5;250m    \u001B[39m\u001B[38;5;124;03m\"\"\"\u001B[39;00m\n\u001B[0;32m   5263\u001B[0m \u001B[38;5;124;03m    Drop specified labels from rows or columns.\u001B[39;00m\n\u001B[0;32m   5264\u001B[0m \n\u001B[1;32m   (...)\u001B[0m\n\u001B[0;32m   5397\u001B[0m \u001B[38;5;124;03m            weight  1.0     0.8\u001B[39;00m\n\u001B[0;32m   5398\u001B[0m \u001B[38;5;124;03m    \"\"\"\u001B[39;00m\n\u001B[1;32m-> 5399\u001B[0m     \u001B[38;5;28;01mreturn\u001B[39;00m \u001B[38;5;28;43msuper\u001B[39;49m\u001B[43m(\u001B[49m\u001B[43m)\u001B[49m\u001B[38;5;241;43m.\u001B[39;49m\u001B[43mdrop\u001B[49m\u001B[43m(\u001B[49m\n\u001B[0;32m   5400\u001B[0m \u001B[43m        \u001B[49m\u001B[43mlabels\u001B[49m\u001B[38;5;241;43m=\u001B[39;49m\u001B[43mlabels\u001B[49m\u001B[43m,\u001B[49m\n\u001B[0;32m   5401\u001B[0m \u001B[43m        \u001B[49m\u001B[43maxis\u001B[49m\u001B[38;5;241;43m=\u001B[39;49m\u001B[43maxis\u001B[49m\u001B[43m,\u001B[49m\n\u001B[0;32m   5402\u001B[0m \u001B[43m        \u001B[49m\u001B[43mindex\u001B[49m\u001B[38;5;241;43m=\u001B[39;49m\u001B[43mindex\u001B[49m\u001B[43m,\u001B[49m\n\u001B[0;32m   5403\u001B[0m \u001B[43m        \u001B[49m\u001B[43mcolumns\u001B[49m\u001B[38;5;241;43m=\u001B[39;49m\u001B[43mcolumns\u001B[49m\u001B[43m,\u001B[49m\n\u001B[0;32m   5404\u001B[0m \u001B[43m        \u001B[49m\u001B[43mlevel\u001B[49m\u001B[38;5;241;43m=\u001B[39;49m\u001B[43mlevel\u001B[49m\u001B[43m,\u001B[49m\n\u001B[0;32m   5405\u001B[0m \u001B[43m        \u001B[49m\u001B[43minplace\u001B[49m\u001B[38;5;241;43m=\u001B[39;49m\u001B[43minplace\u001B[49m\u001B[43m,\u001B[49m\n\u001B[0;32m   5406\u001B[0m \u001B[43m        \u001B[49m\u001B[43merrors\u001B[49m\u001B[38;5;241;43m=\u001B[39;49m\u001B[43merrors\u001B[49m\u001B[43m,\u001B[49m\n\u001B[0;32m   5407\u001B[0m \u001B[43m    \u001B[49m\u001B[43m)\u001B[49m\n",
      "File \u001B[1;32mC:\\ProgramData\\Miniconda3\\envs\\myenv\\lib\\site-packages\\pandas\\util\\_decorators.py:331\u001B[0m, in \u001B[0;36mdeprecate_nonkeyword_arguments.<locals>.decorate.<locals>.wrapper\u001B[1;34m(*args, **kwargs)\u001B[0m\n\u001B[0;32m    325\u001B[0m \u001B[38;5;28;01mif\u001B[39;00m \u001B[38;5;28mlen\u001B[39m(args) \u001B[38;5;241m>\u001B[39m num_allow_args:\n\u001B[0;32m    326\u001B[0m     warnings\u001B[38;5;241m.\u001B[39mwarn(\n\u001B[0;32m    327\u001B[0m         msg\u001B[38;5;241m.\u001B[39mformat(arguments\u001B[38;5;241m=\u001B[39m_format_argument_list(allow_args)),\n\u001B[0;32m    328\u001B[0m         \u001B[38;5;167;01mFutureWarning\u001B[39;00m,\n\u001B[0;32m    329\u001B[0m         stacklevel\u001B[38;5;241m=\u001B[39mfind_stack_level(),\n\u001B[0;32m    330\u001B[0m     )\n\u001B[1;32m--> 331\u001B[0m \u001B[38;5;28;01mreturn\u001B[39;00m func(\u001B[38;5;241m*\u001B[39margs, \u001B[38;5;241m*\u001B[39m\u001B[38;5;241m*\u001B[39mkwargs)\n",
      "File \u001B[1;32mC:\\ProgramData\\Miniconda3\\envs\\myenv\\lib\\site-packages\\pandas\\core\\generic.py:4505\u001B[0m, in \u001B[0;36mNDFrame.drop\u001B[1;34m(self, labels, axis, index, columns, level, inplace, errors)\u001B[0m\n\u001B[0;32m   4503\u001B[0m \u001B[38;5;28;01mfor\u001B[39;00m axis, labels \u001B[38;5;129;01min\u001B[39;00m axes\u001B[38;5;241m.\u001B[39mitems():\n\u001B[0;32m   4504\u001B[0m     \u001B[38;5;28;01mif\u001B[39;00m labels \u001B[38;5;129;01mis\u001B[39;00m \u001B[38;5;129;01mnot\u001B[39;00m \u001B[38;5;28;01mNone\u001B[39;00m:\n\u001B[1;32m-> 4505\u001B[0m         obj \u001B[38;5;241m=\u001B[39m \u001B[43mobj\u001B[49m\u001B[38;5;241;43m.\u001B[39;49m\u001B[43m_drop_axis\u001B[49m\u001B[43m(\u001B[49m\u001B[43mlabels\u001B[49m\u001B[43m,\u001B[49m\u001B[43m \u001B[49m\u001B[43maxis\u001B[49m\u001B[43m,\u001B[49m\u001B[43m \u001B[49m\u001B[43mlevel\u001B[49m\u001B[38;5;241;43m=\u001B[39;49m\u001B[43mlevel\u001B[49m\u001B[43m,\u001B[49m\u001B[43m \u001B[49m\u001B[43merrors\u001B[49m\u001B[38;5;241;43m=\u001B[39;49m\u001B[43merrors\u001B[49m\u001B[43m)\u001B[49m\n\u001B[0;32m   4507\u001B[0m \u001B[38;5;28;01mif\u001B[39;00m inplace:\n\u001B[0;32m   4508\u001B[0m     \u001B[38;5;28mself\u001B[39m\u001B[38;5;241m.\u001B[39m_update_inplace(obj)\n",
      "File \u001B[1;32mC:\\ProgramData\\Miniconda3\\envs\\myenv\\lib\\site-packages\\pandas\\core\\generic.py:4546\u001B[0m, in \u001B[0;36mNDFrame._drop_axis\u001B[1;34m(self, labels, axis, level, errors, only_slice)\u001B[0m\n\u001B[0;32m   4544\u001B[0m         new_axis \u001B[38;5;241m=\u001B[39m axis\u001B[38;5;241m.\u001B[39mdrop(labels, level\u001B[38;5;241m=\u001B[39mlevel, errors\u001B[38;5;241m=\u001B[39merrors)\n\u001B[0;32m   4545\u001B[0m     \u001B[38;5;28;01melse\u001B[39;00m:\n\u001B[1;32m-> 4546\u001B[0m         new_axis \u001B[38;5;241m=\u001B[39m \u001B[43maxis\u001B[49m\u001B[38;5;241;43m.\u001B[39;49m\u001B[43mdrop\u001B[49m\u001B[43m(\u001B[49m\u001B[43mlabels\u001B[49m\u001B[43m,\u001B[49m\u001B[43m \u001B[49m\u001B[43merrors\u001B[49m\u001B[38;5;241;43m=\u001B[39;49m\u001B[43merrors\u001B[49m\u001B[43m)\u001B[49m\n\u001B[0;32m   4547\u001B[0m     indexer \u001B[38;5;241m=\u001B[39m axis\u001B[38;5;241m.\u001B[39mget_indexer(new_axis)\n\u001B[0;32m   4549\u001B[0m \u001B[38;5;66;03m# Case for non-unique axis\u001B[39;00m\n\u001B[0;32m   4550\u001B[0m \u001B[38;5;28;01melse\u001B[39;00m:\n",
      "File \u001B[1;32mC:\\ProgramData\\Miniconda3\\envs\\myenv\\lib\\site-packages\\pandas\\core\\indexes\\base.py:6934\u001B[0m, in \u001B[0;36mIndex.drop\u001B[1;34m(self, labels, errors)\u001B[0m\n\u001B[0;32m   6932\u001B[0m \u001B[38;5;28;01mif\u001B[39;00m mask\u001B[38;5;241m.\u001B[39many():\n\u001B[0;32m   6933\u001B[0m     \u001B[38;5;28;01mif\u001B[39;00m errors \u001B[38;5;241m!=\u001B[39m \u001B[38;5;124m\"\u001B[39m\u001B[38;5;124mignore\u001B[39m\u001B[38;5;124m\"\u001B[39m:\n\u001B[1;32m-> 6934\u001B[0m         \u001B[38;5;28;01mraise\u001B[39;00m \u001B[38;5;167;01mKeyError\u001B[39;00m(\u001B[38;5;124mf\u001B[39m\u001B[38;5;124m\"\u001B[39m\u001B[38;5;132;01m{\u001B[39;00m\u001B[38;5;28mlist\u001B[39m(labels[mask])\u001B[38;5;132;01m}\u001B[39;00m\u001B[38;5;124m not found in axis\u001B[39m\u001B[38;5;124m\"\u001B[39m)\n\u001B[0;32m   6935\u001B[0m     indexer \u001B[38;5;241m=\u001B[39m indexer[\u001B[38;5;241m~\u001B[39mmask]\n\u001B[0;32m   6936\u001B[0m \u001B[38;5;28;01mreturn\u001B[39;00m \u001B[38;5;28mself\u001B[39m\u001B[38;5;241m.\u001B[39mdelete(indexer)\n",
      "\u001B[1;31mKeyError\u001B[0m: \"['level_0'] not found in axis\""
     ]
    }
   ],
   "source": [
    "ex = ex.drop('level_0', axis=1)"
   ],
   "metadata": {
    "collapsed": false,
    "pycharm": {
     "name": "#%%\n"
    }
   }
  },
  {
   "cell_type": "code",
   "execution_count": 52,
   "outputs": [],
   "source": [
    "ex = ex.drop('ex', axis=1)"
   ],
   "metadata": {
    "collapsed": false,
    "pycharm": {
     "name": "#%%\n"
    }
   }
  },
  {
   "cell_type": "code",
   "execution_count": 53,
   "outputs": [
    {
     "data": {
      "text/plain": "     index                      Consept  \\\n0        0          إجراء عمليات حسابية   \n1        1          إجراء عمليات حسابية   \n2        2          إجراء عمليات حسابية   \n3        3          إجراء عمليات حسابية   \n4        4          إجراء عمليات حسابية   \n..     ...                          ...   \n144    144         التعامل مع المصفوفات   \n145    145         التعامل مع المصفوفات   \n146    146         التعامل مع المصفوفات   \n147    147         التعامل مع المصفوفات   \n148    148  التعامل مع الأرقام و النصوص   \n\n                                              required img_src  \\\n0    أكتب برنامج يطلب من المستخدم إدخال خمسة أعداد ...     NaN   \n1    أكتب برنامج يطلب من المستخدم إدخال رقمين, ثم ي...     NaN   \n2    أكتب برنامج يطلب من المستخدم إدخال ثلاث أرقام ...     NaN   \n3    أكتب برنامج يطلب من المستخدم إدخال رقمين, ثم ي...     NaN   \n4    أكتب برنامج يطلب من المستخدم إدخال رقم الشهر, ...     NaN   \n..                                                 ...     ...   \n144  قم بتعريف دالة إسمها CountOccurrence, مهمتها ا...     NaN   \n145  قم بتعريف دالة إسمها PrintSecondBiggest, عند ا...     NaN   \n146  قم بتعريف دالة إسمها PrintSecondLowest, عند اس...     NaN   \n147  أكتب برنامج يقوم بترتيب جميع القيم الموجودة في...     NaN   \n148  قم بتعريف دالة إسمها PrintWordsOccurence, نمرر...     NaN   \n\n                                                  code  \\\n0    \\r\\n#include <iostream>\\r\\n\\r\\nint main() {\\r\\...   \n1    \\r\\n#include <iostream>\\r\\n\\r\\nint main() {\\r\\...   \n2    \\r\\n#include <iostream>\\r\\n\\r\\nint main() {\\r\\...   \n3    \\r\\n#include <iostream>\\r\\n\\r\\nint main() {\\r\\...   \n4    \\r\\n#include <iostream>\\r\\n\\r\\nint main() {\\r\\...   \n..                                                 ...   \n144  \\r\\n#include <iostream>\\r\\n\\r\\n// هنا قمنا بتع...   \n145  \\r\\n#include <iostream>\\r\\n\\r\\n// printSecondB...   \n146  \\r\\n#include <iostream>\\r\\n\\r\\n// printSecondL...   \n147  \\r\\n#include <iostream>\\r\\n\\r\\nint main() {\\r\\...   \n148  \\r\\n#include <iostream>\\r\\n#include <string>\\r...   \n\n                                                output  \\\n0    \\n\\r\\n\\t\\t\\t\\tEnter n1: 7 \\r\\n\\t\\t\\t\\tEnter n2...   \n1    \\r\\nEnter first number: 14\\r\\nEnter second num...   \n2    \\r\\n#include <iostream>\\r\\n\\r\\nint main() {\\r\\...   \n3    \\r\\n#include <iostream>\\r\\n\\r\\nint main() {\\r\\...   \n4       \\r\\nMonth number: 5\\r\\nMonth name: May\\r\\n\\t\\t   \n..                                                 ...   \n144  \\r\\n[0] is repeated 2 time(s)\\r\\n[4] is repeat...   \n145            \\r\\nSecond biggest number is: 8\\r\\n\\t\\t   \n146             \\r\\nSecond lowest number is: 2\\r\\n\\t\\t   \n147  \\r\\nMatrix before sorting \\r\\n5 2 4 \\r\\n1 7 3 ...   \n148  \\r\\n[3] I\\r\\n[2] am\\r\\n[1] happy.\\r\\n[1] a\\r\\n...   \n\n                                           Explanation  \\\n0    سنحصل على النتيجة التالية إذا قام المستخدم بإد...   \n1    سنحصل على النتيجة التالية إذا قام المستخدم بإد...   \n2    الطريقة الثالثة لحل التمرين و الحصول على نفس ا...   \n3    الطريقة الثالثة لحل التمرين و الحصول على نفس ا...   \n4    سنحصل على النتيجة التالية إذا قام المستخدم بإد...   \n..                                                 ...   \n144             سنحصل على النتيجة التالية عند التشغيل.   \n145  سنحصل على النتيجة التالية عند التشغيل في حال ك...   \n146  سنحصل على النتيجة التالية عند التشغيل في حال ك...   \n147             سنحصل على النتيجة التالية عند التشغيل.   \n148             سنحصل على النتيجة التالية عند التشغيل.   \n\n                                                  hint  \\\n0    مثال: إذا قام المستخدم بإدخال الأعداد 7 , 4 , ...   \n1                                                  NaN   \n2                                                  NaN   \n3                                                  NaN   \n4    مثال: إذا قام المستخدم بإدخال الرقم 5 فستكون ا...   \n..                                                 ...   \n144  مساعدة: يجب تمرير حجم المصفوفة أيضاً للدالة لأ...   \n145                                                NaN   \n146                                                NaN   \n147                                                NaN   \n148  مثال: إذا قمنا باستخدام الدالة PrintWordsOccur...   \n\n                                       generalConcepts  difficulty  \\\n0                          [أنواع البيانات, الأساسيات]    0.000000   \n1                          [أنواع البيانات, الأساسيات]    2.472315   \n2                          [أنواع البيانات, الأساسيات]    3.626062   \n3                          [أنواع البيانات, الأساسيات]    3.626062   \n4                  [الشروط, أنواع البيانات, الأساسيات]    6.798867   \n..                                                 ...         ...   \n144  [الحلقات, الشروط, أنواع البيانات, الأساسيات, ا...   86.118980   \n145  [الحلقات, الشروط, أنواع البيانات, الأساسيات, ا...   90.406554   \n146  [الحلقات, الشروط, أنواع البيانات, الأساسيات, ا...   91.128672   \n147  [الحلقات, الشروط, أنواع البيانات, الأساسيات, ا...   91.406988   \n148  [الحلقات, الشروط, أنواع البيانات, الأساسيات, ا...  100.000000   \n\n     mapped_required_time   emptying  \\\n0               11.250000   5.000000   \n1                7.486158   5.000000   \n2                9.313031   5.928486   \n3                9.313031   6.526844   \n4               53.399433  21.826023   \n..                    ...        ...   \n144             60.559490  69.341639   \n145             68.953277  69.447452   \n146             69.314336  69.573874   \n147             79.453494  69.702265   \n148             76.250000  69.830333   \n\n                                     concept_emptying2  \n0             [2.1140939597315436, 2.1140939597315436]  \n1                 [2.56152125279642, 2.56152125279642]  \n2             [3.3184440150693164, 3.3184440150693164]  \n3             [3.9653239438460273, 3.9653239438460273]  \n4    [7.935407096043097, 9.512477554766821, 9.51247...  \n..                                                 ...  \n144  [87.83407429621295, 87.14028228927504, 87.9908...  \n145  [88.3559633680158, 87.83561936281235, 88.47353...  \n146  [88.88472184490226, 88.53782584143329, 88.9631...  \n147  [89.41413688567938, 89.2406888839449, 89.45332...  \n148  [89.9434444106229, 89.9434444106229, 89.943444...  \n\n[149 rows x 13 columns]",
      "text/html": "<div>\n<style scoped>\n    .dataframe tbody tr th:only-of-type {\n        vertical-align: middle;\n    }\n\n    .dataframe tbody tr th {\n        vertical-align: top;\n    }\n\n    .dataframe thead th {\n        text-align: right;\n    }\n</style>\n<table border=\"1\" class=\"dataframe\">\n  <thead>\n    <tr style=\"text-align: right;\">\n      <th></th>\n      <th>index</th>\n      <th>Consept</th>\n      <th>required</th>\n      <th>img_src</th>\n      <th>code</th>\n      <th>output</th>\n      <th>Explanation</th>\n      <th>hint</th>\n      <th>generalConcepts</th>\n      <th>difficulty</th>\n      <th>mapped_required_time</th>\n      <th>emptying</th>\n      <th>concept_emptying2</th>\n    </tr>\n  </thead>\n  <tbody>\n    <tr>\n      <th>0</th>\n      <td>0</td>\n      <td>إجراء عمليات حسابية</td>\n      <td>أكتب برنامج يطلب من المستخدم إدخال خمسة أعداد ...</td>\n      <td>NaN</td>\n      <td>\\r\\n#include &lt;iostream&gt;\\r\\n\\r\\nint main() {\\r\\...</td>\n      <td>\\n\\r\\n\\t\\t\\t\\tEnter n1: 7 \\r\\n\\t\\t\\t\\tEnter n2...</td>\n      <td>سنحصل على النتيجة التالية إذا قام المستخدم بإد...</td>\n      <td>مثال: إذا قام المستخدم بإدخال الأعداد 7 , 4 , ...</td>\n      <td>[أنواع البيانات, الأساسيات]</td>\n      <td>0.000000</td>\n      <td>11.250000</td>\n      <td>5.000000</td>\n      <td>[2.1140939597315436, 2.1140939597315436]</td>\n    </tr>\n    <tr>\n      <th>1</th>\n      <td>1</td>\n      <td>إجراء عمليات حسابية</td>\n      <td>أكتب برنامج يطلب من المستخدم إدخال رقمين, ثم ي...</td>\n      <td>NaN</td>\n      <td>\\r\\n#include &lt;iostream&gt;\\r\\n\\r\\nint main() {\\r\\...</td>\n      <td>\\r\\nEnter first number: 14\\r\\nEnter second num...</td>\n      <td>سنحصل على النتيجة التالية إذا قام المستخدم بإد...</td>\n      <td>NaN</td>\n      <td>[أنواع البيانات, الأساسيات]</td>\n      <td>2.472315</td>\n      <td>7.486158</td>\n      <td>5.000000</td>\n      <td>[2.56152125279642, 2.56152125279642]</td>\n    </tr>\n    <tr>\n      <th>2</th>\n      <td>2</td>\n      <td>إجراء عمليات حسابية</td>\n      <td>أكتب برنامج يطلب من المستخدم إدخال ثلاث أرقام ...</td>\n      <td>NaN</td>\n      <td>\\r\\n#include &lt;iostream&gt;\\r\\n\\r\\nint main() {\\r\\...</td>\n      <td>\\r\\n#include &lt;iostream&gt;\\r\\n\\r\\nint main() {\\r\\...</td>\n      <td>الطريقة الثالثة لحل التمرين و الحصول على نفس ا...</td>\n      <td>NaN</td>\n      <td>[أنواع البيانات, الأساسيات]</td>\n      <td>3.626062</td>\n      <td>9.313031</td>\n      <td>5.928486</td>\n      <td>[3.3184440150693164, 3.3184440150693164]</td>\n    </tr>\n    <tr>\n      <th>3</th>\n      <td>3</td>\n      <td>إجراء عمليات حسابية</td>\n      <td>أكتب برنامج يطلب من المستخدم إدخال رقمين, ثم ي...</td>\n      <td>NaN</td>\n      <td>\\r\\n#include &lt;iostream&gt;\\r\\n\\r\\nint main() {\\r\\...</td>\n      <td>\\r\\n#include &lt;iostream&gt;\\r\\n\\r\\nint main() {\\r\\...</td>\n      <td>الطريقة الثالثة لحل التمرين و الحصول على نفس ا...</td>\n      <td>NaN</td>\n      <td>[أنواع البيانات, الأساسيات]</td>\n      <td>3.626062</td>\n      <td>9.313031</td>\n      <td>6.526844</td>\n      <td>[3.9653239438460273, 3.9653239438460273]</td>\n    </tr>\n    <tr>\n      <th>4</th>\n      <td>4</td>\n      <td>إجراء عمليات حسابية</td>\n      <td>أكتب برنامج يطلب من المستخدم إدخال رقم الشهر, ...</td>\n      <td>NaN</td>\n      <td>\\r\\n#include &lt;iostream&gt;\\r\\n\\r\\nint main() {\\r\\...</td>\n      <td>\\r\\nMonth number: 5\\r\\nMonth name: May\\r\\n\\t\\t</td>\n      <td>سنحصل على النتيجة التالية إذا قام المستخدم بإد...</td>\n      <td>مثال: إذا قام المستخدم بإدخال الرقم 5 فستكون ا...</td>\n      <td>[الشروط, أنواع البيانات, الأساسيات]</td>\n      <td>6.798867</td>\n      <td>53.399433</td>\n      <td>21.826023</td>\n      <td>[7.935407096043097, 9.512477554766821, 9.51247...</td>\n    </tr>\n    <tr>\n      <th>...</th>\n      <td>...</td>\n      <td>...</td>\n      <td>...</td>\n      <td>...</td>\n      <td>...</td>\n      <td>...</td>\n      <td>...</td>\n      <td>...</td>\n      <td>...</td>\n      <td>...</td>\n      <td>...</td>\n      <td>...</td>\n      <td>...</td>\n    </tr>\n    <tr>\n      <th>144</th>\n      <td>144</td>\n      <td>التعامل مع المصفوفات</td>\n      <td>قم بتعريف دالة إسمها CountOccurrence, مهمتها ا...</td>\n      <td>NaN</td>\n      <td>\\r\\n#include &lt;iostream&gt;\\r\\n\\r\\n// هنا قمنا بتع...</td>\n      <td>\\r\\n[0] is repeated 2 time(s)\\r\\n[4] is repeat...</td>\n      <td>سنحصل على النتيجة التالية عند التشغيل.</td>\n      <td>مساعدة: يجب تمرير حجم المصفوفة أيضاً للدالة لأ...</td>\n      <td>[الحلقات, الشروط, أنواع البيانات, الأساسيات, ا...</td>\n      <td>86.118980</td>\n      <td>60.559490</td>\n      <td>69.341639</td>\n      <td>[87.83407429621295, 87.14028228927504, 87.9908...</td>\n    </tr>\n    <tr>\n      <th>145</th>\n      <td>145</td>\n      <td>التعامل مع المصفوفات</td>\n      <td>قم بتعريف دالة إسمها PrintSecondBiggest, عند ا...</td>\n      <td>NaN</td>\n      <td>\\r\\n#include &lt;iostream&gt;\\r\\n\\r\\n// printSecondB...</td>\n      <td>\\r\\nSecond biggest number is: 8\\r\\n\\t\\t</td>\n      <td>سنحصل على النتيجة التالية عند التشغيل في حال ك...</td>\n      <td>NaN</td>\n      <td>[الحلقات, الشروط, أنواع البيانات, الأساسيات, ا...</td>\n      <td>90.406554</td>\n      <td>68.953277</td>\n      <td>69.447452</td>\n      <td>[88.3559633680158, 87.83561936281235, 88.47353...</td>\n    </tr>\n    <tr>\n      <th>146</th>\n      <td>146</td>\n      <td>التعامل مع المصفوفات</td>\n      <td>قم بتعريف دالة إسمها PrintSecondLowest, عند اس...</td>\n      <td>NaN</td>\n      <td>\\r\\n#include &lt;iostream&gt;\\r\\n\\r\\n// printSecondL...</td>\n      <td>\\r\\nSecond lowest number is: 2\\r\\n\\t\\t</td>\n      <td>سنحصل على النتيجة التالية عند التشغيل في حال ك...</td>\n      <td>NaN</td>\n      <td>[الحلقات, الشروط, أنواع البيانات, الأساسيات, ا...</td>\n      <td>91.128672</td>\n      <td>69.314336</td>\n      <td>69.573874</td>\n      <td>[88.88472184490226, 88.53782584143329, 88.9631...</td>\n    </tr>\n    <tr>\n      <th>147</th>\n      <td>147</td>\n      <td>التعامل مع المصفوفات</td>\n      <td>أكتب برنامج يقوم بترتيب جميع القيم الموجودة في...</td>\n      <td>NaN</td>\n      <td>\\r\\n#include &lt;iostream&gt;\\r\\n\\r\\nint main() {\\r\\...</td>\n      <td>\\r\\nMatrix before sorting \\r\\n5 2 4 \\r\\n1 7 3 ...</td>\n      <td>سنحصل على النتيجة التالية عند التشغيل.</td>\n      <td>NaN</td>\n      <td>[الحلقات, الشروط, أنواع البيانات, الأساسيات, ا...</td>\n      <td>91.406988</td>\n      <td>79.453494</td>\n      <td>69.702265</td>\n      <td>[89.41413688567938, 89.2406888839449, 89.45332...</td>\n    </tr>\n    <tr>\n      <th>148</th>\n      <td>148</td>\n      <td>التعامل مع الأرقام و النصوص</td>\n      <td>قم بتعريف دالة إسمها PrintWordsOccurence, نمرر...</td>\n      <td>NaN</td>\n      <td>\\r\\n#include &lt;iostream&gt;\\r\\n#include &lt;string&gt;\\r...</td>\n      <td>\\r\\n[3] I\\r\\n[2] am\\r\\n[1] happy.\\r\\n[1] a\\r\\n...</td>\n      <td>سنحصل على النتيجة التالية عند التشغيل.</td>\n      <td>مثال: إذا قمنا باستخدام الدالة PrintWordsOccur...</td>\n      <td>[الحلقات, الشروط, أنواع البيانات, الأساسيات, ا...</td>\n      <td>100.000000</td>\n      <td>76.250000</td>\n      <td>69.830333</td>\n      <td>[89.9434444106229, 89.9434444106229, 89.943444...</td>\n    </tr>\n  </tbody>\n</table>\n<p>149 rows × 13 columns</p>\n</div>"
     },
     "execution_count": 53,
     "metadata": {},
     "output_type": "execute_result"
    }
   ],
   "source": [
    "ex"
   ],
   "metadata": {
    "collapsed": false,
    "pycharm": {
     "name": "#%%\n"
    }
   }
  },
  {
   "cell_type": "code",
   "execution_count": 54,
   "outputs": [],
   "source": [
    "ex.to_csv('ex_dataset.csv', index= False,  encoding='utf-8-sig')"
   ],
   "metadata": {
    "collapsed": false,
    "pycharm": {
     "name": "#%%\n"
    }
   }
  },
  {
   "cell_type": "markdown",
   "source": [
    "# Tests"
   ],
   "metadata": {
    "collapsed": false,
    "pycharm": {
     "name": "#%% md\n"
    }
   }
  },
  {
   "cell_type": "code",
   "execution_count": 356,
   "outputs": [
    {
     "data": {
      "text/plain": "(5, 5)"
     },
     "execution_count": 356,
     "metadata": {},
     "output_type": "execute_result"
    }
   ],
   "source": [
    "x = 4.2222222\n",
    "y = 4.55\n",
    "ceil(x)"
   ],
   "metadata": {
    "collapsed": false,
    "pycharm": {
     "name": "#%%\n"
    }
   }
  },
  {
   "cell_type": "code",
   "execution_count": 116,
   "outputs": [
    {
     "name": "stdout",
     "output_type": "stream",
     "text": [
      "<<: 3\n",
      ";: 5\n",
      "\": 2\n",
      "=: 3\n",
      "': 0\n",
      "+: 1\n",
      "-: 0\n",
      "/: 0\n",
      "*: 0\n",
      "++: 0\n",
      "--: 0\n",
      "%: 0\n",
      "==: 0\n",
      "!=: 0\n",
      "<=: 0\n",
      ">=: 0\n",
      "<: 7\n",
      ">: 1\n",
      "||: 0\n",
      "&&: 0\n",
      "!: 0\n",
      "^: 0\n",
      ">>: 0\n",
      "~: 0\n",
      "|: 0\n",
      "&: 0\n",
      "+=: 0\n",
      "-=: 0\n",
      "*=: 0\n",
      "/=: 0\n",
      "%=: 0\n",
      "<<=: 0\n",
      ">>=: 0\n",
      "&=: 0\n",
      "^=: 0\n",
      "|=: 0\n",
      "?: 0\n",
      ":: 5\n",
      "[: 0\n",
      "]: 0\n",
      "//: 0\n",
      ",: 0\n"
     ]
    }
   ],
   "source": [
    "operators = ['<<', ';', '\"', '=', \"'\", '\"', '+', '-', '/', '*', '++', '--', '%', '==', '!=', '<=', '>=', '<', '>', '||', '&&', '!', '^', '<<', '>>', '~', '|', '&', '+=', '-=', '*=', '/=', '%=', '<<=', '>>=', '&=', '^=', '|=', '?', ':', '[', ']', '//', ',']\n",
    "\n",
    "def count_operators(code):\n",
    "    operator_counts = {}\n",
    "\n",
    "    for operator in operators:\n",
    "        count = code.count(operator)\n",
    "        operator_counts[operator] = count\n",
    "\n",
    "    return operator_counts\n",
    "\n",
    "# Example C++ code\n",
    "cpp_code = '''\n",
    "#include <iostream>\n",
    "\n",
    "int main() {\n",
    "    int a = 5;\n",
    "    int b = 10;\n",
    "    int result = a + b;\n",
    "\n",
    "    std::cout << \"The result is: \" << result << std::endl;\n",
    "\n",
    "    return 0;\n",
    "}\n",
    "'''\n",
    "\n",
    "# Count operators in the C++ code\n",
    "operator_counts = count_operators(cpp_code)\n",
    "\n",
    "# Print the operator counts\n",
    "for operator, count in operator_counts.items():\n",
    "    print(f\"{operator}: {count}\")\n"
   ],
   "metadata": {
    "collapsed": false,
    "pycharm": {
     "name": "#%%\n"
    }
   }
  },
  {
   "cell_type": "code",
   "execution_count": 117,
   "outputs": [
    {
     "name": "stdout",
     "output_type": "stream",
     "text": [
      "int a _ 10_ int b _ 20_ int c _ a _ b_\n"
     ]
    }
   ],
   "source": [
    "operators = ['<<', ';', '\"', '=', \"'\", '\"', '+', '-', '/', '*', '++', '--', '%', '==', '!=', '<=', '>=', '<', '>', '||', '&&', '!', '^', '<<', '>>', '~', '|', '&', '+=', '-=', '*=', '/=', '%=', '<<=', '>>=', '&=', '^=', '|=', '?', ':', '[', ']', '//', ',']\n",
    "\n",
    "# Create a sample code string\n",
    "code = 'int a = 10; int b = 20; int c = a + b;'\n",
    "\n",
    "# Replace operators with underscores\n",
    "for operator in operators:\n",
    "    code = code.replace(operator, '_')\n",
    "\n",
    "print(code)\n"
   ],
   "metadata": {
    "collapsed": false,
    "pycharm": {
     "name": "#%%\n"
    }
   }
  },
  {
   "cell_type": "code",
   "execution_count": 120,
   "outputs": [
    {
     "name": "stdout",
     "output_type": "stream",
     "text": [
      "\n",
      "#include <iostream>\n",
      "\n",
      "\n",
      "\n",
      "    std::cout << \"Hello, world!\" << std::endl;\n",
      "\n",
      "\n",
      "}\n",
      "\n",
      "int add(int a, int b) {\n",
      "    return a + b;\n",
      "}\n",
      "\n"
     ]
    }
   ],
   "source": [
    "def remove_main_function(code):\n",
    "    lines = code.split('\\n')\n",
    "    new_lines = []\n",
    "    is_main_function = False\n",
    "\n",
    "    for line in lines:\n",
    "        if 'int main(' in line:\n",
    "            is_main_function = True\n",
    "            new_lines.append('\\n')\n",
    "            continue\n",
    "        elif 'return' in line and is_main_function:\n",
    "            new_lines.append('\\n')\n",
    "            is_main_function = False\n",
    "            continue\n",
    "\n",
    "        new_lines.append(line)\n",
    "\n",
    "    new_code = '\\n'.join(new_lines)\n",
    "    return new_code\n",
    "\n",
    "# Sample code string\n",
    "code = '''\n",
    "#include <iostream>\n",
    "\n",
    "int main() {\n",
    "    std::cout << \"Hello, world!\" << std::endl;\n",
    "    return 0;\n",
    "}\n",
    "\n",
    "int add(int a, int b) {\n",
    "    return a + b;\n",
    "}\n",
    "'''\n",
    "\n",
    "# Remove main function and its return statement\n",
    "modified_code = remove_main_function(code)\n",
    "print(modified_code)\n"
   ],
   "metadata": {
    "collapsed": false,
    "pycharm": {
     "name": "#%%\n"
    }
   }
  },
  {
   "cell_type": "code",
   "execution_count": 258,
   "outputs": [
    {
     "name": "stdout",
     "output_type": "stream",
     "text": [
      "// \n",
      "int main() {\n",
      "    // \n",
      "    /* */ \n",
      "    int a = 10;\n",
      "    return 0;\n",
      "}\n"
     ]
    }
   ],
   "source": [
    "def remove_comments(code):\n",
    "    # Remove single-line comments (//)\n",
    "    code = re.sub(r'\\/\\/.*', '// \\\\n', code)\n",
    "    code = re.sub(r'\\/\\*.*?\\*\\/', '/* */ \\\\n', code, flags=re.DOTALL)\n",
    "\n",
    "    # Remove empty lines\n",
    "    code = re.sub(r'^\\s*\\n', '', code, flags=re.MULTILINE)\n",
    "    code = code.strip()\n",
    "    return code\n",
    "\n",
    "# Example code\n",
    "example_code = '''\n",
    "// This is a comment\n",
    "int main() {\n",
    "    // This is another comment\n",
    "    /* This is a multi-line comment */\n",
    "    int a = 10;\n",
    "    return 0;\n",
    "}\n",
    "'''\n",
    "\n",
    "# Remove comments from the code\n",
    "clean_code = remove_comments(example_code)\n",
    "\n",
    "# Print the clean code\n",
    "print(clean_code)"
   ],
   "metadata": {
    "collapsed": false,
    "pycharm": {
     "name": "#%%\n"
    }
   }
  },
  {
   "cell_type": "code",
   "execution_count": 5,
   "outputs": [
    {
     "name": "stdout",
     "output_type": "stream",
     "text": [
      "{'الأساسيات': 1, 'أنواع البيانات': 1, 'المتغيرات': 1, 'التعامل مع الأعداد': 1, 'التعامل مع النصوص': 1, 'العوامل': 1, 'المصفوفات': 1, 'الدوال': 1, 'الحلقات': 1, 'الشروط': 1}\n"
     ]
    },
    {
     "ename": "KeyError",
     "evalue": "'name'",
     "output_type": "error",
     "traceback": [
      "\u001B[1;31m---------------------------------------------------------------------------\u001B[0m",
      "\u001B[1;31mKeyError\u001B[0m                                  Traceback (most recent call last)",
      "Cell \u001B[1;32mIn[5], line 20\u001B[0m\n\u001B[0;32m     17\u001B[0m \u001B[38;5;66;03m# Convert string to a dictionary\u001B[39;00m\n\u001B[0;32m     18\u001B[0m new_dict \u001B[38;5;241m=\u001B[39m \u001B[38;5;28meval\u001B[39m(dict_string)\n\u001B[1;32m---> 20\u001B[0m \u001B[38;5;28mprint\u001B[39m(\u001B[43mnew_dict\u001B[49m\u001B[43m[\u001B[49m\u001B[38;5;124;43m'\u001B[39;49m\u001B[38;5;124;43mname\u001B[39;49m\u001B[38;5;124;43m'\u001B[39;49m\u001B[43m]\u001B[49m)\n",
      "\u001B[1;31mKeyError\u001B[0m: 'name'"
     ]
    }
   ],
   "source": [
    "# Sample dictionary\n",
    "my_dict = {'الأساسيات': 1, 'أنواع البيانات': 1, 'المتغيرات': 1, 'التعامل مع الأعداد': 1, 'التعامل مع النصوص': 1, 'العوامل': 1, 'المصفوفات': 1, 'الدوال': 1, 'الحلقات': 1, 'الشروط': 1}\n",
    "\n",
    "# Convert dictionary to a string\n",
    "dict_string = str(my_dict)\n",
    "\n",
    "print(dict_string)\n",
    "# Convert string to a dictionary\n",
    "new_dict = eval(dict_string)\n",
    "\n",
    "print(new_dict['name'])\n"
   ],
   "metadata": {
    "collapsed": false,
    "pycharm": {
     "name": "#%%\n"
    }
   }
  },
  {
   "cell_type": "code",
   "execution_count": 343,
   "outputs": [
    {
     "name": "stdout",
     "output_type": "stream",
     "text": [
      "{'name': 'John', 'age': 30, 'city': 'New York'}\n"
     ]
    }
   ],
   "source": [
    "# Two sample lists\n",
    "keys = ['name', 'age', 'city']\n",
    "values = ['John', 30, 'New York']\n",
    "\n",
    "# Convert lists to a dictionary\n",
    "my_dict = {key: value for key, value in zip(keys, values)}\n",
    "\n",
    "print(my_dict)"
   ],
   "metadata": {
    "collapsed": false,
    "pycharm": {
     "name": "#%%\n"
    }
   }
  },
  {
   "cell_type": "code",
   "execution_count": 349,
   "outputs": [
    {
     "name": "stdout",
     "output_type": "stream",
     "text": [
      "apple\n"
     ]
    }
   ],
   "source": [
    "import ast\n",
    "\n",
    "# String representation of a list\n",
    "list_string = \"['apple', 'banana', 'orange']\"\n",
    "\n",
    "# Convert string to a list\n",
    "my_list = ast.literal_eval(list_string)\n",
    "\n",
    "print(my_list[0])"
   ],
   "metadata": {
    "collapsed": false,
    "pycharm": {
     "name": "#%%\n"
    }
   }
  },
  {
   "cell_type": "code",
   "execution_count": 15,
   "outputs": [],
   "source": [
    "def euclidean_distance(point1, point2):\n",
    "    point1 = np.array(point1)\n",
    "    point2 = np.array(point2)\n",
    "    distance = np.linalg.norm(point1 - point2)\n",
    "    return distance\n"
   ],
   "metadata": {
    "collapsed": false,
    "pycharm": {
     "name": "#%%\n"
    }
   }
  },
  {
   "cell_type": "code",
   "execution_count": 33,
   "outputs": [
    {
     "name": "stdout",
     "output_type": "stream",
     "text": [
      "70.16409338115899\n",
      "50.45333668130863\n"
     ]
    }
   ],
   "source": [
    "user = [80, 50, 3, 4, 4, 4, 3, 4]\n",
    "problem = [10, 50, 1, 2, 1, 3, 4, 2]\n",
    "distance = euclidean_distance(user, problem)\n",
    "user_max = [0] *2 + [1] * (len(user) - 2)\n",
    "problem_max = [100] *2 + [4] * (len(user) - 2)\n",
    "distance_max = euclidean_distance(user_max, problem_max)\n",
    "print(distance)\n",
    "S = 100 * (1- (distance / distance_max))\n",
    "print(S)"
   ],
   "metadata": {
    "collapsed": false,
    "pycharm": {
     "name": "#%%\n"
    }
   }
  },
  {
   "cell_type": "code",
   "execution_count": null,
   "outputs": [],
   "source": [],
   "metadata": {
    "collapsed": false,
    "pycharm": {
     "name": "#%%\n"
    }
   }
  },
  {
   "cell_type": "code",
   "execution_count": 1,
   "outputs": [
    {
     "name": "stdout",
     "output_type": "stream",
     "text": [
      "{'d': 1, 'b': 2, 'a': 5, 'c': 8}\n"
     ]
    }
   ],
   "source": [
    "my_dict = {'a': 5, 'b': 2, 'c': 8, 'd': 1}\n",
    "\n",
    "# Convert the dictionary into a list of tuples (key, value)\n",
    "sorted_tuples = sorted(my_dict.items(), key=lambda x: x[1])\n",
    "\n",
    "# Create a new dictionary from the sorted list of tuples\n",
    "sorted_dict = dict(sorted_tuples)\n",
    "\n",
    "print(sorted_dict)\n"
   ],
   "metadata": {
    "collapsed": false,
    "pycharm": {
     "name": "#%%\n"
    }
   }
  },
  {
   "cell_type": "code",
   "execution_count": 4,
   "outputs": [
    {
     "name": "stdout",
     "output_type": "stream",
     "text": [
      "{'a': 1, 'b': 2, 'c': 3}\n",
      "[1, 2, 3]\n"
     ]
    }
   ],
   "source": [
    "my_dict = {'b': 2, 'a': 1, 'c': 3}\n",
    "\n",
    "sorted_dict = {k: my_dict[k] for k in sorted(my_dict.keys())}\n",
    "\n",
    "print(sorted_dict)\n",
    "print(list(sorted_dict.values()))\n"
   ],
   "metadata": {
    "collapsed": false,
    "pycharm": {
     "name": "#%%\n"
    }
   }
  },
  {
   "cell_type": "code",
   "execution_count": 38,
   "outputs": [
    {
     "name": "stdout",
     "output_type": "stream",
     "text": [
      "XP Earned: 300\n"
     ]
    }
   ],
   "source": [
    "def calculate_xp(task_difficulty, time_spent, performance):\n",
    "    base_xp = 10  # Base XP for completing a task\n",
    "\n",
    "    # Adjust XP based on task difficulty\n",
    "    difficulty_factor = 10  # Adjust this factor based on difficulty levels\n",
    "    xp = base_xp * task_difficulty\n",
    "\n",
    "    # Adjust XP based on time spent\n",
    "    # time_factor = 0.5  # Adjust this factor based on desired time-to-XP ratio\n",
    "    # xp *= time_factor * time_spent\n",
    "    #\n",
    "    # # Adjust XP based on performance\n",
    "    # performance_factor = performance / 100.0  # Convert performance to a decimal percentage\n",
    "    # xp *= performance_factor\n",
    "\n",
    "    # Apply additional adjustments or factors based on engagement metrics or user-specific variables\n",
    "    # ...\n",
    "    return int(xp)  # Convert XP to an integer value\n",
    "# Example usage\n",
    "task_difficulty = 30  # Example difficulty value (0.0 to 1.0)\n",
    "time_spent = 30  # Example time spent in minutes\n",
    "performance = 80  # Example performance as a percentage\n",
    "\n",
    "xp = calculate_xp(task_difficulty, time_spent, performance)\n",
    "print(f\"XP Earned: {xp}\")\n"
   ],
   "metadata": {
    "collapsed": false,
    "pycharm": {
     "name": "#%%\n"
    }
   }
  },
  {
   "cell_type": "code",
   "execution_count": 97,
   "outputs": [
    {
     "name": "stdout",
     "output_type": "stream",
     "text": [
      "50.0\n"
     ]
    }
   ],
   "source": [
    "import math\n",
    "\n",
    "def map_to_sigmoid(x, y):\n",
    "    normalized_x = (x - 50) / 10\n",
    "    normalized_y = (y - 50) / 10\n",
    "    result = 1 / (1 + math.exp(-(normalized_x - normalized_y))) *100\n",
    "    return result\n",
    "\n",
    "# Example usage\n",
    "x = 80\n",
    "y = 80\n",
    "sigmoid_value = map_to_sigmoid(x, y)\n",
    "print(sigmoid_value)"
   ],
   "metadata": {
    "collapsed": false,
    "pycharm": {
     "name": "#%%\n"
    }
   }
  },
  {
   "cell_type": "code",
   "execution_count": 12,
   "outputs": [
    {
     "name": "stdout",
     "output_type": "stream",
     "text": [
      "{'!': 0, '!=': 0, '\"': 1, '%': 0, '%=': 0, '&': 0, '&&': 0, '&=': 0, \"'\": 0, '*': 0, '*=': 0, '+': 0, '++': 0, '+=': 0, ',': 0, '-': 0, '--': 0, '-=': 0, '/': 0, '//': 0, '/=': 0, ':': 2, ';': 0, '<': 2, '<<': 5, '<<=': 0, '<=': 0, '=': 2, '==': 0, '>': 0, '>=': 0, '>>': 4, '>>=': 0, '?': 2, '[': 0, ']': 0, '^': 0, '^=': 0, '|': 0, '|=': 0, '||': 0, '~': 0}\n"
     ]
    }
   ],
   "source": [
    "code = '''\\n#include <iostream>\\n\\nint main() {\\n\\n\\tint a, b, c, minimum;\\n\\n\\tstd::cout << \\\"Enter a: \\\";\\n\\tstd::cin >> a;\\n\\n\\tstd::cout << \\\"Enter b: \\\";\\n\\tstd::cin >> b;\\n\\n\\tstd::cout << \\\"Enter c: \\\";\\n\\tstd::cin >> c;\\n\\n\\tminimum = (a < b) ? a : b;\\n\\tminimum = (minimum < c) ? minimum : c;\\n\\n\\tstd::cout << \\\"The min number is: \\\" << minimum;\\n\\n\\tchar end; std::cin >> end;\\n\\treturn 0;\\n\\n}\\n\\t\\t'''\n",
    "\n",
    "operators = ['!=', '!',  '\"', '%', '%=', '&', '&&', '&=', \"'\", '*', '*=', '+', '++', '+=', ',', '-', '--', '-=', '/', '//', '/=', ':', ';', '<', '<<', '<<=', '<=', '=', '==', '>', '>=', '>>', '>>=', '?', '[', ']', '^', '^=', '|', '|=', '||', '~']\n",
    "\n",
    "operator_counts = {}\n",
    "\n",
    "for operator in operators:\n",
    "    count = len(re.findall(r'\\s* {} \\s*'.format(re.escape(operator)), code, re.MULTILINE))\n",
    "    operator_counts[operator] = count\n",
    "\n",
    "print(operator_counts)"
   ],
   "metadata": {
    "collapsed": false,
    "pycharm": {
     "name": "#%%\n"
    }
   }
  },
  {
   "cell_type": "code",
   "execution_count": null,
   "outputs": [],
   "source": [],
   "metadata": {
    "collapsed": false,
    "pycharm": {
     "name": "#%%\n"
    }
   }
  }
 ],
 "metadata": {
  "kernelspec": {
   "display_name": "Python 3",
   "language": "python",
   "name": "python3"
  },
  "language_info": {
   "codemirror_mode": {
    "name": "ipython",
    "version": 2
   },
   "file_extension": ".py",
   "mimetype": "text/x-python",
   "name": "python",
   "nbconvert_exporter": "python",
   "pygments_lexer": "ipython2",
   "version": "2.7.6"
  }
 },
 "nbformat": 4,
 "nbformat_minor": 0
}