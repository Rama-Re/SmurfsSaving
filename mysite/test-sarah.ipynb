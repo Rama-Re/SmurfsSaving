{
 "cells": [
  {
   "cell_type": "code",
   "execution_count": 2,
   "metadata": {
    "collapsed": true,
    "pycharm": {
     "name": "#%%\n"
    }
   },
   "outputs": [],
   "source": [
    "import pandas as pd\n",
    "import numpy as np\n",
    "import re\n",
    "from math import ceil"
   ]
  },
  {
   "cell_type": "code",
   "execution_count": 3,
   "outputs": [],
   "source": [
    "concepts_level={'الأساسيات': 1,\n",
    " 'أنواع البيانات': 2,\n",
    " 'المتغيرات': 2,\n",
    " 'التعامل مع الأعداد': 3,\n",
    " 'التعامل مع النصوص': 3,\n",
    " 'العوامل': 3,\n",
    " 'المصفوفات': 3,\n",
    " 'الدوال': 3,\n",
    " 'الحلقات': 4,\n",
    " 'الشروط': 4}\n",
    "\n",
    "required_concepts = {'الأساسيات': [],\n",
    "                  'أنواع البيانات': ['الأساسيات'],\n",
    "                  'المتغيرات': ['الأساسيات'],\n",
    "                  'التعامل مع الأعداد': ['أنواع البيانات','المتغيرات','الأساسيات'],\n",
    "                  'التعامل مع النصوص': ['أنواع البيانات','المتغيرات','الأساسيات'],\n",
    "                  'العوامل': ['أنواع البيانات','المتغيرات','الأساسيات'],\n",
    "                  'المصفوفات': ['أنواع البيانات','المتغيرات','الأساسيات'],\n",
    "                  'الدوال': ['أنواع البيانات','المتغيرات','الأساسيات'],\n",
    "                  'الحلقات': ['العوامل','أنواع البيانات','المتغيرات','الأساسيات'],\n",
    "                  'الشروط': ['العوامل','أنواع البيانات','المتغيرات','الأساسيات']}\n"
   ],
   "metadata": {
    "collapsed": false,
    "pycharm": {
     "name": "#%%\n"
    }
   }
  },
  {
   "cell_type": "code",
   "execution_count": null,
   "outputs": [],
   "source": [
    "ex = pd.read_csv('ex_dataset_original.csv')\n",
    "op = pd.read_csv('operators.csv')\n",
    "keywords = pd.read_csv('keywords.csv')"
   ],
   "metadata": {
    "collapsed": false,
    "pycharm": {
     "name": "#%%\n"
    }
   }
  },
  {
   "cell_type": "code",
   "execution_count": null,
   "outputs": [],
   "source": [
    "keywords['concepts_level'] = keywords['generalConcept'].apply(lambda x: concepts_level.get(x))\n",
    "op['concepts_level'] = op['generalConcept'].apply(lambda x: concepts_level.get(x))\n",
    "generalConcept =keywords.groupby(['generalConcept'])['concepts_level'].first().reset_index()\n",
    "generalConcept.loc[generalConcept.index.max()+1] = pd.Series({'generalConcept': 'المتغيرات', 'concepts_level':2})"
   ],
   "metadata": {
    "collapsed": false,
    "pycharm": {
     "name": "#%%\n"
    }
   }
  },
  {
   "cell_type": "code",
   "execution_count": null,
   "outputs": [],
   "source": [
    "general_df = pd.DataFrame(columns=['keyword', 'general_concept', 'concept_level'])"
   ],
   "metadata": {
    "collapsed": false,
    "pycharm": {
     "name": "#%%\n"
    }
   }
  },
  {
   "cell_type": "code",
   "execution_count": null,
   "outputs": [],
   "source": [
    "generalConcept"
   ],
   "metadata": {
    "collapsed": false,
    "pycharm": {
     "name": "#%%\n"
    }
   }
  },
  {
   "cell_type": "code",
   "execution_count": null,
   "outputs": [],
   "source": [
    "def remove_comments(code):\n",
    "    code = re.sub(r'\\/\\/.*', '// \\\\n', code)\n",
    "    code = re.sub(r'\\/\\*.*?\\*\\/', '/* */ \\\\n', code, flags=re.DOTALL)\n",
    "    code = code.strip()\n",
    "    code = re.sub(r'^\\s*\\n', '', code, flags=re.MULTILINE)\n",
    "\n",
    "    return code"
   ],
   "metadata": {
    "collapsed": false,
    "pycharm": {
     "name": "#%%\n"
    }
   }
  },
  {
   "cell_type": "code",
   "execution_count": null,
   "outputs": [],
   "source": [
    "def count_functions(code):\n",
    "    pattern = r'\\w+\\s+\\w+\\(.*\\)\\s*{?'\n",
    "    matches = re.findall(pattern, code)\n",
    "    return len(matches)"
   ],
   "metadata": {
    "collapsed": false,
    "pycharm": {
     "name": "#%%\n"
    }
   }
  },
  {
   "cell_type": "code",
   "execution_count": null,
   "outputs": [],
   "source": [
    "def remove_main_function(code):\n",
    "    lines = code.split('\\n')\n",
    "    new_lines = []\n",
    "    is_main_function = False\n",
    "\n",
    "    for line in lines:\n",
    "        if 'int main(' in line:\n",
    "            is_main_function = True\n",
    "            new_lines.append('\\n')\n",
    "            continue\n",
    "        elif 'return' in line and is_main_function:\n",
    "            new_lines.append('\\n')\n",
    "            is_main_function = False\n",
    "            continue\n",
    "\n",
    "        new_lines.append(line)\n",
    "\n",
    "    new_code = '\\n'.join(new_lines)\n",
    "    return new_code"
   ],
   "metadata": {
    "collapsed": false,
    "pycharm": {
     "name": "#%%\n"
    }
   }
  },
  {
   "cell_type": "code",
   "execution_count": null,
   "outputs": [],
   "source": [
    "def detect_concept(code):\n",
    "\n",
    "    # Regular expressions for different declarations\n",
    "    declaration_patterns = {\n",
    "        'الحلقات': r'(?:for\\s*\\([^;]+;[^;]+;[^)]+\\))|(?:while\\s*\\([^)]+\\))|(?:do\\s*\\{[^}]+\\}\\s*while\\s*\\([^)]+\\))',\n",
    "        'الشروط': r'(?:if\\s*\\([^)]+\\)(?:\\s*\\{[^}]*\\})*)|else\\s*if\\s*\\([^)]+\\)(?:\\s*\\{[^}]*\\})*|else(?:\\s*\\{[^}]*\\})*|switch\\s*\\([^)]+\\)(?:\\s*\\{[^}]*\\})*',\n",
    "        #'المتغيرات': r'(?: (?:float|char|int|double|bool)\\s+)+([a-zA-Z_]\\w*)\\s*(?:\\[[^\\]]+\\])?(?:\\s*=\\s*(?:[^,;{}()]+|{.*}))?\\s*(?:,|\\[|\\)|;|\\{)',\n",
    "        'أنواع البيانات': r'\\b(?:unsigned|signed|const|static|extern|volatile|register|auto|bool|char|short|int|long|float|double|void|string)\\b',\n",
    "        'الأساسيات':r'(cin\\s*>>.*|cout\\s*<<|//.* ?|\\/\\*(.|\\n)+?\\*\\/)',\n",
    "        'التعامل مع الأعداد': r'\\b(?:acos|asin|atan|atan2|ceil|cos|cosh|exp|fabs|floor|fmod|frexp|ldexp|log|log10|modf|pow|sin|sinh|sqrt|tan|tanh)\\b',\n",
    "        'التعامل مع النصوص': r'\\b(?: string|\"?\\.(append|substr|length|empty|insert|replace|find))\\b',\n",
    "        'المصفوفات': r'\\b\\w+\\[\\d*\\w*\\]',\n",
    "        #'العوامل': r'(?:\\+=|-=|\\*=|/=|<=|>=|==|!=|&&|\\|\\||%=|<<|>>|>>=|<<=|&=|\\|=|\\^=|\\+\\+|--|\\+|-|\\*|/|%|<|>|&|\\||\\^|!|~|=)',\n",
    "        'الدوال': r'\\b(?:\\w+\\s+)+\\w+\\s*\\([^)]*\\)\\s*(?:const)?\\s*(?:{[^}]*})?'\n",
    "    }\n",
    "    results = {}\n",
    "\n",
    "# Extract declarations for each pattern\n",
    "    for key, pattern in declaration_patterns.items():\n",
    "        results[key] = len(re.findall(pattern, code))\n",
    "    return results"
   ],
   "metadata": {
    "collapsed": false,
    "pycharm": {
     "name": "#%%\n"
    }
   }
  },
  {
   "cell_type": "code",
   "execution_count": null,
   "outputs": [],
   "source": [
    "def find_general_concepts(code):\n",
    "    code_without_comments = remove_comments(code)\n",
    "    code_without_strings = re.sub(r'\\\".*?\\\"', '', code_without_comments)\n",
    "    new_code = remove_main_function(code_without_strings)\n",
    "\n",
    "    general_concepts_keywords_count = pd.DataFrame(detect_concept(new_code).items(), columns=['generalConcept', 'count'])\n",
    "\n",
    "    general_concepts_keywords_count = general_concepts_keywords_count.drop(general_concepts_keywords_count[general_concepts_keywords_count['count'] == 0].index)\n",
    "\n",
    "    print(general_concepts_keywords_count)\n",
    "    # function_count = count_functions(new_code)\n",
    "    # if function_count:\n",
    "    #     general_concepts_keywords_count = pd.concat([general_concepts_keywords_count, pd.DataFrame({'generalConcept':'الدوال', 'count':function_count, 'concepts_level':3}, index=[0])], ignore_index= True)\n",
    "\n",
    "    general_concepts_keywords_count['concepts_level'] = general_concepts_keywords_count['generalConcept'].apply(lambda x: concepts_level.get(x))\n",
    "\n",
    "    total_keywords_count = general_concepts_keywords_count['count'].sum()\n",
    "\n",
    "    general_concepts = general_concepts_keywords_count['generalConcept'].unique().tolist()\n",
    "    general_concepts_keywords_count['difficulty'] = (general_concepts_keywords_count['concepts_level'] / 4)  * (general_concepts_keywords_count['count'] / total_keywords_count) *100\n",
    "    return general_concepts, (general_concepts_keywords_count.difficulty.sum()), total_keywords_count\n",
    "# divide on len(general_concepts)"
   ],
   "metadata": {
    "collapsed": false,
    "pycharm": {
     "name": "#%%\n"
    }
   }
  },
  {
   "cell_type": "code",
   "execution_count": null,
   "outputs": [],
   "source": [
    "ex['generalConcepts'], ex['difficulty_2'], ex['total_keywords_count'] = zip(*ex['code'].apply(find_general_concepts))"
   ],
   "metadata": {
    "collapsed": false,
    "pycharm": {
     "name": "#%%\n"
    }
   }
  },
  {
   "cell_type": "code",
   "execution_count": null,
   "outputs": [],
   "source": [
    "ex"
   ],
   "metadata": {
    "collapsed": false,
    "pycharm": {
     "name": "#%%\n"
    }
   }
  },
  {
   "cell_type": "code",
   "execution_count": null,
   "outputs": [],
   "source": [
    "ex.difficulty_2.min(), ex.difficulty_2.max()"
   ],
   "metadata": {
    "collapsed": false,
    "pycharm": {
     "name": "#%%\n"
    }
   }
  },
  {
   "cell_type": "code",
   "execution_count": null,
   "outputs": [],
   "source": [
    "min = ex.difficulty_2.min()\n",
    "max = ex.difficulty_2.max()"
   ],
   "metadata": {
    "collapsed": false,
    "pycharm": {
     "name": "#%%\n"
    }
   }
  },
  {
   "cell_type": "code",
   "execution_count": null,
   "outputs": [],
   "source": [
    "ex['difficulty_2'] = ((ex['difficulty_2'] - min) / (max- min))*100"
   ],
   "metadata": {
    "collapsed": false,
    "pycharm": {
     "name": "#%%\n"
    }
   }
  },
  {
   "cell_type": "code",
   "execution_count": null,
   "outputs": [],
   "source": [
    "ex['difficulty_2']"
   ],
   "metadata": {
    "collapsed": false,
    "pycharm": {
     "name": "#%%\n"
    }
   }
  },
  {
   "cell_type": "code",
   "execution_count": null,
   "outputs": [],
   "source": [
    "# solve_XP = 5"
   ],
   "metadata": {
    "collapsed": false,
    "pycharm": {
     "name": "#%%\n"
    }
   }
  },
  {
   "cell_type": "code",
   "execution_count": null,
   "outputs": [],
   "source": [
    "# ex['XP']=  (ex['difficulty_2'] * solve_XP).astype(int)"
   ],
   "metadata": {
    "collapsed": false,
    "pycharm": {
     "name": "#%%\n"
    }
   }
  },
  {
   "cell_type": "code",
   "execution_count": null,
   "outputs": [],
   "source": [
    "# ex[['generalConcepts','XP' , 'difficulty_2', 'total_keywords_count']]"
   ],
   "metadata": {
    "collapsed": false,
    "pycharm": {
     "name": "#%%\n"
    }
   }
  },
  {
   "cell_type": "code",
   "execution_count": null,
   "outputs": [],
   "source": [
    "def find_time(code):\n",
    "    non_comment_lines = [line for line in code.split('\\n') if not (line.strip().startswith('//') or len(line.strip())<2 ) ]\n",
    "    return len(non_comment_lines)\n",
    "ex['required_time'] = ex['code'].apply(find_time)"
   ],
   "metadata": {
    "collapsed": false,
    "pycharm": {
     "name": "#%%\n"
    }
   }
  },
  {
   "cell_type": "code",
   "execution_count": null,
   "outputs": [],
   "source": [
    "ex.required_time.min(), ex.required_time.max()"
   ],
   "metadata": {
    "collapsed": false,
    "pycharm": {
     "name": "#%%\n"
    }
   }
  },
  {
   "cell_type": "code",
   "execution_count": null,
   "outputs": [],
   "source": [
    "ex['mapped_required_time'] = (ex['required_time'] - ex['required_time'].min())*100/(ex['required_time'].max() - ex['required_time'].min())\n",
    "ex['mapped_required_time'] = ex['difficulty_2']/2 + ex['mapped_required_time']/2"
   ],
   "metadata": {
    "collapsed": false,
    "pycharm": {
     "name": "#%%\n"
    }
   }
  },
  {
   "cell_type": "markdown",
   "source": [
    "ex"
   ],
   "metadata": {
    "collapsed": false,
    "pycharm": {
     "name": "#%% md\n"
    }
   }
  },
  {
   "cell_type": "code",
   "execution_count": null,
   "outputs": [],
   "source": [
    "ex = ex.sort_values('difficulty_2', ignore_index=True).reset_index()"
   ],
   "metadata": {
    "collapsed": false,
    "pycharm": {
     "name": "#%%\n"
    }
   }
  },
  {
   "cell_type": "code",
   "execution_count": null,
   "outputs": [],
   "source": [
    "ex"
   ],
   "metadata": {
    "collapsed": false,
    "pycharm": {
     "name": "#%%\n"
    }
   }
  },
  {
   "cell_type": "code",
   "execution_count": null,
   "outputs": [],
   "source": [
    "ex.mapped_required_time.min() *30 /100"
   ],
   "metadata": {
    "collapsed": false,
    "pycharm": {
     "name": "#%%\n"
    }
   }
  },
  {
   "cell_type": "code",
   "execution_count": null,
   "outputs": [],
   "source": [
    "ex['mean'] = (ex.difficulty_2.cumsum())"
   ],
   "metadata": {
    "collapsed": false,
    "pycharm": {
     "name": "#%%\n"
    }
   }
  },
  {
   "cell_type": "code",
   "execution_count": null,
   "outputs": [],
   "source": [
    "ex['mean'] = ex['mean'] - ex['difficulty_2']\n",
    "ex.loc[ex['index'] > 0, 'mean'] = ex['mean']/ex['index']\n",
    "ex['mean'] = ex['mean'] * 100/ ex['difficulty_2'].mean()\n",
    "ex"
   ],
   "metadata": {
    "collapsed": false,
    "pycharm": {
     "name": "#%%\n"
    }
   }
  },
  {
   "cell_type": "code",
   "execution_count": null,
   "outputs": [],
   "source": [
    "ex['code'][0]"
   ],
   "metadata": {
    "collapsed": false,
    "pycharm": {
     "name": "#%%\n"
    }
   }
  },
  {
   "cell_type": "code",
   "execution_count": null,
   "outputs": [],
   "source": [
    "ex"
   ],
   "metadata": {
    "collapsed": false,
    "pycharm": {
     "name": "#%%\n"
    }
   }
  },
  {
   "cell_type": "code",
   "execution_count": null,
   "outputs": [],
   "source": [
    "##تعديل بناء على المتطلبات\n",
    "def find_required_concepts_numbers_percentage(generalConcepts):\n",
    "\n",
    "    concept_difficulty = {x : concepts_level[x] for x in generalConcepts}\n",
    "    max_value = np.max(list(concept_dificulty.values()))\n",
    "    concepts_with_max_value = [concept for concept, value in concept_dificulty.items() if value == max_value]\n",
    "    required_concepts_numbers_percentage = []\n",
    "    for concept in concepts_with_max_value:\n",
    "        required_concepts_numbers_percentage.append(np.sum([1 if concepts_level[x] < max_value else 0 for x in required_concepts[concept]])*100/len(list(concepts_level.keys())))\n",
    "    # max_concept_difficulty =\n",
    "    return np.max(required_concepts_numbers_percentage)\n",
    "\n",
    "#find_required_concepts_numbers_percentage(['الأساسيات','التعامل مع الأعداد','الحلقات'])\n",
    "ex['emptying'] = (ex['generalConcepts'].apply(lambda x: find_required_concepts_numbers_percentage(x)) + ex['mean'])/2"
   ],
   "metadata": {
    "collapsed": false,
    "pycharm": {
     "name": "#%%\n"
    }
   }
  },
  {
   "cell_type": "code",
   "execution_count": null,
   "outputs": [],
   "source": [],
   "metadata": {
    "collapsed": false,
    "pycharm": {
     "name": "#%%\n"
    }
   }
  },
  {
   "cell_type": "code",
   "execution_count": null,
   "outputs": [],
   "source": [
    "ex"
   ],
   "metadata": {
    "collapsed": false,
    "pycharm": {
     "name": "#%%\n"
    }
   }
  },
  {
   "cell_type": "code",
   "execution_count": null,
   "outputs": [],
   "source": [
    "ex['previous_problem_count'] = \"\"\n",
    "ex['total_problem_count'] = \"\"\n",
    "ex['concept_problem_practice'] = \"\"\n",
    "for index, row in ex.iterrows():\n",
    "    current_general_concepts = row['generalConcepts']\n",
    "    previous_counts = []\n",
    "    total = []\n",
    "    concept_problem_practice =[]\n",
    "    for concept in current_general_concepts:\n",
    "        previous_count = ex.loc[:index-1, 'generalConcepts'].apply(lambda x: concept in x).sum() +1\n",
    "        total_count = ex['generalConcepts'].apply(lambda x: concept in x).sum()\n",
    "        previous_counts.append(previous_count)\n",
    "        total.append(total_count)\n",
    "        concept_problem_practice.append((previous_count/total_count)*100)\n",
    "    ex.at[index, 'previous_problem_count'] = previous_counts\n",
    "    ex.at[index, 'total_problem_count'] = total\n",
    "    ex.at[index, 'concept_problem_practice'] = concept_problem_practice"
   ],
   "metadata": {
    "collapsed": false,
    "pycharm": {
     "name": "#%%\n"
    }
   }
  },
  {
   "cell_type": "code",
   "execution_count": null,
   "outputs": [],
   "source": [
    "ex"
   ],
   "metadata": {
    "collapsed": false,
    "pycharm": {
     "name": "#%%\n"
    }
   }
  },
  {
   "cell_type": "code",
   "execution_count": null,
   "outputs": [],
   "source": [
    "ex['concept_emptying1'] = ex.apply(lambda x: [element * x['emptying'] /100 for element in x['concept_problem_practice']], axis=1)"
   ],
   "metadata": {
    "collapsed": false,
    "pycharm": {
     "name": "#%%\n"
    }
   }
  },
  {
   "cell_type": "code",
   "execution_count": null,
   "outputs": [],
   "source": [
    "ex[['emptying', 'concept_problem_practice', 'concept_emptying1']]"
   ],
   "metadata": {
    "collapsed": false,
    "pycharm": {
     "name": "#%%\n"
    }
   }
  },
  {
   "cell_type": "code",
   "execution_count": null,
   "outputs": [],
   "source": [
    "ex['concept_emptying2'] = ex.apply(lambda x: [((1/3)*x['emptying']) + ((2/3)*z) for z in x['concept_problem_practice']], axis=1)"
   ],
   "metadata": {
    "collapsed": false,
    "pycharm": {
     "name": "#%%\n"
    }
   }
  },
  {
   "cell_type": "code",
   "execution_count": null,
   "outputs": [],
   "source": [
    "ex[['difficulty_2','emptying', 'concept_problem_practice', 'concept_emptying1', 'concept_emptying2']]"
   ],
   "metadata": {
    "collapsed": false,
    "pycharm": {
     "name": "#%%\n"
    }
   }
  },
  {
   "cell_type": "code",
   "execution_count": null,
   "outputs": [],
   "source": [
    "ex = ex.drop('difficulty', axis=1)"
   ],
   "metadata": {
    "collapsed": false,
    "pycharm": {
     "name": "#%%\n"
    }
   }
  },
  {
   "cell_type": "code",
   "execution_count": null,
   "outputs": [],
   "source": [
    "ex = ex.drop(['concept_emptying1','concept_problem_practice','previous_problem_count','total_problem_count',\n",
    "             'mean','total_keywords_count','required_time'], axis=1)"
   ],
   "metadata": {
    "collapsed": false,
    "pycharm": {
     "name": "#%%\n"
    }
   }
  },
  {
   "cell_type": "code",
   "execution_count": null,
   "outputs": [],
   "source": [
    "ex = ex.rename({'difficulty_2': 'difficulty'}, axis=1)"
   ],
   "metadata": {
    "collapsed": false,
    "pycharm": {
     "name": "#%%\n"
    }
   }
  },
  {
   "cell_type": "code",
   "execution_count": null,
   "outputs": [],
   "source": [
    "ex = ex.drop('level_0', axis=1)"
   ],
   "metadata": {
    "collapsed": false,
    "pycharm": {
     "name": "#%%\n"
    }
   }
  },
  {
   "cell_type": "code",
   "execution_count": 53,
   "outputs": [
    {
     "data": {
      "text/plain": "     index                      Consept  \\\n0        0          إجراء عمليات حسابية   \n1        1          إجراء عمليات حسابية   \n2        2          إجراء عمليات حسابية   \n3        3          إجراء عمليات حسابية   \n4        4          إجراء عمليات حسابية   \n..     ...                          ...   \n144    144         التعامل مع المصفوفات   \n145    145         التعامل مع المصفوفات   \n146    146         التعامل مع المصفوفات   \n147    147         التعامل مع المصفوفات   \n148    148  التعامل مع الأرقام و النصوص   \n\n                                              required img_src  \\\n0    أكتب برنامج يطلب من المستخدم إدخال خمسة أعداد ...     NaN   \n1    أكتب برنامج يطلب من المستخدم إدخال رقمين, ثم ي...     NaN   \n2    أكتب برنامج يطلب من المستخدم إدخال ثلاث أرقام ...     NaN   \n3    أكتب برنامج يطلب من المستخدم إدخال رقمين, ثم ي...     NaN   \n4    أكتب برنامج يطلب من المستخدم إدخال رقم الشهر, ...     NaN   \n..                                                 ...     ...   \n144  قم بتعريف دالة إسمها CountOccurrence, مهمتها ا...     NaN   \n145  قم بتعريف دالة إسمها PrintSecondBiggest, عند ا...     NaN   \n146  قم بتعريف دالة إسمها PrintSecondLowest, عند اس...     NaN   \n147  أكتب برنامج يقوم بترتيب جميع القيم الموجودة في...     NaN   \n148  قم بتعريف دالة إسمها PrintWordsOccurence, نمرر...     NaN   \n\n                                                  code  \\\n0    \\r\\n#include <iostream>\\r\\n\\r\\nint main() {\\r\\...   \n1    \\r\\n#include <iostream>\\r\\n\\r\\nint main() {\\r\\...   \n2    \\r\\n#include <iostream>\\r\\n\\r\\nint main() {\\r\\...   \n3    \\r\\n#include <iostream>\\r\\n\\r\\nint main() {\\r\\...   \n4    \\r\\n#include <iostream>\\r\\n\\r\\nint main() {\\r\\...   \n..                                                 ...   \n144  \\r\\n#include <iostream>\\r\\n\\r\\n// هنا قمنا بتع...   \n145  \\r\\n#include <iostream>\\r\\n\\r\\n// printSecondB...   \n146  \\r\\n#include <iostream>\\r\\n\\r\\n// printSecondL...   \n147  \\r\\n#include <iostream>\\r\\n\\r\\nint main() {\\r\\...   \n148  \\r\\n#include <iostream>\\r\\n#include <string>\\r...   \n\n                                                output  \\\n0    \\n\\r\\n\\t\\t\\t\\tEnter n1: 7 \\r\\n\\t\\t\\t\\tEnter n2...   \n1    \\r\\nEnter first number: 14\\r\\nEnter second num...   \n2    \\r\\n#include <iostream>\\r\\n\\r\\nint main() {\\r\\...   \n3    \\r\\n#include <iostream>\\r\\n\\r\\nint main() {\\r\\...   \n4       \\r\\nMonth number: 5\\r\\nMonth name: May\\r\\n\\t\\t   \n..                                                 ...   \n144  \\r\\n[0] is repeated 2 time(s)\\r\\n[4] is repeat...   \n145            \\r\\nSecond biggest number is: 8\\r\\n\\t\\t   \n146             \\r\\nSecond lowest number is: 2\\r\\n\\t\\t   \n147  \\r\\nMatrix before sorting \\r\\n5 2 4 \\r\\n1 7 3 ...   \n148  \\r\\n[3] I\\r\\n[2] am\\r\\n[1] happy.\\r\\n[1] a\\r\\n...   \n\n                                           Explanation  \\\n0    سنحصل على النتيجة التالية إذا قام المستخدم بإد...   \n1    سنحصل على النتيجة التالية إذا قام المستخدم بإد...   \n2    الطريقة الثالثة لحل التمرين و الحصول على نفس ا...   \n3    الطريقة الثالثة لحل التمرين و الحصول على نفس ا...   \n4    سنحصل على النتيجة التالية إذا قام المستخدم بإد...   \n..                                                 ...   \n144             سنحصل على النتيجة التالية عند التشغيل.   \n145  سنحصل على النتيجة التالية عند التشغيل في حال ك...   \n146  سنحصل على النتيجة التالية عند التشغيل في حال ك...   \n147             سنحصل على النتيجة التالية عند التشغيل.   \n148             سنحصل على النتيجة التالية عند التشغيل.   \n\n                                                  hint  \\\n0    مثال: إذا قام المستخدم بإدخال الأعداد 7 , 4 , ...   \n1                                                  NaN   \n2                                                  NaN   \n3                                                  NaN   \n4    مثال: إذا قام المستخدم بإدخال الرقم 5 فستكون ا...   \n..                                                 ...   \n144  مساعدة: يجب تمرير حجم المصفوفة أيضاً للدالة لأ...   \n145                                                NaN   \n146                                                NaN   \n147                                                NaN   \n148  مثال: إذا قمنا باستخدام الدالة PrintWordsOccur...   \n\n                                       generalConcepts  difficulty  \\\n0                          [أنواع البيانات, الأساسيات]    0.000000   \n1                          [أنواع البيانات, الأساسيات]    2.472315   \n2                          [أنواع البيانات, الأساسيات]    3.626062   \n3                          [أنواع البيانات, الأساسيات]    3.626062   \n4                  [الشروط, أنواع البيانات, الأساسيات]    6.798867   \n..                                                 ...         ...   \n144  [الحلقات, الشروط, أنواع البيانات, الأساسيات, ا...   86.118980   \n145  [الحلقات, الشروط, أنواع البيانات, الأساسيات, ا...   90.406554   \n146  [الحلقات, الشروط, أنواع البيانات, الأساسيات, ا...   91.128672   \n147  [الحلقات, الشروط, أنواع البيانات, الأساسيات, ا...   91.406988   \n148  [الحلقات, الشروط, أنواع البيانات, الأساسيات, ا...  100.000000   \n\n     mapped_required_time   emptying  \\\n0               11.250000   5.000000   \n1                7.486158   5.000000   \n2                9.313031   5.928486   \n3                9.313031   6.526844   \n4               53.399433  21.826023   \n..                    ...        ...   \n144             60.559490  69.341639   \n145             68.953277  69.447452   \n146             69.314336  69.573874   \n147             79.453494  69.702265   \n148             76.250000  69.830333   \n\n                                     concept_emptying2  \n0             [2.1140939597315436, 2.1140939597315436]  \n1                 [2.56152125279642, 2.56152125279642]  \n2             [3.3184440150693164, 3.3184440150693164]  \n3             [3.9653239438460273, 3.9653239438460273]  \n4    [7.935407096043097, 9.512477554766821, 9.51247...  \n..                                                 ...  \n144  [87.83407429621295, 87.14028228927504, 87.9908...  \n145  [88.3559633680158, 87.83561936281235, 88.47353...  \n146  [88.88472184490226, 88.53782584143329, 88.9631...  \n147  [89.41413688567938, 89.2406888839449, 89.45332...  \n148  [89.9434444106229, 89.9434444106229, 89.943444...  \n\n[149 rows x 13 columns]",
      "text/html": "<div>\n<style scoped>\n    .dataframe tbody tr th:only-of-type {\n        vertical-align: middle;\n    }\n\n    .dataframe tbody tr th {\n        vertical-align: top;\n    }\n\n    .dataframe thead th {\n        text-align: right;\n    }\n</style>\n<table border=\"1\" class=\"dataframe\">\n  <thead>\n    <tr style=\"text-align: right;\">\n      <th></th>\n      <th>index</th>\n      <th>Consept</th>\n      <th>required</th>\n      <th>img_src</th>\n      <th>code</th>\n      <th>output</th>\n      <th>Explanation</th>\n      <th>hint</th>\n      <th>generalConcepts</th>\n      <th>difficulty</th>\n      <th>mapped_required_time</th>\n      <th>emptying</th>\n      <th>concept_emptying2</th>\n    </tr>\n  </thead>\n  <tbody>\n    <tr>\n      <th>0</th>\n      <td>0</td>\n      <td>إجراء عمليات حسابية</td>\n      <td>أكتب برنامج يطلب من المستخدم إدخال خمسة أعداد ...</td>\n      <td>NaN</td>\n      <td>\\r\\n#include &lt;iostream&gt;\\r\\n\\r\\nint main() {\\r\\...</td>\n      <td>\\n\\r\\n\\t\\t\\t\\tEnter n1: 7 \\r\\n\\t\\t\\t\\tEnter n2...</td>\n      <td>سنحصل على النتيجة التالية إذا قام المستخدم بإد...</td>\n      <td>مثال: إذا قام المستخدم بإدخال الأعداد 7 , 4 , ...</td>\n      <td>[أنواع البيانات, الأساسيات]</td>\n      <td>0.000000</td>\n      <td>11.250000</td>\n      <td>5.000000</td>\n      <td>[2.1140939597315436, 2.1140939597315436]</td>\n    </tr>\n    <tr>\n      <th>1</th>\n      <td>1</td>\n      <td>إجراء عمليات حسابية</td>\n      <td>أكتب برنامج يطلب من المستخدم إدخال رقمين, ثم ي...</td>\n      <td>NaN</td>\n      <td>\\r\\n#include &lt;iostream&gt;\\r\\n\\r\\nint main() {\\r\\...</td>\n      <td>\\r\\nEnter first number: 14\\r\\nEnter second num...</td>\n      <td>سنحصل على النتيجة التالية إذا قام المستخدم بإد...</td>\n      <td>NaN</td>\n      <td>[أنواع البيانات, الأساسيات]</td>\n      <td>2.472315</td>\n      <td>7.486158</td>\n      <td>5.000000</td>\n      <td>[2.56152125279642, 2.56152125279642]</td>\n    </tr>\n    <tr>\n      <th>2</th>\n      <td>2</td>\n      <td>إجراء عمليات حسابية</td>\n      <td>أكتب برنامج يطلب من المستخدم إدخال ثلاث أرقام ...</td>\n      <td>NaN</td>\n      <td>\\r\\n#include &lt;iostream&gt;\\r\\n\\r\\nint main() {\\r\\...</td>\n      <td>\\r\\n#include &lt;iostream&gt;\\r\\n\\r\\nint main() {\\r\\...</td>\n      <td>الطريقة الثالثة لحل التمرين و الحصول على نفس ا...</td>\n      <td>NaN</td>\n      <td>[أنواع البيانات, الأساسيات]</td>\n      <td>3.626062</td>\n      <td>9.313031</td>\n      <td>5.928486</td>\n      <td>[3.3184440150693164, 3.3184440150693164]</td>\n    </tr>\n    <tr>\n      <th>3</th>\n      <td>3</td>\n      <td>إجراء عمليات حسابية</td>\n      <td>أكتب برنامج يطلب من المستخدم إدخال رقمين, ثم ي...</td>\n      <td>NaN</td>\n      <td>\\r\\n#include &lt;iostream&gt;\\r\\n\\r\\nint main() {\\r\\...</td>\n      <td>\\r\\n#include &lt;iostream&gt;\\r\\n\\r\\nint main() {\\r\\...</td>\n      <td>الطريقة الثالثة لحل التمرين و الحصول على نفس ا...</td>\n      <td>NaN</td>\n      <td>[أنواع البيانات, الأساسيات]</td>\n      <td>3.626062</td>\n      <td>9.313031</td>\n      <td>6.526844</td>\n      <td>[3.9653239438460273, 3.9653239438460273]</td>\n    </tr>\n    <tr>\n      <th>4</th>\n      <td>4</td>\n      <td>إجراء عمليات حسابية</td>\n      <td>أكتب برنامج يطلب من المستخدم إدخال رقم الشهر, ...</td>\n      <td>NaN</td>\n      <td>\\r\\n#include &lt;iostream&gt;\\r\\n\\r\\nint main() {\\r\\...</td>\n      <td>\\r\\nMonth number: 5\\r\\nMonth name: May\\r\\n\\t\\t</td>\n      <td>سنحصل على النتيجة التالية إذا قام المستخدم بإد...</td>\n      <td>مثال: إذا قام المستخدم بإدخال الرقم 5 فستكون ا...</td>\n      <td>[الشروط, أنواع البيانات, الأساسيات]</td>\n      <td>6.798867</td>\n      <td>53.399433</td>\n      <td>21.826023</td>\n      <td>[7.935407096043097, 9.512477554766821, 9.51247...</td>\n    </tr>\n    <tr>\n      <th>...</th>\n      <td>...</td>\n      <td>...</td>\n      <td>...</td>\n      <td>...</td>\n      <td>...</td>\n      <td>...</td>\n      <td>...</td>\n      <td>...</td>\n      <td>...</td>\n      <td>...</td>\n      <td>...</td>\n      <td>...</td>\n      <td>...</td>\n    </tr>\n    <tr>\n      <th>144</th>\n      <td>144</td>\n      <td>التعامل مع المصفوفات</td>\n      <td>قم بتعريف دالة إسمها CountOccurrence, مهمتها ا...</td>\n      <td>NaN</td>\n      <td>\\r\\n#include &lt;iostream&gt;\\r\\n\\r\\n// هنا قمنا بتع...</td>\n      <td>\\r\\n[0] is repeated 2 time(s)\\r\\n[4] is repeat...</td>\n      <td>سنحصل على النتيجة التالية عند التشغيل.</td>\n      <td>مساعدة: يجب تمرير حجم المصفوفة أيضاً للدالة لأ...</td>\n      <td>[الحلقات, الشروط, أنواع البيانات, الأساسيات, ا...</td>\n      <td>86.118980</td>\n      <td>60.559490</td>\n      <td>69.341639</td>\n      <td>[87.83407429621295, 87.14028228927504, 87.9908...</td>\n    </tr>\n    <tr>\n      <th>145</th>\n      <td>145</td>\n      <td>التعامل مع المصفوفات</td>\n      <td>قم بتعريف دالة إسمها PrintSecondBiggest, عند ا...</td>\n      <td>NaN</td>\n      <td>\\r\\n#include &lt;iostream&gt;\\r\\n\\r\\n// printSecondB...</td>\n      <td>\\r\\nSecond biggest number is: 8\\r\\n\\t\\t</td>\n      <td>سنحصل على النتيجة التالية عند التشغيل في حال ك...</td>\n      <td>NaN</td>\n      <td>[الحلقات, الشروط, أنواع البيانات, الأساسيات, ا...</td>\n      <td>90.406554</td>\n      <td>68.953277</td>\n      <td>69.447452</td>\n      <td>[88.3559633680158, 87.83561936281235, 88.47353...</td>\n    </tr>\n    <tr>\n      <th>146</th>\n      <td>146</td>\n      <td>التعامل مع المصفوفات</td>\n      <td>قم بتعريف دالة إسمها PrintSecondLowest, عند اس...</td>\n      <td>NaN</td>\n      <td>\\r\\n#include &lt;iostream&gt;\\r\\n\\r\\n// printSecondL...</td>\n      <td>\\r\\nSecond lowest number is: 2\\r\\n\\t\\t</td>\n      <td>سنحصل على النتيجة التالية عند التشغيل في حال ك...</td>\n      <td>NaN</td>\n      <td>[الحلقات, الشروط, أنواع البيانات, الأساسيات, ا...</td>\n      <td>91.128672</td>\n      <td>69.314336</td>\n      <td>69.573874</td>\n      <td>[88.88472184490226, 88.53782584143329, 88.9631...</td>\n    </tr>\n    <tr>\n      <th>147</th>\n      <td>147</td>\n      <td>التعامل مع المصفوفات</td>\n      <td>أكتب برنامج يقوم بترتيب جميع القيم الموجودة في...</td>\n      <td>NaN</td>\n      <td>\\r\\n#include &lt;iostream&gt;\\r\\n\\r\\nint main() {\\r\\...</td>\n      <td>\\r\\nMatrix before sorting \\r\\n5 2 4 \\r\\n1 7 3 ...</td>\n      <td>سنحصل على النتيجة التالية عند التشغيل.</td>\n      <td>NaN</td>\n      <td>[الحلقات, الشروط, أنواع البيانات, الأساسيات, ا...</td>\n      <td>91.406988</td>\n      <td>79.453494</td>\n      <td>69.702265</td>\n      <td>[89.41413688567938, 89.2406888839449, 89.45332...</td>\n    </tr>\n    <tr>\n      <th>148</th>\n      <td>148</td>\n      <td>التعامل مع الأرقام و النصوص</td>\n      <td>قم بتعريف دالة إسمها PrintWordsOccurence, نمرر...</td>\n      <td>NaN</td>\n      <td>\\r\\n#include &lt;iostream&gt;\\r\\n#include &lt;string&gt;\\r...</td>\n      <td>\\r\\n[3] I\\r\\n[2] am\\r\\n[1] happy.\\r\\n[1] a\\r\\n...</td>\n      <td>سنحصل على النتيجة التالية عند التشغيل.</td>\n      <td>مثال: إذا قمنا باستخدام الدالة PrintWordsOccur...</td>\n      <td>[الحلقات, الشروط, أنواع البيانات, الأساسيات, ا...</td>\n      <td>100.000000</td>\n      <td>76.250000</td>\n      <td>69.830333</td>\n      <td>[89.9434444106229, 89.9434444106229, 89.943444...</td>\n    </tr>\n  </tbody>\n</table>\n<p>149 rows × 13 columns</p>\n</div>"
     },
     "execution_count": 53,
     "metadata": {},
     "output_type": "execute_result"
    }
   ],
   "source": [
    "ex"
   ],
   "metadata": {
    "collapsed": false,
    "pycharm": {
     "name": "#%%\n"
    }
   }
  },
  {
   "cell_type": "code",
   "execution_count": 54,
   "outputs": [],
   "source": [
    "ex.to_csv('ex_dataset.csv', index= False,  encoding='utf-8-sig')"
   ],
   "metadata": {
    "collapsed": false,
    "pycharm": {
     "name": "#%%\n"
    }
   }
  },
  {
   "cell_type": "markdown",
   "source": [
    "# Tests"
   ],
   "metadata": {
    "collapsed": false,
    "pycharm": {
     "name": "#%% md\n"
    }
   }
  },
  {
   "cell_type": "code",
   "execution_count": 356,
   "outputs": [
    {
     "data": {
      "text/plain": "(5, 5)"
     },
     "execution_count": 356,
     "metadata": {},
     "output_type": "execute_result"
    }
   ],
   "source": [
    "x = 4.2222222\n",
    "y = 4.55\n",
    "ceil(x)"
   ],
   "metadata": {
    "collapsed": false,
    "pycharm": {
     "name": "#%%\n"
    }
   }
  },
  {
   "cell_type": "code",
   "execution_count": 116,
   "outputs": [
    {
     "name": "stdout",
     "output_type": "stream",
     "text": [
      "<<: 3\n",
      ";: 5\n",
      "\": 2\n",
      "=: 3\n",
      "': 0\n",
      "+: 1\n",
      "-: 0\n",
      "/: 0\n",
      "*: 0\n",
      "++: 0\n",
      "--: 0\n",
      "%: 0\n",
      "==: 0\n",
      "!=: 0\n",
      "<=: 0\n",
      ">=: 0\n",
      "<: 7\n",
      ">: 1\n",
      "||: 0\n",
      "&&: 0\n",
      "!: 0\n",
      "^: 0\n",
      ">>: 0\n",
      "~: 0\n",
      "|: 0\n",
      "&: 0\n",
      "+=: 0\n",
      "-=: 0\n",
      "*=: 0\n",
      "/=: 0\n",
      "%=: 0\n",
      "<<=: 0\n",
      ">>=: 0\n",
      "&=: 0\n",
      "^=: 0\n",
      "|=: 0\n",
      "?: 0\n",
      ":: 5\n",
      "[: 0\n",
      "]: 0\n",
      "//: 0\n",
      ",: 0\n"
     ]
    }
   ],
   "source": [
    "operators = ['<<', ';', '\"', '=', \"'\", '\"', '+', '-', '/', '*', '++', '--', '%', '==', '!=', '<=', '>=', '<', '>', '||', '&&', '!', '^', '<<', '>>', '~', '|', '&', '+=', '-=', '*=', '/=', '%=', '<<=', '>>=', '&=', '^=', '|=', '?', ':', '[', ']', '//', ',']\n",
    "\n",
    "def count_operators(code):\n",
    "    operator_counts = {}\n",
    "\n",
    "    for operator in operators:\n",
    "        count = code.count(operator)\n",
    "        operator_counts[operator] = count\n",
    "\n",
    "    return operator_counts\n",
    "\n",
    "# Example C++ code\n",
    "cpp_code = '''\n",
    "#include <iostream>\n",
    "\n",
    "int main() {\n",
    "    int a = 5;\n",
    "    int b = 10;\n",
    "    int result = a + b;\n",
    "\n",
    "    std::cout << \"The result is: \" << result << std::endl;\n",
    "\n",
    "    return 0;\n",
    "}\n",
    "'''\n",
    "\n",
    "# Count operators in the C++ code\n",
    "operator_counts = count_operators(cpp_code)\n",
    "\n",
    "# Print the operator counts\n",
    "for operator, count in operator_counts.items():\n",
    "    print(f\"{operator}: {count}\")\n"
   ],
   "metadata": {
    "collapsed": false,
    "pycharm": {
     "name": "#%%\n"
    }
   }
  },
  {
   "cell_type": "code",
   "execution_count": 117,
   "outputs": [
    {
     "name": "stdout",
     "output_type": "stream",
     "text": [
      "int a _ 10_ int b _ 20_ int c _ a _ b_\n"
     ]
    }
   ],
   "source": [
    "operators = ['<<', ';', '\"', '=', \"'\", '\"', '+', '-', '/', '*', '++', '--', '%', '==', '!=', '<=', '>=', '<', '>', '||', '&&', '!', '^', '<<', '>>', '~', '|', '&', '+=', '-=', '*=', '/=', '%=', '<<=', '>>=', '&=', '^=', '|=', '?', ':', '[', ']', '//', ',']\n",
    "\n",
    "# Create a sample code string\n",
    "code = 'int a = 10; int b = 20; int c = a + b;'\n",
    "\n",
    "# Replace operators with underscores\n",
    "for operator in operators:\n",
    "    code = code.replace(operator, '_')\n",
    "\n",
    "print(code)\n"
   ],
   "metadata": {
    "collapsed": false,
    "pycharm": {
     "name": "#%%\n"
    }
   }
  },
  {
   "cell_type": "code",
   "execution_count": 120,
   "outputs": [
    {
     "name": "stdout",
     "output_type": "stream",
     "text": [
      "\n",
      "#include <iostream>\n",
      "\n",
      "\n",
      "\n",
      "    std::cout << \"Hello, world!\" << std::endl;\n",
      "\n",
      "\n",
      "}\n",
      "\n",
      "int add(int a, int b) {\n",
      "    return a + b;\n",
      "}\n",
      "\n"
     ]
    }
   ],
   "source": [
    "def remove_main_function(code):\n",
    "    lines = code.split('\\n')\n",
    "    new_lines = []\n",
    "    is_main_function = False\n",
    "\n",
    "    for line in lines:\n",
    "        if 'int main(' in line:\n",
    "            is_main_function = True\n",
    "            new_lines.append('\\n')\n",
    "            continue\n",
    "        elif 'return' in line and is_main_function:\n",
    "            new_lines.append('\\n')\n",
    "            is_main_function = False\n",
    "            continue\n",
    "\n",
    "        new_lines.append(line)\n",
    "\n",
    "    new_code = '\\n'.join(new_lines)\n",
    "    return new_code\n",
    "\n",
    "# Sample code string\n",
    "code = '''\n",
    "#include <iostream>\n",
    "\n",
    "int main() {\n",
    "    std::cout << \"Hello, world!\" << std::endl;\n",
    "    return 0;\n",
    "}\n",
    "\n",
    "int add(int a, int b) {\n",
    "    return a + b;\n",
    "}\n",
    "'''\n",
    "\n",
    "# Remove main function and its return statement\n",
    "modified_code = remove_main_function(code)\n",
    "print(modified_code)\n"
   ],
   "metadata": {
    "collapsed": false,
    "pycharm": {
     "name": "#%%\n"
    }
   }
  },
  {
   "cell_type": "code",
   "execution_count": 258,
   "outputs": [
    {
     "name": "stdout",
     "output_type": "stream",
     "text": [
      "// \n",
      "int main() {\n",
      "    // \n",
      "    /* */ \n",
      "    int a = 10;\n",
      "    return 0;\n",
      "}\n"
     ]
    }
   ],
   "source": [
    "def remove_comments(code):\n",
    "    # Remove single-line comments (//)\n",
    "    code = re.sub(r'\\/\\/.*', '// \\\\n', code)\n",
    "    code = re.sub(r'\\/\\*.*?\\*\\/', '/* */ \\\\n', code, flags=re.DOTALL)\n",
    "\n",
    "    # Remove empty lines\n",
    "    code = re.sub(r'^\\s*\\n', '', code, flags=re.MULTILINE)\n",
    "    code = code.strip()\n",
    "    return code\n",
    "\n",
    "# Example code\n",
    "example_code = '''\n",
    "// This is a comment\n",
    "int main() {\n",
    "    // This is another comment\n",
    "    /* This is a multi-line comment */\n",
    "    int a = 10;\n",
    "    return 0;\n",
    "}\n",
    "'''\n",
    "\n",
    "# Remove comments from the code\n",
    "clean_code = remove_comments(example_code)\n",
    "\n",
    "# Print the clean code\n",
    "print(clean_code)"
   ],
   "metadata": {
    "collapsed": false,
    "pycharm": {
     "name": "#%%\n"
    }
   }
  },
  {
   "cell_type": "code",
   "execution_count": 5,
   "outputs": [
    {
     "name": "stdout",
     "output_type": "stream",
     "text": [
      "{'الأساسيات': 1, 'أنواع البيانات': 1, 'المتغيرات': 1, 'التعامل مع الأعداد': 1, 'التعامل مع النصوص': 1, 'العوامل': 1, 'المصفوفات': 1, 'الدوال': 1, 'الحلقات': 1, 'الشروط': 1}\n"
     ]
    },
    {
     "ename": "KeyError",
     "evalue": "'name'",
     "output_type": "error",
     "traceback": [
      "\u001B[1;31m---------------------------------------------------------------------------\u001B[0m",
      "\u001B[1;31mKeyError\u001B[0m                                  Traceback (most recent call last)",
      "Cell \u001B[1;32mIn[5], line 20\u001B[0m\n\u001B[0;32m     17\u001B[0m \u001B[38;5;66;03m# Convert string to a dictionary\u001B[39;00m\n\u001B[0;32m     18\u001B[0m new_dict \u001B[38;5;241m=\u001B[39m \u001B[38;5;28meval\u001B[39m(dict_string)\n\u001B[1;32m---> 20\u001B[0m \u001B[38;5;28mprint\u001B[39m(\u001B[43mnew_dict\u001B[49m\u001B[43m[\u001B[49m\u001B[38;5;124;43m'\u001B[39;49m\u001B[38;5;124;43mname\u001B[39;49m\u001B[38;5;124;43m'\u001B[39;49m\u001B[43m]\u001B[49m)\n",
      "\u001B[1;31mKeyError\u001B[0m: 'name'"
     ]
    }
   ],
   "source": [
    "# Sample dictionary\n",
    "my_dict = {'الأساسيات': 1, 'أنواع البيانات': 1, 'المتغيرات': 1, 'التعامل مع الأعداد': 1, 'التعامل مع النصوص': 1, 'العوامل': 1, 'المصفوفات': 1, 'الدوال': 1, 'الحلقات': 1, 'الشروط': 1}\n",
    "\n",
    "# Convert dictionary to a string\n",
    "dict_string = str(my_dict)\n",
    "\n",
    "print(dict_string)\n",
    "# Convert string to a dictionary\n",
    "new_dict = eval(dict_string)\n",
    "\n",
    "print(new_dict['name'])\n"
   ],
   "metadata": {
    "collapsed": false,
    "pycharm": {
     "name": "#%%\n"
    }
   }
  },
  {
   "cell_type": "code",
   "execution_count": 343,
   "outputs": [
    {
     "name": "stdout",
     "output_type": "stream",
     "text": [
      "{'name': 'John', 'age': 30, 'city': 'New York'}\n"
     ]
    }
   ],
   "source": [
    "# Two sample lists\n",
    "keys = ['name', 'age', 'city']\n",
    "values = ['John', 30, 'New York']\n",
    "\n",
    "# Convert lists to a dictionary\n",
    "my_dict = {key: value for key, value in zip(keys, values)}\n",
    "\n",
    "print(my_dict)"
   ],
   "metadata": {
    "collapsed": false,
    "pycharm": {
     "name": "#%%\n"
    }
   }
  },
  {
   "cell_type": "code",
   "execution_count": 349,
   "outputs": [
    {
     "name": "stdout",
     "output_type": "stream",
     "text": [
      "apple\n"
     ]
    }
   ],
   "source": [
    "import ast\n",
    "\n",
    "# String representation of a list\n",
    "list_string = \"['apple', 'banana', 'orange']\"\n",
    "\n",
    "# Convert string to a list\n",
    "my_list = ast.literal_eval(list_string)\n",
    "\n",
    "print(my_list[0])"
   ],
   "metadata": {
    "collapsed": false,
    "pycharm": {
     "name": "#%%\n"
    }
   }
  },
  {
   "cell_type": "code",
   "execution_count": 15,
   "outputs": [],
   "source": [
    "def euclidean_distance(point1, point2):\n",
    "    point1 = np.array(point1)\n",
    "    point2 = np.array(point2)\n",
    "    distance = np.linalg.norm(point1 - point2)\n",
    "    return distance\n"
   ],
   "metadata": {
    "collapsed": false,
    "pycharm": {
     "name": "#%%\n"
    }
   }
  },
  {
   "cell_type": "code",
   "execution_count": 33,
   "outputs": [
    {
     "name": "stdout",
     "output_type": "stream",
     "text": [
      "70.16409338115899\n",
      "50.45333668130863\n"
     ]
    }
   ],
   "source": [
    "user = [80, 50, 3, 4, 4, 4, 3, 4]\n",
    "problem = [10, 50, 1, 2, 1, 3, 4, 2]\n",
    "distance = euclidean_distance(user, problem)\n",
    "user_max = [0] *2 + [1] * (len(user) - 2)\n",
    "problem_max = [100] *2 + [4] * (len(user) - 2)\n",
    "distance_max = euclidean_distance(user_max, problem_max)\n",
    "print(distance)\n",
    "S = 100 * (1- (distance / distance_max))\n",
    "print(S)"
   ],
   "metadata": {
    "collapsed": false,
    "pycharm": {
     "name": "#%%\n"
    }
   }
  },
  {
   "cell_type": "code",
   "execution_count": null,
   "outputs": [],
   "source": [],
   "metadata": {
    "collapsed": false,
    "pycharm": {
     "name": "#%%\n"
    }
   }
  },
  {
   "cell_type": "code",
   "execution_count": 1,
   "outputs": [
    {
     "name": "stdout",
     "output_type": "stream",
     "text": [
      "{'d': 1, 'b': 2, 'a': 5, 'c': 8}\n"
     ]
    }
   ],
   "source": [
    "my_dict = {'a': 5, 'b': 2, 'c': 8, 'd': 1}\n",
    "\n",
    "# Convert the dictionary into a list of tuples (key, value)\n",
    "sorted_tuples = sorted(my_dict.items(), key=lambda x: x[1])\n",
    "\n",
    "# Create a new dictionary from the sorted list of tuples\n",
    "sorted_dict = dict(sorted_tuples)\n",
    "\n",
    "print(sorted_dict)\n"
   ],
   "metadata": {
    "collapsed": false,
    "pycharm": {
     "name": "#%%\n"
    }
   }
  },
  {
   "cell_type": "code",
   "execution_count": 4,
   "outputs": [
    {
     "name": "stdout",
     "output_type": "stream",
     "text": [
      "{'a': 1, 'b': 2, 'c': 3}\n",
      "[1, 2, 3]\n"
     ]
    }
   ],
   "source": [
    "my_dict = {'b': 2, 'a': 1, 'c': 3}\n",
    "\n",
    "sorted_dict = {k: my_dict[k] for k in sorted(my_dict.keys())}\n",
    "\n",
    "print(sorted_dict)\n",
    "print(list(sorted_dict.values()))\n"
   ],
   "metadata": {
    "collapsed": false,
    "pycharm": {
     "name": "#%%\n"
    }
   }
  },
  {
   "cell_type": "code",
   "execution_count": 38,
   "outputs": [
    {
     "name": "stdout",
     "output_type": "stream",
     "text": [
      "XP Earned: 300\n"
     ]
    }
   ],
   "source": [
    "def calculate_xp(task_difficulty, time_spent, performance):\n",
    "    base_xp = 10  # Base XP for completing a task\n",
    "\n",
    "    # Adjust XP based on task difficulty\n",
    "    difficulty_factor = 10  # Adjust this factor based on difficulty levels\n",
    "    xp = base_xp * task_difficulty\n",
    "\n",
    "    # Adjust XP based on time spent\n",
    "    # time_factor = 0.5  # Adjust this factor based on desired time-to-XP ratio\n",
    "    # xp *= time_factor * time_spent\n",
    "    #\n",
    "    # # Adjust XP based on performance\n",
    "    # performance_factor = performance / 100.0  # Convert performance to a decimal percentage\n",
    "    # xp *= performance_factor\n",
    "\n",
    "    # Apply additional adjustments or factors based on engagement metrics or user-specific variables\n",
    "    # ...\n",
    "    return int(xp)  # Convert XP to an integer value\n",
    "# Example usage\n",
    "task_difficulty = 30  # Example difficulty value (0.0 to 1.0)\n",
    "time_spent = 30  # Example time spent in minutes\n",
    "performance = 80  # Example performance as a percentage\n",
    "\n",
    "xp = calculate_xp(task_difficulty, time_spent, performance)\n",
    "print(f\"XP Earned: {xp}\")\n"
   ],
   "metadata": {
    "collapsed": false,
    "pycharm": {
     "name": "#%%\n"
    }
   }
  },
  {
   "cell_type": "code",
   "execution_count": 97,
   "outputs": [
    {
     "name": "stdout",
     "output_type": "stream",
     "text": [
      "50.0\n"
     ]
    }
   ],
   "source": [
    "import math\n",
    "\n",
    "def map_to_sigmoid(x, y):\n",
    "    normalized_x = (x - 50) / 10\n",
    "    normalized_y = (y - 50) / 10\n",
    "    result = 1 / (1 + math.exp(-(normalized_x - normalized_y))) *100\n",
    "    return result\n",
    "\n",
    "# Example usage\n",
    "x = 80\n",
    "y = 80\n",
    "sigmoid_value = map_to_sigmoid(x, y)\n",
    "print(sigmoid_value)"
   ],
   "metadata": {
    "collapsed": false,
    "pycharm": {
     "name": "#%%\n"
    }
   }
  },
  {
   "cell_type": "code",
   "execution_count": 12,
   "outputs": [
    {
     "name": "stdout",
     "output_type": "stream",
     "text": [
      "{'!': 0, '!=': 0, '\"': 1, '%': 0, '%=': 0, '&': 0, '&&': 0, '&=': 0, \"'\": 0, '*': 0, '*=': 0, '+': 0, '++': 0, '+=': 0, ',': 0, '-': 0, '--': 0, '-=': 0, '/': 0, '//': 0, '/=': 0, ':': 2, ';': 0, '<': 2, '<<': 5, '<<=': 0, '<=': 0, '=': 2, '==': 0, '>': 0, '>=': 0, '>>': 4, '>>=': 0, '?': 2, '[': 0, ']': 0, '^': 0, '^=': 0, '|': 0, '|=': 0, '||': 0, '~': 0}\n"
     ]
    }
   ],
   "source": [
    "code = '''\\n#include <iostream>\\n\\nint main() {\\n\\n\\tint a, b, c, minimum;\\n\\n\\tstd::cout << \\\"Enter a: \\\";\\n\\tstd::cin >> a;\\n\\n\\tstd::cout << \\\"Enter b: \\\";\\n\\tstd::cin >> b;\\n\\n\\tstd::cout << \\\"Enter c: \\\";\\n\\tstd::cin >> c;\\n\\n\\tminimum = (a < b) ? a : b;\\n\\tminimum = (minimum < c) ? minimum : c;\\n\\n\\tstd::cout << \\\"The min number is: \\\" << minimum;\\n\\n\\tchar end; std::cin >> end;\\n\\treturn 0;\\n\\n}\\n\\t\\t'''\n",
    "\n",
    "operators = ['!=', '!',  '\"', '%', '%=', '&', '&&', '&=', \"'\", '*', '*=', '+', '++', '+=', ',', '-', '--', '-=', '/', '//', '/=', ':', ';', '<', '<<', '<<=', '<=', '=', '==', '>', '>=', '>>', '>>=', '?', '[', ']', '^', '^=', '|', '|=', '||', '~']\n",
    "\n",
    "operator_counts = {}\n",
    "\n",
    "for operator in operators:\n",
    "    count = len(re.findall(r'\\s* {} \\s*'.format(re.escape(operator)), code, re.MULTILINE))\n",
    "    operator_counts[operator] = count\n",
    "\n",
    "print(operator_counts)"
   ],
   "metadata": {
    "collapsed": false,
    "pycharm": {
     "name": "#%%\n"
    }
   }
  },
  {
   "cell_type": "code",
   "execution_count": null,
   "outputs": [],
   "source": [],
   "metadata": {
    "collapsed": false,
    "pycharm": {
     "name": "#%%\n"
    }
   }
  }
 ],
 "metadata": {
  "kernelspec": {
   "display_name": "Python 3",
   "language": "python",
   "name": "python3"
  },
  "language_info": {
   "codemirror_mode": {
    "name": "ipython",
    "version": 2
   },
   "file_extension": ".py",
   "mimetype": "text/x-python",
   "name": "python",
   "nbconvert_exporter": "python",
   "pygments_lexer": "ipython2",
   "version": "2.7.6"
  }
 },
 "nbformat": 4,
 "nbformat_minor": 0
}